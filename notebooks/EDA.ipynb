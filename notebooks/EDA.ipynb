{
 "cells": [
  {
   "cell_type": "code",
   "execution_count": 1,
   "metadata": {
    "ExecuteTime": {
     "end_time": "2020-01-05T17:00:24.867330Z",
     "start_time": "2020-01-05T17:00:19.873090Z"
    }
   },
   "outputs": [],
   "source": [
    "import pickle\n",
    "\n",
    "import pandas as pd\n",
    "import numpy as np\n",
    "\n",
    "import matplotlib.pyplot as plt\n",
    "%matplotlib inline\n",
    "import seaborn as sns\n",
    "sns.set(style='white')\n",
    "\n",
    "import warnings\n",
    "warnings.filterwarnings('ignore')"
   ]
  },
  {
   "cell_type": "code",
   "execution_count": 2,
   "metadata": {
    "ExecuteTime": {
     "end_time": "2020-01-05T17:00:25.611061Z",
     "start_time": "2020-01-05T17:00:24.870014Z"
    }
   },
   "outputs": [],
   "source": [
    "# read in csv file, originally downloaded from UCI Repo\n",
    "\n",
    "diab = pd.read_csv('../data/diabetic_data.csv')"
   ]
  },
  {
   "cell_type": "markdown",
   "metadata": {},
   "source": [
    "### Data preprocessing"
   ]
  },
  {
   "cell_type": "code",
   "execution_count": 3,
   "metadata": {
    "ExecuteTime": {
     "end_time": "2020-01-05T17:00:25.755822Z",
     "start_time": "2020-01-05T17:00:25.613296Z"
    }
   },
   "outputs": [],
   "source": [
    "# for clarity\n",
    "\n",
    "diab.rename(columns={'change': 'change_diabetes_med'}, inplace=True)"
   ]
  },
  {
   "cell_type": "code",
   "execution_count": 4,
   "metadata": {
    "ExecuteTime": {
     "end_time": "2020-01-05T17:00:26.286990Z",
     "start_time": "2020-01-05T17:00:25.761813Z"
    }
   },
   "outputs": [],
   "source": [
    "# Replace '?' with nulls\n",
    "\n",
    "diab.replace('?', np.nan, inplace=True)"
   ]
  },
  {
   "cell_type": "code",
   "execution_count": 5,
   "metadata": {
    "ExecuteTime": {
     "end_time": "2020-01-05T17:00:26.483204Z",
     "start_time": "2020-01-05T17:00:26.289056Z"
    }
   },
   "outputs": [],
   "source": [
    "# Dropping features\n",
    "\n",
    "diab.drop(columns='weight', inplace=True) # drop weight column (97% missing)\n",
    "\n",
    "diab.drop(columns=['encounter_id', 'patient_nbr'], inplace=True) # not relevant information\n",
    "\n",
    "diab.drop(columns='citoglipton', inplace=True) # 0 people taking. No predictive value.\n",
    "diab.drop(columns='examide', inplace=True) # 0 people taking. No predictive value.\n",
    "diab.drop(columns='metformin-rosiglitazone', inplace=True) # 0 people taking. No predictive value.\n",
    "\n",
    "diab.drop(columns=['diag_1', 'diag_2', 'diag_3'], inplace=True) # Thousands of possibilities, hard to interpret\n",
    "\n",
    "diab = diab[diab['gender'] != 'Unknown/Invalid'] # Drop 3 rows with 'invalid' gender"
   ]
  },
  {
   "cell_type": "code",
   "execution_count": 6,
   "metadata": {
    "ExecuteTime": {
     "end_time": "2020-01-05T17:00:26.549102Z",
     "start_time": "2020-01-05T17:00:26.485631Z"
    }
   },
   "outputs": [],
   "source": [
    "# Fill null values of categorical features with 'Unknown'\n",
    "\n",
    "diab['race'] = diab['race'].fillna('Unknown') \n",
    "diab['payer_code'] = diab['payer_code'].fillna('Unknown')\n",
    "diab['medical_specialty'] = diab['medical_specialty'].fillna('Unknown')"
   ]
  },
  {
   "cell_type": "code",
   "execution_count": 7,
   "metadata": {
    "ExecuteTime": {
     "end_time": "2020-01-05T17:00:27.538566Z",
     "start_time": "2020-01-05T17:00:26.551181Z"
    }
   },
   "outputs": [],
   "source": [
    "# Replace 'No' with 0. Replace 'Ch' and 'Yes' with 1. \n",
    "\n",
    "diab = diab.replace(to_replace=['No', 'Ch', 'Yes'], value=[0, 1, 1]) "
   ]
  },
  {
   "cell_type": "markdown",
   "metadata": {},
   "source": [
    "### Remove patients who can't be readmitted due to death, hospice care, or prolonged inpatient stay"
   ]
  },
  {
   "cell_type": "code",
   "execution_count": 8,
   "metadata": {
    "ExecuteTime": {
     "end_time": "2020-01-05T17:00:27.586159Z",
     "start_time": "2020-01-05T17:00:27.542761Z"
    }
   },
   "outputs": [],
   "source": [
    "no_readmit = diab['discharge_disposition_id'].isin([5, 8, 9, 11, 12, 13, 14, 19, 20, 21, 23, 24])\n",
    "diab = diab.loc[~no_readmit]"
   ]
  },
  {
   "cell_type": "markdown",
   "metadata": {},
   "source": [
    "### Label Discharge ID's"
   ]
  },
  {
   "cell_type": "code",
   "execution_count": 9,
   "metadata": {
    "ExecuteTime": {
     "end_time": "2020-01-05T17:00:27.865262Z",
     "start_time": "2020-01-05T17:00:27.588697Z"
    }
   },
   "outputs": [],
   "source": [
    "# Make new column \"Discharged_to\" that maps Discharge IDs to understandable outcomes\n",
    "# ~ 88% of patients are discharged home or to an SNF \n",
    "\n",
    "diab.loc[diab['discharge_disposition_id'] == 27, 'Discharged_to'] = 'Federal_health_care_facility'\n",
    "diab.loc[diab['discharge_disposition_id'] == 10, 'Discharged_to'] = 'Neonate_hospital'\n",
    "diab.loc[diab['discharge_disposition_id'] == 16, 'Discharged_to'] = 'Outside_outpatient_services'\n",
    "diab.loc[diab['discharge_disposition_id'] == 17, 'Discharged_to'] = 'Inhouse_outpatient_services'\n",
    "diab.loc[diab['discharge_disposition_id'] == 15, 'Discharged_to'] = 'Medicare_approved_swingbed'\n",
    "diab.loc[diab['discharge_disposition_id'] == 28, 'Discharged_to'] = 'Psychiatric_hospital'\n",
    "diab.loc[diab['discharge_disposition_id'] == 7, 'Discharged_to'] = 'Against_medical_advice***'\n",
    "diab.loc[diab['discharge_disposition_id'] == 4, 'Discharged_to'] = 'Intermediate_care_facility'\n",
    "diab.loc[diab['discharge_disposition_id'] == 25, 'Discharged_to'] = 'Info_unavailable'\n",
    "diab.loc[diab['discharge_disposition_id'] == 22, 'Discharged_to'] = 'Rehab_facility'\n",
    "diab.loc[diab['discharge_disposition_id'] == 2, 'Discharged_to'] = 'Another_short_term_hospital'\n",
    "diab.loc[diab['discharge_disposition_id'] == 18, 'Discharged_to'] = 'NULL'\n",
    "diab.loc[diab['discharge_disposition_id'] == 6, 'Discharged_to'] = 'Home_with_home_health_service'\n",
    "diab.loc[diab['discharge_disposition_id'] == 3, 'Discharged_to'] = 'Skilled_nursing_facility'\n",
    "diab.loc[diab['discharge_disposition_id'] == 1, 'Discharged_to'] = 'Home' # ~ 61% of patients discharged home w/o services"
   ]
  },
  {
   "cell_type": "code",
   "execution_count": 10,
   "metadata": {
    "ExecuteTime": {
     "end_time": "2020-01-05T17:00:27.895221Z",
     "start_time": "2020-01-05T17:00:27.867489Z"
    }
   },
   "outputs": [],
   "source": [
    "diab.drop(columns='discharge_disposition_id', inplace=True) # drop the original column"
   ]
  },
  {
   "cell_type": "markdown",
   "metadata": {},
   "source": [
    "### Reformat Age Values"
   ]
  },
  {
   "cell_type": "code",
   "execution_count": 11,
   "metadata": {
    "ExecuteTime": {
     "end_time": "2020-01-05T17:00:28.051203Z",
     "start_time": "2020-01-05T17:00:27.897493Z"
    },
    "scrolled": true
   },
   "outputs": [],
   "source": [
    "# For readability purposes\n",
    "\n",
    "diab.loc[diab['age'] == '[70-80)', 'age'] = '70-80'\n",
    "diab.loc[diab['age'] == '[60-70)', 'age'] = '60-70'\n",
    "diab.loc[diab['age'] == '[50-60)', 'age'] = '50-60'\n",
    "diab.loc[diab['age'] == '[80-90)', 'age'] = '80-90'\n",
    "diab.loc[diab['age'] == '[40-50)', 'age'] = '40-50'\n",
    "diab.loc[diab['age'] == '[30-40)', 'age'] = '30-40'\n",
    "diab.loc[diab['age'] == '[90-100)', 'age'] = '90-100'\n",
    "diab.loc[diab['age'] == '[20-30)', 'age'] = '20-30'\n",
    "diab.loc[diab['age'] == '[10-20)', 'age'] = '10-20'\n",
    "diab.loc[diab['age'] == '[0-10)', 'age'] = '0-10'"
   ]
  },
  {
   "cell_type": "markdown",
   "metadata": {},
   "source": [
    "### Label Admission Type ID's"
   ]
  },
  {
   "cell_type": "code",
   "execution_count": 12,
   "metadata": {
    "ExecuteTime": {
     "end_time": "2020-01-05T17:00:28.238131Z",
     "start_time": "2020-01-05T17:00:28.053673Z"
    }
   },
   "outputs": [],
   "source": [
    "# Make new column \"admission_type\" that maps numerical ID's to understandable admission type information \n",
    "# ~ 70% of encounters are tagged 'emergency' or 'urgent'\n",
    "\n",
    "diab.loc[diab['admission_type_id'] == 1, 'admission_type'] = 'Emergency' # 53% of admissions are emergency visits\n",
    "diab.loc[diab['admission_type_id'] == 3, 'admission_type'] = 'Elective'\n",
    "diab.loc[diab['admission_type_id'] == 2, 'admission_type'] = 'Urgent'\n",
    "diab.loc[diab['admission_type_id'] == 6, 'admission_type'] = 'NULL'\n",
    "diab.loc[diab['admission_type_id'] == 5, 'admission_type'] = 'Not_available'\n",
    "diab.loc[diab['admission_type_id'] == 8, 'admission_type'] = 'Not_mapped'\n",
    "diab.loc[diab['admission_type_id'] == 7, 'admission_type'] = 'Trauma_center'\n",
    "diab.loc[diab['admission_type_id'] == 4, 'admission_type'] = 'Newborn'"
   ]
  },
  {
   "cell_type": "code",
   "execution_count": 13,
   "metadata": {
    "ExecuteTime": {
     "end_time": "2020-01-05T17:00:28.268522Z",
     "start_time": "2020-01-05T17:00:28.240291Z"
    }
   },
   "outputs": [],
   "source": [
    "diab.drop(columns='admission_type_id', inplace=True) # drop the original column"
   ]
  },
  {
   "cell_type": "markdown",
   "metadata": {},
   "source": [
    "### Label Admission Source ID's"
   ]
  },
  {
   "cell_type": "code",
   "execution_count": 14,
   "metadata": {
    "ExecuteTime": {
     "end_time": "2020-01-05T17:00:28.547583Z",
     "start_time": "2020-01-05T17:00:28.270958Z"
    }
   },
   "outputs": [],
   "source": [
    "# Make new column \"admission_source\" that maps numerical ID's to understandable admission source information\n",
    "# ~85% of patients come via ER or physician referral\n",
    "\n",
    "diab.loc[diab['admission_source_id'] == 7, 'admission_source'] = 'Emergency_room' # ~56% for ER visit\n",
    "diab.loc[diab['admission_source_id'] == 1, 'admission_source'] = 'Physician_referral'\n",
    "diab.loc[diab['admission_source_id'] == 17, 'admission_source'] = 'NULL'\n",
    "diab.loc[diab['admission_source_id'] == 4, 'admission_source'] = 'Transfer_from_hospital'\n",
    "diab.loc[diab['admission_source_id'] == 6, 'admission_source'] = 'Transfer_from_other_healthcare_facility'\n",
    "diab.loc[diab['admission_source_id'] == 2, 'admission_source'] = 'Clinic_referral'\n",
    "diab.loc[diab['admission_source_id'] == 5, 'admission_source'] = 'Transfer_from_SNF'\n",
    "diab.loc[diab['admission_source_id'] == 3, 'admission_source'] = 'HMO_referral'\n",
    "diab.loc[diab['admission_source_id'] == 20, 'admission_source'] = 'Not_mapped'\n",
    "diab.loc[diab['admission_source_id'] == 9, 'admission_source'] = 'Not_available'\n",
    "diab.loc[diab['admission_source_id'] == 8, 'admission_source'] = 'Law_enforcement'\n",
    "diab.loc[diab['admission_source_id'] == 22, 'admission_source'] = 'Transfer_from_inpatient_care_from_same_facility'\n",
    "diab.loc[diab['admission_source_id'] == 10, 'admission_source'] = 'Transfer_from_critical_access_hospital'\n",
    "diab.loc[diab['admission_source_id'] == 11, 'admission_source'] = 'Normal_delivery'\n",
    "diab.loc[diab['admission_source_id'] == 14, 'admission_source'] = 'Extramural_birth'\n",
    "diab.loc[diab['admission_source_id'] == 25, 'admission_source'] = 'Transfer_from_ambulatory_surgery'\n",
    "diab.loc[diab['admission_source_id'] == 13, 'admission_source'] = 'Sick_baby'"
   ]
  },
  {
   "cell_type": "code",
   "execution_count": 15,
   "metadata": {
    "ExecuteTime": {
     "end_time": "2020-01-05T17:00:28.576938Z",
     "start_time": "2020-01-05T17:00:28.549531Z"
    }
   },
   "outputs": [],
   "source": [
    "diab.drop(columns='admission_source_id', inplace=True) # drop the original column"
   ]
  },
  {
   "cell_type": "markdown",
   "metadata": {},
   "source": [
    "### Define target variable"
   ]
  },
  {
   "cell_type": "code",
   "execution_count": 16,
   "metadata": {
    "ExecuteTime": {
     "end_time": "2020-01-05T17:00:28.602446Z",
     "start_time": "2020-01-05T17:00:28.579429Z"
    }
   },
   "outputs": [
    {
     "data": {
      "text/plain": [
       "NO     51608\n",
       ">30    34952\n",
       "<30    11004\n",
       "Name: readmitted, dtype: int64"
      ]
     },
     "execution_count": 16,
     "metadata": {},
     "output_type": "execute_result"
    }
   ],
   "source": [
    "# 12-13% of patients are readmitted within 30 days\n",
    "\n",
    "diab['readmitted'].value_counts()"
   ]
  },
  {
   "cell_type": "code",
   "execution_count": 17,
   "metadata": {
    "ExecuteTime": {
     "end_time": "2020-01-05T17:00:28.622365Z",
     "start_time": "2020-01-05T17:00:28.604698Z"
    }
   },
   "outputs": [],
   "source": [
    "# Define target \"positive\" variable to be readmission within 30 days\n",
    "\n",
    "diab['readmitted_within_30days'] = (diab['readmitted'] == '<30').astype(int)"
   ]
  },
  {
   "cell_type": "code",
   "execution_count": 18,
   "metadata": {
    "ExecuteTime": {
     "end_time": "2020-01-05T17:00:28.641902Z",
     "start_time": "2020-01-05T17:00:28.626483Z"
    }
   },
   "outputs": [
    {
     "data": {
      "text/plain": [
       "0    86560\n",
       "1    11004\n",
       "Name: readmitted_within_30days, dtype: int64"
      ]
     },
     "execution_count": 18,
     "metadata": {},
     "output_type": "execute_result"
    }
   ],
   "source": [
    "diab['readmitted_within_30days'].value_counts()"
   ]
  },
  {
   "cell_type": "code",
   "execution_count": 19,
   "metadata": {
    "ExecuteTime": {
     "end_time": "2020-01-05T17:00:28.684938Z",
     "start_time": "2020-01-05T17:00:28.645723Z"
    }
   },
   "outputs": [],
   "source": [
    "# Don't want model to 'cheat'\n",
    "\n",
    "diab.drop(columns='readmitted', inplace=True)"
   ]
  },
  {
   "cell_type": "code",
   "execution_count": 20,
   "metadata": {
    "ExecuteTime": {
     "end_time": "2020-01-05T17:00:28.696182Z",
     "start_time": "2020-01-05T17:00:28.687556Z"
    }
   },
   "outputs": [],
   "source": [
    "# Export to CSV (before one-hot encoding and other feature engineering) \n",
    "\n",
    "# diab.to_csv('Diabetes_1.csv', index=False)"
   ]
  },
  {
   "cell_type": "markdown",
   "metadata": {},
   "source": [
    "### EDA"
   ]
  },
  {
   "cell_type": "code",
   "execution_count": 21,
   "metadata": {
    "ExecuteTime": {
     "end_time": "2020-01-05T17:00:29.135380Z",
     "start_time": "2020-01-05T17:00:28.699011Z"
    }
   },
   "outputs": [
    {
     "data": {
      "image/png": "[encoded data removed]",
      "text/plain": [
       "<Figure size 720x432 with 1 Axes>"
      ]
     },
     "metadata": {
      "needs_background": "light"
     },
     "output_type": "display_data"
    }
   ],
   "source": [
    "# Distribution of patient age\n",
    "\n",
    "plt.figure(figsize=(10, 6))\n",
    "\n",
    "ax = sns.countplot(diab['age'])\n",
    "\n",
    "ax.set(xlabel='Age',\n",
    "       ylabel='Number of patients', \n",
    "       title='Distribution of Patient Age');"
   ]
  },
  {
   "cell_type": "code",
   "execution_count": 22,
   "metadata": {
    "ExecuteTime": {
     "end_time": "2020-01-05T17:00:29.308678Z",
     "start_time": "2020-01-05T17:00:29.139323Z"
    },
    "scrolled": true
   },
   "outputs": [
    {
     "data": {
      "image/png": "[encoded data removed]",
      "text/plain": [
       "<Figure size 576x360 with 1 Axes>"
      ]
     },
     "metadata": {
      "needs_background": "light"
     },
     "output_type": "display_data"
    }
   ],
   "source": [
    "# Hospital readmission rate\n",
    "\n",
    "plt.figure(figsize=(8, 5))\n",
    "\n",
    "ax = sns.countplot(diab['readmitted_within_30days'])\n",
    "\n",
    "ax.set(xlabel='Readmitted within 30 days',\n",
    "       ylabel='Number of patients',\n",
    "       title='Distribution of Hospital Readmission');"
   ]
  },
  {
   "cell_type": "code",
   "execution_count": 23,
   "metadata": {
    "ExecuteTime": {
     "end_time": "2020-01-05T17:00:29.672656Z",
     "start_time": "2020-01-05T17:00:29.311250Z"
    },
    "scrolled": false
   },
   "outputs": [
    {
     "data": {
      "image/png": "[encoded data removed]",
      "text/plain": [
       "<Figure size 720x432 with 1 Axes>"
      ]
     },
     "metadata": {
      "needs_background": "light"
     },
     "output_type": "display_data"
    }
   ],
   "source": [
    "# Readmission by age of patient\n",
    "\n",
    "plt.figure(figsize=(10, 6))\n",
    "\n",
    "ax = sns.countplot(diab['age'], hue=diab['readmitted_within_30days'])\n",
    "\n",
    "ax.set(xlabel='Age',\n",
    "       ylabel='Number of patients',\n",
    "       title='Hospital Readmission by Age');"
   ]
  },
  {
   "cell_type": "code",
   "execution_count": 24,
   "metadata": {
    "ExecuteTime": {
     "end_time": "2020-01-05T17:00:29.981878Z",
     "start_time": "2020-01-05T17:00:29.676087Z"
    }
   },
   "outputs": [
    {
     "data": {
      "image/png": "[encoded data removed]",
      "text/plain": [
       "<Figure size 720x432 with 1 Axes>"
      ]
     },
     "metadata": {
      "needs_background": "light"
     },
     "output_type": "display_data"
    }
   ],
   "source": [
    "# Readmission by gender of patient\n",
    "\n",
    "plt.figure(figsize=(10, 6))\n",
    "\n",
    "ax = sns.countplot(diab['gender'], hue=diab['readmitted_within_30days'])\n",
    "\n",
    "ax.set(xlabel='Gender',\n",
    "       ylabel='Number of patients',\n",
    "       title='Hospital Readmission by Gender');"
   ]
  },
  {
   "cell_type": "markdown",
   "metadata": {},
   "source": [
    "### Why is A1C test so often not administered?"
   ]
  },
  {
   "cell_type": "code",
   "execution_count": 25,
   "metadata": {
    "ExecuteTime": {
     "end_time": "2020-01-05T17:00:30.327562Z",
     "start_time": "2020-01-05T17:00:29.985463Z"
    }
   },
   "outputs": [
    {
     "data": {
      "image/png": "[encoded data removed]",
      "text/plain": [
       "<Figure size 1080x504 with 1 Axes>"
      ]
     },
     "metadata": {
      "needs_background": "light"
     },
     "output_type": "display_data"
    }
   ],
   "source": [
    "# How often is A1C measured?\n",
    "# A1C is a sound measure of a patient's blood glucose level over the past 2-3 months. \n",
    "# Very important for diabetes monitoring.\n",
    "# This chart reflects how often this simple test is overlooked during patient's initial hospitalization. \n",
    "\n",
    "plt.figure(figsize=(15, 7))\n",
    "\n",
    "ax = sns.countplot(diab['A1Cresult'])\n",
    "\n",
    "ax.set(xlabel='A1C Level',\n",
    "       ylabel='Number of patients',\n",
    "       title='A1C is Infrequently Monitored');"
   ]
  },
  {
   "cell_type": "code",
   "execution_count": 26,
   "metadata": {
    "ExecuteTime": {
     "end_time": "2020-01-05T17:00:30.740267Z",
     "start_time": "2020-01-05T17:00:30.331462Z"
    }
   },
   "outputs": [
    {
     "data": {
      "image/png": "[encoded data removed]",
      "text/plain": [
       "<Figure size 1080x504 with 1 Axes>"
      ]
     },
     "metadata": {
      "needs_background": "light"
     },
     "output_type": "display_data"
    }
   ],
   "source": [
    "# Readmission by A1C Monitoring\n",
    "\n",
    "plt.figure(figsize=(15, 7))\n",
    "\n",
    "ax = sns.countplot(diab['A1Cresult'], hue=diab['readmitted_within_30days'])\n",
    "\n",
    "ax.set(xlabel='A1C Level',\n",
    "       ylabel='Number of patients',\n",
    "       title='Hospital Readmission by A1C Monitoring');"
   ]
  },
  {
   "cell_type": "code",
   "execution_count": 43,
   "metadata": {
    "ExecuteTime": {
     "end_time": "2020-01-05T17:01:15.093803Z",
     "start_time": "2020-01-05T17:01:14.948722Z"
    },
    "scrolled": true
   },
   "outputs": [
    {
     "data": {
      "text/html": [
       "<div>\n",
       "<style scoped>\n",
       "    .dataframe tbody tr th:only-of-type {\n",
       "        vertical-align: middle;\n",
       "    }\n",
       "\n",
       "    .dataframe tbody tr th {\n",
       "        vertical-align: top;\n",
       "    }\n",
       "\n",
       "    .dataframe thead th {\n",
       "        text-align: right;\n",
       "    }\n",
       "</style>\n",
       "<table border=\"1\" class=\"dataframe\">\n",
       "  <thead>\n",
       "    <tr style=\"text-align: right;\">\n",
       "      <th></th>\n",
       "      <th>Discharged_to</th>\n",
       "      <th>readmitted_within_30days</th>\n",
       "      <th>race</th>\n",
       "      <th>gender</th>\n",
       "      <th>age</th>\n",
       "      <th>time_in_hospital</th>\n",
       "      <th>payer_code</th>\n",
       "      <th>medical_specialty</th>\n",
       "      <th>num_lab_procedures</th>\n",
       "      <th>num_procedures</th>\n",
       "      <th>...</th>\n",
       "      <th>tolazamide</th>\n",
       "      <th>insulin</th>\n",
       "      <th>glyburide-metformin</th>\n",
       "      <th>glipizide-metformin</th>\n",
       "      <th>glimepiride-pioglitazone</th>\n",
       "      <th>metformin-pioglitazone</th>\n",
       "      <th>change_diabetes_med</th>\n",
       "      <th>diabetesMed</th>\n",
       "      <th>admission_type</th>\n",
       "      <th>admission_source</th>\n",
       "    </tr>\n",
       "  </thead>\n",
       "  <tbody>\n",
       "    <tr>\n",
       "      <th>0</th>\n",
       "      <td>Against_medical_advice***</td>\n",
       "      <td>0</td>\n",
       "      <td>533</td>\n",
       "      <td>533</td>\n",
       "      <td>533</td>\n",
       "      <td>533</td>\n",
       "      <td>533</td>\n",
       "      <td>533</td>\n",
       "      <td>533</td>\n",
       "      <td>533</td>\n",
       "      <td>...</td>\n",
       "      <td>533</td>\n",
       "      <td>533</td>\n",
       "      <td>533</td>\n",
       "      <td>533</td>\n",
       "      <td>533</td>\n",
       "      <td>533</td>\n",
       "      <td>533</td>\n",
       "      <td>533</td>\n",
       "      <td>533</td>\n",
       "      <td>533</td>\n",
       "    </tr>\n",
       "    <tr>\n",
       "      <th>1</th>\n",
       "      <td>Against_medical_advice***</td>\n",
       "      <td>1</td>\n",
       "      <td>90</td>\n",
       "      <td>90</td>\n",
       "      <td>90</td>\n",
       "      <td>90</td>\n",
       "      <td>90</td>\n",
       "      <td>90</td>\n",
       "      <td>90</td>\n",
       "      <td>90</td>\n",
       "      <td>...</td>\n",
       "      <td>90</td>\n",
       "      <td>90</td>\n",
       "      <td>90</td>\n",
       "      <td>90</td>\n",
       "      <td>90</td>\n",
       "      <td>90</td>\n",
       "      <td>90</td>\n",
       "      <td>90</td>\n",
       "      <td>90</td>\n",
       "      <td>90</td>\n",
       "    </tr>\n",
       "    <tr>\n",
       "      <th>2</th>\n",
       "      <td>Another_short_term_hospital</td>\n",
       "      <td>0</td>\n",
       "      <td>1786</td>\n",
       "      <td>1786</td>\n",
       "      <td>1786</td>\n",
       "      <td>1786</td>\n",
       "      <td>1786</td>\n",
       "      <td>1786</td>\n",
       "      <td>1786</td>\n",
       "      <td>1786</td>\n",
       "      <td>...</td>\n",
       "      <td>1786</td>\n",
       "      <td>1786</td>\n",
       "      <td>1786</td>\n",
       "      <td>1786</td>\n",
       "      <td>1786</td>\n",
       "      <td>1786</td>\n",
       "      <td>1786</td>\n",
       "      <td>1786</td>\n",
       "      <td>1786</td>\n",
       "      <td>1786</td>\n",
       "    </tr>\n",
       "    <tr>\n",
       "      <th>3</th>\n",
       "      <td>Another_short_term_hospital</td>\n",
       "      <td>1</td>\n",
       "      <td>342</td>\n",
       "      <td>342</td>\n",
       "      <td>342</td>\n",
       "      <td>342</td>\n",
       "      <td>342</td>\n",
       "      <td>342</td>\n",
       "      <td>342</td>\n",
       "      <td>342</td>\n",
       "      <td>...</td>\n",
       "      <td>342</td>\n",
       "      <td>342</td>\n",
       "      <td>342</td>\n",
       "      <td>342</td>\n",
       "      <td>342</td>\n",
       "      <td>342</td>\n",
       "      <td>342</td>\n",
       "      <td>342</td>\n",
       "      <td>342</td>\n",
       "      <td>342</td>\n",
       "    </tr>\n",
       "    <tr>\n",
       "      <th>4</th>\n",
       "      <td>Federal_health_care_facility</td>\n",
       "      <td>0</td>\n",
       "      <td>5</td>\n",
       "      <td>5</td>\n",
       "      <td>5</td>\n",
       "      <td>5</td>\n",
       "      <td>5</td>\n",
       "      <td>5</td>\n",
       "      <td>5</td>\n",
       "      <td>5</td>\n",
       "      <td>...</td>\n",
       "      <td>5</td>\n",
       "      <td>5</td>\n",
       "      <td>5</td>\n",
       "      <td>5</td>\n",
       "      <td>5</td>\n",
       "      <td>5</td>\n",
       "      <td>5</td>\n",
       "      <td>5</td>\n",
       "      <td>5</td>\n",
       "      <td>5</td>\n",
       "    </tr>\n",
       "  </tbody>\n",
       "</table>\n",
       "<p>5 rows × 41 columns</p>\n",
       "</div>"
      ],
      "text/plain": [
       "                  Discharged_to  readmitted_within_30days  race  gender   age  \\\n",
       "0     Against_medical_advice***                         0   533     533   533   \n",
       "1     Against_medical_advice***                         1    90      90    90   \n",
       "2   Another_short_term_hospital                         0  1786    1786  1786   \n",
       "3   Another_short_term_hospital                         1   342     342   342   \n",
       "4  Federal_health_care_facility                         0     5       5     5   \n",
       "\n",
       "   time_in_hospital  payer_code  medical_specialty  num_lab_procedures  \\\n",
       "0               533         533                533                 533   \n",
       "1                90          90                 90                  90   \n",
       "2              1786        1786               1786                1786   \n",
       "3               342         342                342                 342   \n",
       "4                 5           5                  5                   5   \n",
       "\n",
       "   num_procedures        ...         tolazamide  insulin  glyburide-metformin  \\\n",
       "0             533        ...                533      533                  533   \n",
       "1              90        ...                 90       90                   90   \n",
       "2            1786        ...               1786     1786                 1786   \n",
       "3             342        ...                342      342                  342   \n",
       "4               5        ...                  5        5                    5   \n",
       "\n",
       "   glipizide-metformin  glimepiride-pioglitazone  metformin-pioglitazone  \\\n",
       "0                  533                       533                     533   \n",
       "1                   90                        90                      90   \n",
       "2                 1786                      1786                    1786   \n",
       "3                  342                       342                     342   \n",
       "4                    5                         5                       5   \n",
       "\n",
       "   change_diabetes_med  diabetesMed  admission_type  admission_source  \n",
       "0                  533          533             533               533  \n",
       "1                   90           90              90                90  \n",
       "2                 1786         1786            1786              1786  \n",
       "3                  342          342             342               342  \n",
       "4                    5            5               5                 5  \n",
       "\n",
       "[5 rows x 41 columns]"
      ]
     },
     "execution_count": 43,
     "metadata": {},
     "output_type": "execute_result"
    }
   ],
   "source": [
    "# Higher likelihood of readmission within 30 days when released to\n",
    "# rehab facility (28%) than those who left \"against medical advice\" (14%)\n",
    "\n",
    "diab.groupby(['Discharged_to', 'readmitted_within_30days']).count().reset_index().head()"
   ]
  },
  {
   "cell_type": "code",
   "execution_count": 28,
   "metadata": {
    "ExecuteTime": {
     "end_time": "2020-01-05T17:00:31.061723Z",
     "start_time": "2020-01-05T17:00:30.909044Z"
    }
   },
   "outputs": [
    {
     "data": {
      "text/html": [
       "<div>\n",
       "<style scoped>\n",
       "    .dataframe tbody tr th:only-of-type {\n",
       "        vertical-align: middle;\n",
       "    }\n",
       "\n",
       "    .dataframe tbody tr th {\n",
       "        vertical-align: top;\n",
       "    }\n",
       "\n",
       "    .dataframe thead th {\n",
       "        text-align: right;\n",
       "    }\n",
       "</style>\n",
       "<table border=\"1\" class=\"dataframe\">\n",
       "  <thead>\n",
       "    <tr style=\"text-align: right;\">\n",
       "      <th></th>\n",
       "      <th></th>\n",
       "      <th>race</th>\n",
       "      <th>gender</th>\n",
       "      <th>age</th>\n",
       "      <th>time_in_hospital</th>\n",
       "      <th>payer_code</th>\n",
       "      <th>medical_specialty</th>\n",
       "      <th>num_lab_procedures</th>\n",
       "      <th>num_procedures</th>\n",
       "      <th>num_medications</th>\n",
       "      <th>number_outpatient</th>\n",
       "      <th>...</th>\n",
       "      <th>insulin</th>\n",
       "      <th>glyburide-metformin</th>\n",
       "      <th>glipizide-metformin</th>\n",
       "      <th>glimepiride-pioglitazone</th>\n",
       "      <th>metformin-pioglitazone</th>\n",
       "      <th>change_diabetes_med</th>\n",
       "      <th>diabetesMed</th>\n",
       "      <th>Discharged_to</th>\n",
       "      <th>admission_type</th>\n",
       "      <th>admission_source</th>\n",
       "    </tr>\n",
       "    <tr>\n",
       "      <th>number_inpatient</th>\n",
       "      <th>readmitted_within_30days</th>\n",
       "      <th></th>\n",
       "      <th></th>\n",
       "      <th></th>\n",
       "      <th></th>\n",
       "      <th></th>\n",
       "      <th></th>\n",
       "      <th></th>\n",
       "      <th></th>\n",
       "      <th></th>\n",
       "      <th></th>\n",
       "      <th></th>\n",
       "      <th></th>\n",
       "      <th></th>\n",
       "      <th></th>\n",
       "      <th></th>\n",
       "      <th></th>\n",
       "      <th></th>\n",
       "      <th></th>\n",
       "      <th></th>\n",
       "      <th></th>\n",
       "      <th></th>\n",
       "    </tr>\n",
       "  </thead>\n",
       "  <tbody>\n",
       "    <tr>\n",
       "      <th rowspan=\"2\" valign=\"top\">0</th>\n",
       "      <th>0</th>\n",
       "      <td>59561</td>\n",
       "      <td>59561</td>\n",
       "      <td>59561</td>\n",
       "      <td>59561</td>\n",
       "      <td>59561</td>\n",
       "      <td>59561</td>\n",
       "      <td>59561</td>\n",
       "      <td>59561</td>\n",
       "      <td>59561</td>\n",
       "      <td>59561</td>\n",
       "      <td>...</td>\n",
       "      <td>59561</td>\n",
       "      <td>59561</td>\n",
       "      <td>59561</td>\n",
       "      <td>59561</td>\n",
       "      <td>59561</td>\n",
       "      <td>59561</td>\n",
       "      <td>59561</td>\n",
       "      <td>59561</td>\n",
       "      <td>59561</td>\n",
       "      <td>59561</td>\n",
       "    </tr>\n",
       "    <tr>\n",
       "      <th>1</th>\n",
       "      <td>5518</td>\n",
       "      <td>5518</td>\n",
       "      <td>5518</td>\n",
       "      <td>5518</td>\n",
       "      <td>5518</td>\n",
       "      <td>5518</td>\n",
       "      <td>5518</td>\n",
       "      <td>5518</td>\n",
       "      <td>5518</td>\n",
       "      <td>5518</td>\n",
       "      <td>...</td>\n",
       "      <td>5518</td>\n",
       "      <td>5518</td>\n",
       "      <td>5518</td>\n",
       "      <td>5518</td>\n",
       "      <td>5518</td>\n",
       "      <td>5518</td>\n",
       "      <td>5518</td>\n",
       "      <td>5518</td>\n",
       "      <td>5518</td>\n",
       "      <td>5518</td>\n",
       "    </tr>\n",
       "    <tr>\n",
       "      <th rowspan=\"2\" valign=\"top\">1</th>\n",
       "      <th>0</th>\n",
       "      <td>16194</td>\n",
       "      <td>16194</td>\n",
       "      <td>16194</td>\n",
       "      <td>16194</td>\n",
       "      <td>16194</td>\n",
       "      <td>16194</td>\n",
       "      <td>16194</td>\n",
       "      <td>16194</td>\n",
       "      <td>16194</td>\n",
       "      <td>16194</td>\n",
       "      <td>...</td>\n",
       "      <td>16194</td>\n",
       "      <td>16194</td>\n",
       "      <td>16194</td>\n",
       "      <td>16194</td>\n",
       "      <td>16194</td>\n",
       "      <td>16194</td>\n",
       "      <td>16194</td>\n",
       "      <td>16194</td>\n",
       "      <td>16194</td>\n",
       "      <td>16194</td>\n",
       "    </tr>\n",
       "    <tr>\n",
       "      <th>1</th>\n",
       "      <td>2441</td>\n",
       "      <td>2441</td>\n",
       "      <td>2441</td>\n",
       "      <td>2441</td>\n",
       "      <td>2441</td>\n",
       "      <td>2441</td>\n",
       "      <td>2441</td>\n",
       "      <td>2441</td>\n",
       "      <td>2441</td>\n",
       "      <td>2441</td>\n",
       "      <td>...</td>\n",
       "      <td>2441</td>\n",
       "      <td>2441</td>\n",
       "      <td>2441</td>\n",
       "      <td>2441</td>\n",
       "      <td>2441</td>\n",
       "      <td>2441</td>\n",
       "      <td>2441</td>\n",
       "      <td>2441</td>\n",
       "      <td>2441</td>\n",
       "      <td>2441</td>\n",
       "    </tr>\n",
       "    <tr>\n",
       "      <th>2</th>\n",
       "      <th>0</th>\n",
       "      <td>5887</td>\n",
       "      <td>5887</td>\n",
       "      <td>5887</td>\n",
       "      <td>5887</td>\n",
       "      <td>5887</td>\n",
       "      <td>5887</td>\n",
       "      <td>5887</td>\n",
       "      <td>5887</td>\n",
       "      <td>5887</td>\n",
       "      <td>5887</td>\n",
       "      <td>...</td>\n",
       "      <td>5887</td>\n",
       "      <td>5887</td>\n",
       "      <td>5887</td>\n",
       "      <td>5887</td>\n",
       "      <td>5887</td>\n",
       "      <td>5887</td>\n",
       "      <td>5887</td>\n",
       "      <td>5887</td>\n",
       "      <td>5887</td>\n",
       "      <td>5887</td>\n",
       "    </tr>\n",
       "  </tbody>\n",
       "</table>\n",
       "<p>5 rows × 39 columns</p>\n",
       "</div>"
      ],
      "text/plain": [
       "                                            race  gender    age  \\\n",
       "number_inpatient readmitted_within_30days                         \n",
       "0                0                         59561   59561  59561   \n",
       "                 1                          5518    5518   5518   \n",
       "1                0                         16194   16194  16194   \n",
       "                 1                          2441    2441   2441   \n",
       "2                0                          5887    5887   5887   \n",
       "\n",
       "                                           time_in_hospital  payer_code  \\\n",
       "number_inpatient readmitted_within_30days                                 \n",
       "0                0                                    59561       59561   \n",
       "                 1                                     5518        5518   \n",
       "1                0                                    16194       16194   \n",
       "                 1                                     2441        2441   \n",
       "2                0                                     5887        5887   \n",
       "\n",
       "                                           medical_specialty  \\\n",
       "number_inpatient readmitted_within_30days                      \n",
       "0                0                                     59561   \n",
       "                 1                                      5518   \n",
       "1                0                                     16194   \n",
       "                 1                                      2441   \n",
       "2                0                                      5887   \n",
       "\n",
       "                                           num_lab_procedures  num_procedures  \\\n",
       "number_inpatient readmitted_within_30days                                       \n",
       "0                0                                      59561           59561   \n",
       "                 1                                       5518            5518   \n",
       "1                0                                      16194           16194   \n",
       "                 1                                       2441            2441   \n",
       "2                0                                       5887            5887   \n",
       "\n",
       "                                           num_medications  number_outpatient  \\\n",
       "number_inpatient readmitted_within_30days                                       \n",
       "0                0                                   59561              59561   \n",
       "                 1                                    5518               5518   \n",
       "1                0                                   16194              16194   \n",
       "                 1                                    2441               2441   \n",
       "2                0                                    5887               5887   \n",
       "\n",
       "                                                 ...         insulin  \\\n",
       "number_inpatient readmitted_within_30days        ...                   \n",
       "0                0                               ...           59561   \n",
       "                 1                               ...            5518   \n",
       "1                0                               ...           16194   \n",
       "                 1                               ...            2441   \n",
       "2                0                               ...            5887   \n",
       "\n",
       "                                           glyburide-metformin  \\\n",
       "number_inpatient readmitted_within_30days                        \n",
       "0                0                                       59561   \n",
       "                 1                                        5518   \n",
       "1                0                                       16194   \n",
       "                 1                                        2441   \n",
       "2                0                                        5887   \n",
       "\n",
       "                                           glipizide-metformin  \\\n",
       "number_inpatient readmitted_within_30days                        \n",
       "0                0                                       59561   \n",
       "                 1                                        5518   \n",
       "1                0                                       16194   \n",
       "                 1                                        2441   \n",
       "2                0                                        5887   \n",
       "\n",
       "                                           glimepiride-pioglitazone  \\\n",
       "number_inpatient readmitted_within_30days                             \n",
       "0                0                                            59561   \n",
       "                 1                                             5518   \n",
       "1                0                                            16194   \n",
       "                 1                                             2441   \n",
       "2                0                                             5887   \n",
       "\n",
       "                                           metformin-pioglitazone  \\\n",
       "number_inpatient readmitted_within_30days                           \n",
       "0                0                                          59561   \n",
       "                 1                                           5518   \n",
       "1                0                                          16194   \n",
       "                 1                                           2441   \n",
       "2                0                                           5887   \n",
       "\n",
       "                                           change_diabetes_med  diabetesMed  \\\n",
       "number_inpatient readmitted_within_30days                                     \n",
       "0                0                                       59561        59561   \n",
       "                 1                                        5518         5518   \n",
       "1                0                                       16194        16194   \n",
       "                 1                                        2441         2441   \n",
       "2                0                                        5887         5887   \n",
       "\n",
       "                                           Discharged_to  admission_type  \\\n",
       "number_inpatient readmitted_within_30days                                  \n",
       "0                0                                 59561           59561   \n",
       "                 1                                  5518            5518   \n",
       "1                0                                 16194           16194   \n",
       "                 1                                  2441            2441   \n",
       "2                0                                  5887            5887   \n",
       "\n",
       "                                           admission_source  \n",
       "number_inpatient readmitted_within_30days                    \n",
       "0                0                                    59561  \n",
       "                 1                                     5518  \n",
       "1                0                                    16194  \n",
       "                 1                                     2441  \n",
       "2                0                                     5887  \n",
       "\n",
       "[5 rows x 39 columns]"
      ]
     },
     "execution_count": 28,
     "metadata": {},
     "output_type": "execute_result"
    }
   ],
   "source": [
    "# More prior inpatient encounters =  higher chance of readmission within 30 days\n",
    "\n",
    "diab.groupby(['number_inpatient', 'readmitted_within_30days']).count().head()"
   ]
  },
  {
   "cell_type": "code",
   "execution_count": 29,
   "metadata": {
    "ExecuteTime": {
     "end_time": "2020-01-05T17:00:31.204079Z",
     "start_time": "2020-01-05T17:00:31.064324Z"
    }
   },
   "outputs": [
    {
     "data": {
      "text/html": [
       "<div>\n",
       "<style scoped>\n",
       "    .dataframe tbody tr th:only-of-type {\n",
       "        vertical-align: middle;\n",
       "    }\n",
       "\n",
       "    .dataframe tbody tr th {\n",
       "        vertical-align: top;\n",
       "    }\n",
       "\n",
       "    .dataframe thead th {\n",
       "        text-align: right;\n",
       "    }\n",
       "</style>\n",
       "<table border=\"1\" class=\"dataframe\">\n",
       "  <thead>\n",
       "    <tr style=\"text-align: right;\">\n",
       "      <th></th>\n",
       "      <th>number_emergency</th>\n",
       "      <th>readmitted_within_30days</th>\n",
       "      <th>race</th>\n",
       "      <th>gender</th>\n",
       "      <th>age</th>\n",
       "      <th>time_in_hospital</th>\n",
       "      <th>payer_code</th>\n",
       "      <th>medical_specialty</th>\n",
       "      <th>num_lab_procedures</th>\n",
       "      <th>num_procedures</th>\n",
       "      <th>...</th>\n",
       "      <th>insulin</th>\n",
       "      <th>glyburide-metformin</th>\n",
       "      <th>glipizide-metformin</th>\n",
       "      <th>glimepiride-pioglitazone</th>\n",
       "      <th>metformin-pioglitazone</th>\n",
       "      <th>change_diabetes_med</th>\n",
       "      <th>diabetesMed</th>\n",
       "      <th>Discharged_to</th>\n",
       "      <th>admission_type</th>\n",
       "      <th>admission_source</th>\n",
       "    </tr>\n",
       "  </thead>\n",
       "  <tbody>\n",
       "    <tr>\n",
       "      <th>0</th>\n",
       "      <td>0</td>\n",
       "      <td>0</td>\n",
       "      <td>77476</td>\n",
       "      <td>77476</td>\n",
       "      <td>77476</td>\n",
       "      <td>77476</td>\n",
       "      <td>77476</td>\n",
       "      <td>77476</td>\n",
       "      <td>77476</td>\n",
       "      <td>77476</td>\n",
       "      <td>...</td>\n",
       "      <td>77476</td>\n",
       "      <td>77476</td>\n",
       "      <td>77476</td>\n",
       "      <td>77476</td>\n",
       "      <td>77476</td>\n",
       "      <td>77476</td>\n",
       "      <td>77476</td>\n",
       "      <td>77476</td>\n",
       "      <td>77476</td>\n",
       "      <td>77476</td>\n",
       "    </tr>\n",
       "    <tr>\n",
       "      <th>1</th>\n",
       "      <td>0</td>\n",
       "      <td>1</td>\n",
       "      <td>9152</td>\n",
       "      <td>9152</td>\n",
       "      <td>9152</td>\n",
       "      <td>9152</td>\n",
       "      <td>9152</td>\n",
       "      <td>9152</td>\n",
       "      <td>9152</td>\n",
       "      <td>9152</td>\n",
       "      <td>...</td>\n",
       "      <td>9152</td>\n",
       "      <td>9152</td>\n",
       "      <td>9152</td>\n",
       "      <td>9152</td>\n",
       "      <td>9152</td>\n",
       "      <td>9152</td>\n",
       "      <td>9152</td>\n",
       "      <td>9152</td>\n",
       "      <td>9152</td>\n",
       "      <td>9152</td>\n",
       "    </tr>\n",
       "    <tr>\n",
       "      <th>2</th>\n",
       "      <td>1</td>\n",
       "      <td>0</td>\n",
       "      <td>6291</td>\n",
       "      <td>6291</td>\n",
       "      <td>6291</td>\n",
       "      <td>6291</td>\n",
       "      <td>6291</td>\n",
       "      <td>6291</td>\n",
       "      <td>6291</td>\n",
       "      <td>6291</td>\n",
       "      <td>...</td>\n",
       "      <td>6291</td>\n",
       "      <td>6291</td>\n",
       "      <td>6291</td>\n",
       "      <td>6291</td>\n",
       "      <td>6291</td>\n",
       "      <td>6291</td>\n",
       "      <td>6291</td>\n",
       "      <td>6291</td>\n",
       "      <td>6291</td>\n",
       "      <td>6291</td>\n",
       "    </tr>\n",
       "    <tr>\n",
       "      <th>3</th>\n",
       "      <td>1</td>\n",
       "      <td>1</td>\n",
       "      <td>1078</td>\n",
       "      <td>1078</td>\n",
       "      <td>1078</td>\n",
       "      <td>1078</td>\n",
       "      <td>1078</td>\n",
       "      <td>1078</td>\n",
       "      <td>1078</td>\n",
       "      <td>1078</td>\n",
       "      <td>...</td>\n",
       "      <td>1078</td>\n",
       "      <td>1078</td>\n",
       "      <td>1078</td>\n",
       "      <td>1078</td>\n",
       "      <td>1078</td>\n",
       "      <td>1078</td>\n",
       "      <td>1078</td>\n",
       "      <td>1078</td>\n",
       "      <td>1078</td>\n",
       "      <td>1078</td>\n",
       "    </tr>\n",
       "    <tr>\n",
       "      <th>4</th>\n",
       "      <td>2</td>\n",
       "      <td>0</td>\n",
       "      <td>1586</td>\n",
       "      <td>1586</td>\n",
       "      <td>1586</td>\n",
       "      <td>1586</td>\n",
       "      <td>1586</td>\n",
       "      <td>1586</td>\n",
       "      <td>1586</td>\n",
       "      <td>1586</td>\n",
       "      <td>...</td>\n",
       "      <td>1586</td>\n",
       "      <td>1586</td>\n",
       "      <td>1586</td>\n",
       "      <td>1586</td>\n",
       "      <td>1586</td>\n",
       "      <td>1586</td>\n",
       "      <td>1586</td>\n",
       "      <td>1586</td>\n",
       "      <td>1586</td>\n",
       "      <td>1586</td>\n",
       "    </tr>\n",
       "  </tbody>\n",
       "</table>\n",
       "<p>5 rows × 41 columns</p>\n",
       "</div>"
      ],
      "text/plain": [
       "   number_emergency  readmitted_within_30days   race  gender    age  \\\n",
       "0                 0                         0  77476   77476  77476   \n",
       "1                 0                         1   9152    9152   9152   \n",
       "2                 1                         0   6291    6291   6291   \n",
       "3                 1                         1   1078    1078   1078   \n",
       "4                 2                         0   1586    1586   1586   \n",
       "\n",
       "   time_in_hospital  payer_code  medical_specialty  num_lab_procedures  \\\n",
       "0             77476       77476              77476               77476   \n",
       "1              9152        9152               9152                9152   \n",
       "2              6291        6291               6291                6291   \n",
       "3              1078        1078               1078                1078   \n",
       "4              1586        1586               1586                1586   \n",
       "\n",
       "   num_procedures        ...         insulin  glyburide-metformin  \\\n",
       "0           77476        ...           77476                77476   \n",
       "1            9152        ...            9152                 9152   \n",
       "2            6291        ...            6291                 6291   \n",
       "3            1078        ...            1078                 1078   \n",
       "4            1586        ...            1586                 1586   \n",
       "\n",
       "   glipizide-metformin  glimepiride-pioglitazone  metformin-pioglitazone  \\\n",
       "0                77476                     77476                   77476   \n",
       "1                 9152                      9152                    9152   \n",
       "2                 6291                      6291                    6291   \n",
       "3                 1078                      1078                    1078   \n",
       "4                 1586                      1586                    1586   \n",
       "\n",
       "   change_diabetes_med  diabetesMed  Discharged_to  admission_type  \\\n",
       "0                77476        77476          77476           77476   \n",
       "1                 9152         9152           9152            9152   \n",
       "2                 6291         6291           6291            6291   \n",
       "3                 1078         1078           1078            1078   \n",
       "4                 1586         1586           1586            1586   \n",
       "\n",
       "   admission_source  \n",
       "0             77476  \n",
       "1              9152  \n",
       "2              6291  \n",
       "3              1078  \n",
       "4              1586  \n",
       "\n",
       "[5 rows x 41 columns]"
      ]
     },
     "execution_count": 29,
     "metadata": {},
     "output_type": "execute_result"
    }
   ],
   "source": [
    "# More prior emergency encounters = higher chance of readmission within 30 days\n",
    "\n",
    "diab.groupby(['number_emergency', 'readmitted_within_30days']).count().reset_index().head()"
   ]
  },
  {
   "cell_type": "markdown",
   "metadata": {},
   "source": [
    "### One hot encoding"
   ]
  },
  {
   "cell_type": "code",
   "execution_count": 30,
   "metadata": {
    "ExecuteTime": {
     "end_time": "2020-01-05T17:00:31.479243Z",
     "start_time": "2020-01-05T17:00:31.206797Z"
    }
   },
   "outputs": [],
   "source": [
    "# All categorical featurese\n",
    "\n",
    "cats = ['race', 'gender', 'age', 'max_glu_serum', 'A1Cresult', 'admission_type', 'Discharged_to', 'admission_source',\n",
    "        'payer_code', 'medical_specialty', 'change_diabetes_med', 'diabetesMed', 'insulin', 'metformin', 'glipizide',\n",
    "        'glyburide', 'repaglinide', 'nateglinide', 'chlorpropamide', 'glimepiride', 'tolbutamide', 'pioglitazone',\n",
    "        'rosiglitazone', 'acarbose', 'miglitol', 'troglitazone', 'tolazamide', 'glyburide-metformin', 'glipizide-metformin',\n",
    "        'metformin-pioglitazone', 'acetohexamide', 'glimepiride-pioglitazone', 'readmitted_within_30days']\n",
    "\n",
    "df_cat = pd.get_dummies(diab[cats])"
   ]
  },
  {
   "cell_type": "markdown",
   "metadata": {},
   "source": [
    "### Numerical variables"
   ]
  },
  {
   "cell_type": "code",
   "execution_count": 31,
   "metadata": {
    "ExecuteTime": {
     "end_time": "2020-01-05T17:00:31.488330Z",
     "start_time": "2020-01-05T17:00:31.481249Z"
    }
   },
   "outputs": [],
   "source": [
    "nums = ['number_outpatient', 'number_inpatient', 'number_emergency', 'number_diagnoses',\n",
    "        'time_in_hospital', 'num_lab_procedures', 'num_procedures', 'num_medications']\n",
    "\n",
    "df_num = diab[nums]"
   ]
  },
  {
   "cell_type": "markdown",
   "metadata": {},
   "source": [
    "### Concatenate numerical and categorical DataFrames into master DataFrame"
   ]
  },
  {
   "cell_type": "code",
   "execution_count": 32,
   "metadata": {
    "ExecuteTime": {
     "end_time": "2020-01-05T17:00:31.528433Z",
     "start_time": "2020-01-05T17:00:31.493925Z"
    }
   },
   "outputs": [],
   "source": [
    "df = pd.concat([df_num, df_cat], axis=1)"
   ]
  },
  {
   "cell_type": "code",
   "execution_count": 33,
   "metadata": {
    "ExecuteTime": {
     "end_time": "2020-01-05T17:00:31.539177Z",
     "start_time": "2020-01-05T17:00:31.532623Z"
    }
   },
   "outputs": [],
   "source": [
    "# Move target variable to the final column for readability purposes\n",
    "\n",
    "target = df.pop('readmitted_within_30days')\n",
    "df['readmitted_within_30days'] = target"
   ]
  },
  {
   "cell_type": "code",
   "execution_count": 34,
   "metadata": {
    "ExecuteTime": {
     "end_time": "2020-01-05T17:00:31.574699Z",
     "start_time": "2020-01-05T17:00:31.542071Z"
    }
   },
   "outputs": [],
   "source": [
    "# Rename columns to avoid XGBoost error\n",
    "\n",
    "df.rename(columns={'max_glu_serum_>200': 'max_glu_serum_greater_200',\n",
    "                     'max_glu_serum_>300': 'max_glu_serum_greater_300',\n",
    "                     'A1Cresult_>7': 'A1Cresult_greater_7',\n",
    "                     'A1Cresult_>8': 'A1Cresult_greater_8',\n",
    "                      }, inplace=True)"
   ]
  },
  {
   "cell_type": "markdown",
   "metadata": {},
   "source": [
    "### EDA part 2"
   ]
  },
  {
   "cell_type": "code",
   "execution_count": 35,
   "metadata": {
    "ExecuteTime": {
     "end_time": "2020-01-05T17:00:31.963303Z",
     "start_time": "2020-01-05T17:00:31.578430Z"
    }
   },
   "outputs": [
    {
     "data": {
      "text/html": [
       "<div>\n",
       "<style scoped>\n",
       "    .dataframe tbody tr th:only-of-type {\n",
       "        vertical-align: middle;\n",
       "    }\n",
       "\n",
       "    .dataframe tbody tr th {\n",
       "        vertical-align: top;\n",
       "    }\n",
       "\n",
       "    .dataframe thead th {\n",
       "        text-align: right;\n",
       "    }\n",
       "</style>\n",
       "<table border=\"1\" class=\"dataframe\">\n",
       "  <thead>\n",
       "    <tr style=\"text-align: right;\">\n",
       "      <th></th>\n",
       "      <th>number_outpatient</th>\n",
       "      <th>number_inpatient</th>\n",
       "      <th>number_emergency</th>\n",
       "      <th>number_diagnoses</th>\n",
       "      <th>time_in_hospital</th>\n",
       "      <th>num_lab_procedures</th>\n",
       "      <th>num_procedures</th>\n",
       "      <th>num_medications</th>\n",
       "      <th>change_diabetes_med</th>\n",
       "      <th>diabetesMed</th>\n",
       "      <th>...</th>\n",
       "      <th>glyburide-metformin_Steady</th>\n",
       "      <th>glyburide-metformin_Up</th>\n",
       "      <th>glipizide-metformin_0</th>\n",
       "      <th>glipizide-metformin_Steady</th>\n",
       "      <th>metformin-pioglitazone_0</th>\n",
       "      <th>metformin-pioglitazone_Steady</th>\n",
       "      <th>acetohexamide_0</th>\n",
       "      <th>acetohexamide_Steady</th>\n",
       "      <th>glimepiride-pioglitazone_0</th>\n",
       "      <th>glimepiride-pioglitazone_Steady</th>\n",
       "    </tr>\n",
       "    <tr>\n",
       "      <th>readmitted_within_30days</th>\n",
       "      <th></th>\n",
       "      <th></th>\n",
       "      <th></th>\n",
       "      <th></th>\n",
       "      <th></th>\n",
       "      <th></th>\n",
       "      <th></th>\n",
       "      <th></th>\n",
       "      <th></th>\n",
       "      <th></th>\n",
       "      <th></th>\n",
       "      <th></th>\n",
       "      <th></th>\n",
       "      <th></th>\n",
       "      <th></th>\n",
       "      <th></th>\n",
       "      <th></th>\n",
       "      <th></th>\n",
       "      <th></th>\n",
       "      <th></th>\n",
       "      <th></th>\n",
       "    </tr>\n",
       "  </thead>\n",
       "  <tbody>\n",
       "    <tr>\n",
       "      <th>0</th>\n",
       "      <td>0.362835</td>\n",
       "      <td>0.554286</td>\n",
       "      <td>0.178674</td>\n",
       "      <td>7.361114</td>\n",
       "      <td>4.298972</td>\n",
       "      <td>42.675716</td>\n",
       "      <td>1.341751</td>\n",
       "      <td>15.821003</td>\n",
       "      <td>0.460860</td>\n",
       "      <td>0.768403</td>\n",
       "      <td>...</td>\n",
       "      <td>0.006966</td>\n",
       "      <td>0.000092</td>\n",
       "      <td>0.999861</td>\n",
       "      <td>0.000139</td>\n",
       "      <td>0.999988</td>\n",
       "      <td>0.000012</td>\n",
       "      <td>0.999988</td>\n",
       "      <td>0.000012</td>\n",
       "      <td>0.999988</td>\n",
       "      <td>0.000012</td>\n",
       "    </tr>\n",
       "    <tr>\n",
       "      <th>1</th>\n",
       "      <td>0.441839</td>\n",
       "      <td>1.231189</td>\n",
       "      <td>0.361778</td>\n",
       "      <td>7.699836</td>\n",
       "      <td>4.752090</td>\n",
       "      <td>44.203835</td>\n",
       "      <td>1.287804</td>\n",
       "      <td>16.893857</td>\n",
       "      <td>0.490004</td>\n",
       "      <td>0.802254</td>\n",
       "      <td>...</td>\n",
       "      <td>0.006634</td>\n",
       "      <td>0.000000</td>\n",
       "      <td>0.999909</td>\n",
       "      <td>0.000091</td>\n",
       "      <td>1.000000</td>\n",
       "      <td>0.000000</td>\n",
       "      <td>1.000000</td>\n",
       "      <td>0.000000</td>\n",
       "      <td>1.000000</td>\n",
       "      <td>0.000000</td>\n",
       "    </tr>\n",
       "  </tbody>\n",
       "</table>\n",
       "<p>2 rows × 234 columns</p>\n",
       "</div>"
      ],
      "text/plain": [
       "                          number_outpatient  number_inpatient  \\\n",
       "readmitted_within_30days                                        \n",
       "0                                  0.362835          0.554286   \n",
       "1                                  0.441839          1.231189   \n",
       "\n",
       "                          number_emergency  number_diagnoses  \\\n",
       "readmitted_within_30days                                       \n",
       "0                                 0.178674          7.361114   \n",
       "1                                 0.361778          7.699836   \n",
       "\n",
       "                          time_in_hospital  num_lab_procedures  \\\n",
       "readmitted_within_30days                                         \n",
       "0                                 4.298972           42.675716   \n",
       "1                                 4.752090           44.203835   \n",
       "\n",
       "                          num_procedures  num_medications  \\\n",
       "readmitted_within_30days                                    \n",
       "0                               1.341751        15.821003   \n",
       "1                               1.287804        16.893857   \n",
       "\n",
       "                          change_diabetes_med  diabetesMed  \\\n",
       "readmitted_within_30days                                     \n",
       "0                                    0.460860     0.768403   \n",
       "1                                    0.490004     0.802254   \n",
       "\n",
       "                                       ...                 \\\n",
       "readmitted_within_30days               ...                  \n",
       "0                                      ...                  \n",
       "1                                      ...                  \n",
       "\n",
       "                          glyburide-metformin_Steady  glyburide-metformin_Up  \\\n",
       "readmitted_within_30days                                                       \n",
       "0                                           0.006966                0.000092   \n",
       "1                                           0.006634                0.000000   \n",
       "\n",
       "                          glipizide-metformin_0  glipizide-metformin_Steady  \\\n",
       "readmitted_within_30days                                                      \n",
       "0                                      0.999861                    0.000139   \n",
       "1                                      0.999909                    0.000091   \n",
       "\n",
       "                          metformin-pioglitazone_0  \\\n",
       "readmitted_within_30days                             \n",
       "0                                         0.999988   \n",
       "1                                         1.000000   \n",
       "\n",
       "                          metformin-pioglitazone_Steady  acetohexamide_0  \\\n",
       "readmitted_within_30days                                                   \n",
       "0                                              0.000012         0.999988   \n",
       "1                                              0.000000         1.000000   \n",
       "\n",
       "                          acetohexamide_Steady  glimepiride-pioglitazone_0  \\\n",
       "readmitted_within_30days                                                     \n",
       "0                                     0.000012                    0.999988   \n",
       "1                                     0.000000                    1.000000   \n",
       "\n",
       "                          glimepiride-pioglitazone_Steady  \n",
       "readmitted_within_30days                                   \n",
       "0                                                0.000012  \n",
       "1                                                0.000000  \n",
       "\n",
       "[2 rows x 234 columns]"
      ]
     },
     "execution_count": 35,
     "metadata": {},
     "output_type": "execute_result"
    }
   ],
   "source": [
    "# Cursory glance at which factors influence readmission rates\n",
    "\n",
    "df.groupby(['readmitted_within_30days']).mean()"
   ]
  },
  {
   "cell_type": "markdown",
   "metadata": {},
   "source": [
    "### Simply testing A1C levels may lower readmission rates "
   ]
  },
  {
   "cell_type": "code",
   "execution_count": 36,
   "metadata": {
    "ExecuteTime": {
     "end_time": "2020-01-05T17:00:31.978461Z",
     "start_time": "2020-01-05T17:00:31.966956Z"
    }
   },
   "outputs": [
    {
     "data": {
      "text/plain": [
       "readmitted_within_30days\n",
       "0    0.827923\n",
       "1    0.852781\n",
       "Name: A1Cresult_None, dtype: float64"
      ]
     },
     "execution_count": 36,
     "metadata": {},
     "output_type": "execute_result"
    }
   ],
   "source": [
    "# Patients who are readmitted in < 30 days are LESS likely to have had A1C measured \n",
    "# than those who were not readmitted in < 30 days.\n",
    "\n",
    "df.groupby(['readmitted_within_30days'])['A1Cresult_None'].mean()"
   ]
  },
  {
   "cell_type": "code",
   "execution_count": 37,
   "metadata": {
    "ExecuteTime": {
     "end_time": "2020-01-05T17:00:31.994144Z",
     "start_time": "2020-01-05T17:00:31.982710Z"
    }
   },
   "outputs": [
    {
     "data": {
      "text/plain": [
       "readmitted_within_30days\n",
       "0    0.050578\n",
       "1    0.042439\n",
       "Name: A1Cresult_Norm, dtype: float64"
      ]
     },
     "execution_count": 37,
     "metadata": {},
     "output_type": "execute_result"
    }
   ],
   "source": [
    "# Patients who are readmitted in < 30 days are LESS likely to have had a normal A1C result\n",
    "# than those who were not readmitted in < 30 days \n",
    "\n",
    "df.groupby(['readmitted_within_30days'])['A1Cresult_Norm'].mean()"
   ]
  },
  {
   "cell_type": "markdown",
   "metadata": {},
   "source": [
    "### Pickle"
   ]
  },
  {
   "cell_type": "code",
   "execution_count": 45,
   "metadata": {
    "ExecuteTime": {
     "end_time": "2020-01-05T17:02:00.551694Z",
     "start_time": "2020-01-05T17:02:00.486940Z"
    }
   },
   "outputs": [],
   "source": [
    "# pickle for modeling in separate Jupyter Notebook\n",
    "\n",
    "with open('../pickles-csv/df.pkl', 'wb') as f:\n",
    "    pickle.dump(df, f)"
   ]
  },
  {
   "cell_type": "code",
   "execution_count": null,
   "metadata": {},
   "outputs": [],
   "source": []
  }
 ],
 "metadata": {
  "kernelspec": {
   "display_name": "Python 3",
   "language": "python",
   "name": "python3"
  },
  "language_info": {
   "codemirror_mode": {
    "name": "ipython",
    "version": 3
   },
   "file_extension": ".py",
   "mimetype": "text/x-python",
   "name": "python",
   "nbconvert_exporter": "python",
   "pygments_lexer": "ipython3",
   "version": "3.5.6"
  },
  "toc": {
   "base_numbering": 1,
   "nav_menu": {},
   "number_sections": true,
   "sideBar": true,
   "skip_h1_title": false,
   "title_cell": "Table of Contents",
   "title_sidebar": "Contents",
   "toc_cell": false,
   "toc_position": {},
   "toc_section_display": true,
   "toc_window_display": false
  }
 },
 "nbformat": 4,
 "nbformat_minor": 2
}
