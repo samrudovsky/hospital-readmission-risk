{
 "cells": [
  {
   "cell_type": "code",
   "execution_count": 1,
   "metadata": {
    "ExecuteTime": {
     "end_time": "2019-12-27T17:38:13.776870Z",
     "start_time": "2019-12-27T17:38:10.529751Z"
    }
   },
   "outputs": [],
   "source": [
    "import pickle\n",
    "\n",
    "import pandas as pd\n",
    "import numpy as np\n",
    "\n",
    "import matplotlib.pyplot as plt\n",
    "%matplotlib inline\n",
    "import seaborn as sns\n",
    "sns.set(style='white')\n",
    "\n",
    "import warnings\n",
    "warnings.filterwarnings('ignore')"
   ]
  },
  {
   "cell_type": "code",
   "execution_count": 5,
   "metadata": {
    "ExecuteTime": {
     "end_time": "2019-12-27T17:38:42.619100Z",
     "start_time": "2019-12-27T17:38:41.881672Z"
    }
   },
   "outputs": [],
   "source": [
    "# read in csv file, originally downloaded from UCI Repo\n",
    "\n",
    "diab = pd.read_csv('../data/diabetic_data.csv')"
   ]
  },
  {
   "cell_type": "markdown",
   "metadata": {},
   "source": [
    "### Data preprocessing"
   ]
  },
  {
   "cell_type": "code",
   "execution_count": 6,
   "metadata": {
    "ExecuteTime": {
     "end_time": "2019-12-27T17:38:45.758242Z",
     "start_time": "2019-12-27T17:38:45.658118Z"
    }
   },
   "outputs": [],
   "source": [
    "# for clarity\n",
    "\n",
    "diab.rename(columns={'change': 'change_diabetes_med'}, inplace=True)"
   ]
  },
  {
   "cell_type": "code",
   "execution_count": 7,
   "metadata": {
    "ExecuteTime": {
     "end_time": "2019-12-27T17:38:47.463400Z",
     "start_time": "2019-12-27T17:38:46.976585Z"
    }
   },
   "outputs": [],
   "source": [
    "# Replace '?' with nulls\n",
    "\n",
    "diab.replace('?', np.nan, inplace=True)"
   ]
  },
  {
   "cell_type": "code",
   "execution_count": 8,
   "metadata": {
    "ExecuteTime": {
     "end_time": "2019-12-27T17:38:48.265234Z",
     "start_time": "2019-12-27T17:38:48.076300Z"
    }
   },
   "outputs": [],
   "source": [
    "# Dropping features\n",
    "\n",
    "diab.drop(columns='weight', inplace=True) # drop weight column (97% missing)\n",
    "\n",
    "diab.drop(columns=['encounter_id', 'patient_nbr'], inplace=True) # not relevant information\n",
    "\n",
    "diab.drop(columns='citoglipton', inplace=True) # 0 people taking. No predictive value.\n",
    "diab.drop(columns='examide', inplace=True) # 0 people taking. No predictive value.\n",
    "diab.drop(columns='metformin-rosiglitazone', inplace=True) # 0 people taking. No predictive value.\n",
    "\n",
    "diab.drop(columns=['diag_1', 'diag_2', 'diag_3'], inplace=True) # Thousands of possibilities, hard to interpret\n",
    "\n",
    "diab = diab[diab['gender'] != 'Unknown/Invalid'] # Drop 3 rows with 'invalid' gender"
   ]
  },
  {
   "cell_type": "code",
   "execution_count": 9,
   "metadata": {
    "ExecuteTime": {
     "end_time": "2019-12-27T17:38:51.136820Z",
     "start_time": "2019-12-27T17:38:51.048381Z"
    }
   },
   "outputs": [],
   "source": [
    "# Fill null values of categorical features with 'Unknown'\n",
    "\n",
    "diab['race'] = diab['race'].fillna('Unknown') \n",
    "diab['payer_code'] = diab['payer_code'].fillna('Unknown')\n",
    "diab['medical_specialty'] = diab['medical_specialty'].fillna('Unknown')"
   ]
  },
  {
   "cell_type": "code",
   "execution_count": 11,
   "metadata": {
    "ExecuteTime": {
     "end_time": "2019-12-27T17:39:25.022766Z",
     "start_time": "2019-12-27T17:39:24.178472Z"
    }
   },
   "outputs": [],
   "source": [
    "# Replace 'No' with 0. Replace 'Ch' and 'Yes' with 1. \n",
    "\n",
    "diab = diab.replace(to_replace=['No', 'Ch', 'Yes'], value=[0, 1, 1]) "
   ]
  },
  {
   "cell_type": "markdown",
   "metadata": {},
   "source": [
    "### Remove patients who can't be readmitted due to death, hospice care, or prolonged inpatient stay"
   ]
  },
  {
   "cell_type": "code",
   "execution_count": 12,
   "metadata": {
    "ExecuteTime": {
     "end_time": "2019-12-27T17:39:27.203160Z",
     "start_time": "2019-12-27T17:39:27.167727Z"
    }
   },
   "outputs": [],
   "source": [
    "no_readmit = diab['discharge_disposition_id'].isin([5, 8, 9, 11, 12, 13, 14, 19, 20, 21, 23, 24])\n",
    "diab = diab.loc[~no_readmit]"
   ]
  },
  {
   "cell_type": "markdown",
   "metadata": {},
   "source": [
    "### Label Discharge ID's"
   ]
  },
  {
   "cell_type": "code",
   "execution_count": 13,
   "metadata": {
    "ExecuteTime": {
     "end_time": "2019-12-27T17:39:28.920789Z",
     "start_time": "2019-12-27T17:39:28.638405Z"
    }
   },
   "outputs": [],
   "source": [
    "# Make new column \"Discharged_to\" that maps Discharge IDs to understandable outcomes\n",
    "# ~ 88% of patients are discharged home or to an SNF \n",
    "\n",
    "diab.loc[diab['discharge_disposition_id'] == 27, 'Discharged_to'] = 'Federal_health_care_facility'\n",
    "diab.loc[diab['discharge_disposition_id'] == 10, 'Discharged_to'] = 'Neonate_hospital'\n",
    "diab.loc[diab['discharge_disposition_id'] == 16, 'Discharged_to'] = 'Outside_outpatient_services'\n",
    "diab.loc[diab['discharge_disposition_id'] == 17, 'Discharged_to'] = 'Inhouse_outpatient_services'\n",
    "diab.loc[diab['discharge_disposition_id'] == 15, 'Discharged_to'] = 'Medicare_approved_swingbed'\n",
    "diab.loc[diab['discharge_disposition_id'] == 28, 'Discharged_to'] = 'Psychiatric_hospital'\n",
    "diab.loc[diab['discharge_disposition_id'] == 7, 'Discharged_to'] = 'Against_medical_advice***'\n",
    "diab.loc[diab['discharge_disposition_id'] == 4, 'Discharged_to'] = 'Intermediate_care_facility'\n",
    "diab.loc[diab['discharge_disposition_id'] == 25, 'Discharged_to'] = 'Info_unavailable'\n",
    "diab.loc[diab['discharge_disposition_id'] == 22, 'Discharged_to'] = 'Rehab_facility'\n",
    "diab.loc[diab['discharge_disposition_id'] == 2, 'Discharged_to'] = 'Another_short_term_hospital'\n",
    "diab.loc[diab['discharge_disposition_id'] == 18, 'Discharged_to'] = 'NULL'\n",
    "diab.loc[diab['discharge_disposition_id'] == 6, 'Discharged_to'] = 'Home_with_home_health_service'\n",
    "diab.loc[diab['discharge_disposition_id'] == 3, 'Discharged_to'] = 'Skilled_nursing_facility'\n",
    "diab.loc[diab['discharge_disposition_id'] == 1, 'Discharged_to'] = 'Home' # ~ 61% of patients discharged home w/o services"
   ]
  },
  {
   "cell_type": "code",
   "execution_count": 14,
   "metadata": {
    "ExecuteTime": {
     "end_time": "2019-12-27T17:39:29.457204Z",
     "start_time": "2019-12-27T17:39:29.428743Z"
    }
   },
   "outputs": [],
   "source": [
    "diab.drop(columns='discharge_disposition_id', inplace=True) # drop the original column"
   ]
  },
  {
   "cell_type": "markdown",
   "metadata": {},
   "source": [
    "### Reformat Age Values"
   ]
  },
  {
   "cell_type": "code",
   "execution_count": 15,
   "metadata": {
    "ExecuteTime": {
     "end_time": "2019-12-27T17:39:29.880970Z",
     "start_time": "2019-12-27T17:39:29.714747Z"
    },
    "scrolled": true
   },
   "outputs": [],
   "source": [
    "# For readability purposes\n",
    "\n",
    "diab.loc[diab['age'] == '[70-80)', 'age'] = '70-80'\n",
    "diab.loc[diab['age'] == '[60-70)', 'age'] = '60-70'\n",
    "diab.loc[diab['age'] == '[50-60)', 'age'] = '50-60'\n",
    "diab.loc[diab['age'] == '[80-90)', 'age'] = '80-90'\n",
    "diab.loc[diab['age'] == '[40-50)', 'age'] = '40-50'\n",
    "diab.loc[diab['age'] == '[30-40)', 'age'] = '30-40'\n",
    "diab.loc[diab['age'] == '[90-100)', 'age'] = '90-100'\n",
    "diab.loc[diab['age'] == '[20-30)', 'age'] = '20-30'\n",
    "diab.loc[diab['age'] == '[10-20)', 'age'] = '10-20'\n",
    "diab.loc[diab['age'] == '[0-10)', 'age'] = '0-10'"
   ]
  },
  {
   "cell_type": "markdown",
   "metadata": {},
   "source": [
    "### Label Admission Type ID's"
   ]
  },
  {
   "cell_type": "code",
   "execution_count": 16,
   "metadata": {
    "ExecuteTime": {
     "end_time": "2019-12-27T17:39:30.288844Z",
     "start_time": "2019-12-27T17:39:30.080747Z"
    }
   },
   "outputs": [],
   "source": [
    "# Make new column \"admission_type\" that maps numerical ID's to understandable admission type information \n",
    "# ~ 70% of encounters are tagged 'emergency' or 'urgent'\n",
    "\n",
    "diab.loc[diab['admission_type_id'] == 1, 'admission_type'] = 'Emergency' # 53% of admissions are emergency visits\n",
    "diab.loc[diab['admission_type_id'] == 3, 'admission_type'] = 'Elective'\n",
    "diab.loc[diab['admission_type_id'] == 2, 'admission_type'] = 'Urgent'\n",
    "diab.loc[diab['admission_type_id'] == 6, 'admission_type'] = 'NULL'\n",
    "diab.loc[diab['admission_type_id'] == 5, 'admission_type'] = 'Not_available'\n",
    "diab.loc[diab['admission_type_id'] == 8, 'admission_type'] = 'Not_mapped'\n",
    "diab.loc[diab['admission_type_id'] == 7, 'admission_type'] = 'Trauma_center'\n",
    "diab.loc[diab['admission_type_id'] == 4, 'admission_type'] = 'Newborn'"
   ]
  },
  {
   "cell_type": "code",
   "execution_count": 17,
   "metadata": {
    "ExecuteTime": {
     "end_time": "2019-12-27T17:39:30.319718Z",
     "start_time": "2019-12-27T17:39:30.291132Z"
    }
   },
   "outputs": [],
   "source": [
    "diab.drop(columns='admission_type_id', inplace=True) # drop the original column"
   ]
  },
  {
   "cell_type": "markdown",
   "metadata": {},
   "source": [
    "### Label Admission Source ID's"
   ]
  },
  {
   "cell_type": "code",
   "execution_count": 18,
   "metadata": {
    "ExecuteTime": {
     "end_time": "2019-12-27T17:39:30.856465Z",
     "start_time": "2019-12-27T17:39:30.548928Z"
    }
   },
   "outputs": [],
   "source": [
    "# Make new column \"admission_source\" that maps numerical ID's to understandable admission source information\n",
    "# ~85% of patients come via ER or physician referral\n",
    "\n",
    "diab.loc[diab['admission_source_id'] == 7, 'admission_source'] = 'Emergency_room' # ~56% for ER visit\n",
    "diab.loc[diab['admission_source_id'] == 1, 'admission_source'] = 'Physician_referral'\n",
    "diab.loc[diab['admission_source_id'] == 17, 'admission_source'] = 'NULL'\n",
    "diab.loc[diab['admission_source_id'] == 4, 'admission_source'] = 'Transfer_from_hospital'\n",
    "diab.loc[diab['admission_source_id'] == 6, 'admission_source'] = 'Transfer_from_other_healthcare_facility'\n",
    "diab.loc[diab['admission_source_id'] == 2, 'admission_source'] = 'Clinic_referral'\n",
    "diab.loc[diab['admission_source_id'] == 5, 'admission_source'] = 'Transfer_from_SNF'\n",
    "diab.loc[diab['admission_source_id'] == 3, 'admission_source'] = 'HMO_referral'\n",
    "diab.loc[diab['admission_source_id'] == 20, 'admission_source'] = 'Not_mapped'\n",
    "diab.loc[diab['admission_source_id'] == 9, 'admission_source'] = 'Not_available'\n",
    "diab.loc[diab['admission_source_id'] == 8, 'admission_source'] = 'Law_enforcement'\n",
    "diab.loc[diab['admission_source_id'] == 22, 'admission_source'] = 'Transfer_from_inpatient_care_from_same_facility'\n",
    "diab.loc[diab['admission_source_id'] == 10, 'admission_source'] = 'Transfer_from_critical_access_hospital'\n",
    "diab.loc[diab['admission_source_id'] == 11, 'admission_source'] = 'Normal_delivery'\n",
    "diab.loc[diab['admission_source_id'] == 14, 'admission_source'] = 'Extramural_birth'\n",
    "diab.loc[diab['admission_source_id'] == 25, 'admission_source'] = 'Transfer_from_ambulatory_surgery'\n",
    "diab.loc[diab['admission_source_id'] == 13, 'admission_source'] = 'Sick_baby'"
   ]
  },
  {
   "cell_type": "code",
   "execution_count": 19,
   "metadata": {
    "ExecuteTime": {
     "end_time": "2019-12-27T17:39:30.890599Z",
     "start_time": "2019-12-27T17:39:30.858575Z"
    }
   },
   "outputs": [],
   "source": [
    "diab.drop(columns='admission_source_id', inplace=True) # drop the original column"
   ]
  },
  {
   "cell_type": "markdown",
   "metadata": {},
   "source": [
    "### Define target variable"
   ]
  },
  {
   "cell_type": "code",
   "execution_count": 20,
   "metadata": {
    "ExecuteTime": {
     "end_time": "2019-12-27T17:39:31.007650Z",
     "start_time": "2019-12-27T17:39:30.986341Z"
    }
   },
   "outputs": [
    {
     "data": {
      "text/plain": [
       "NO     51608\n",
       ">30    34952\n",
       "<30    11004\n",
       "Name: readmitted, dtype: int64"
      ]
     },
     "execution_count": 20,
     "metadata": {},
     "output_type": "execute_result"
    }
   ],
   "source": [
    "# 12-13% of patients are readmitted within 30 days\n",
    "\n",
    "diab['readmitted'].value_counts()"
   ]
  },
  {
   "cell_type": "code",
   "execution_count": 21,
   "metadata": {
    "ExecuteTime": {
     "end_time": "2019-12-27T17:39:31.166803Z",
     "start_time": "2019-12-27T17:39:31.153577Z"
    }
   },
   "outputs": [],
   "source": [
    "# Define target \"positive\" variable to be readmission within 30 days\n",
    "\n",
    "diab['readmitted_within_30days'] = (diab['readmitted'] == '<30').astype(int)"
   ]
  },
  {
   "cell_type": "code",
   "execution_count": 22,
   "metadata": {
    "ExecuteTime": {
     "end_time": "2019-12-27T17:39:31.316416Z",
     "start_time": "2019-12-27T17:39:31.306069Z"
    }
   },
   "outputs": [
    {
     "data": {
      "text/plain": [
       "0    86560\n",
       "1    11004\n",
       "Name: readmitted_within_30days, dtype: int64"
      ]
     },
     "execution_count": 22,
     "metadata": {},
     "output_type": "execute_result"
    }
   ],
   "source": [
    "diab['readmitted_within_30days'].value_counts()"
   ]
  },
  {
   "cell_type": "code",
   "execution_count": 23,
   "metadata": {
    "ExecuteTime": {
     "end_time": "2019-12-27T17:39:31.508385Z",
     "start_time": "2019-12-27T17:39:31.461960Z"
    }
   },
   "outputs": [],
   "source": [
    "# Don't want model to 'cheat'\n",
    "\n",
    "diab.drop(columns='readmitted', inplace=True)"
   ]
  },
  {
   "cell_type": "code",
   "execution_count": 24,
   "metadata": {
    "ExecuteTime": {
     "end_time": "2019-12-27T17:39:31.622926Z",
     "start_time": "2019-12-27T17:39:31.614571Z"
    }
   },
   "outputs": [],
   "source": [
    "# Export to CSV (before one-hot encoding and other feature engineering) \n",
    "\n",
    "# diab.to_csv('Diabetes_1.csv', index=False)"
   ]
  },
  {
   "cell_type": "markdown",
   "metadata": {},
   "source": [
    "### EDA"
   ]
  },
  {
   "cell_type": "code",
   "execution_count": 25,
   "metadata": {
    "ExecuteTime": {
     "end_time": "2019-12-27T17:39:32.234180Z",
     "start_time": "2019-12-27T17:39:31.930300Z"
    }
   },
   "outputs": [
    {
     "data": {
      "image/png": "[encoded data removed]",
      "text/plain": [
       "<Figure size 720x432 with 1 Axes>"
      ]
     },
     "metadata": {
      "needs_background": "light"
     },
     "output_type": "display_data"
    }
   ],
   "source": [
    "# Distribution of patient age\n",
    "\n",
    "plt.figure(figsize=(10, 6))\n",
    "\n",
    "ax = sns.countplot(diab['age'])\n",
    "\n",
    "ax.set(xlabel='Age',\n",
    "       ylabel='Number of patients', \n",
    "       title='Distribution of Patient Age');"
   ]
  },
  {
   "cell_type": "code",
   "execution_count": 26,
   "metadata": {
    "ExecuteTime": {
     "end_time": "2019-12-27T17:39:32.426266Z",
     "start_time": "2019-12-27T17:39:32.238632Z"
    },
    "scrolled": true
   },
   "outputs": [
    {
     "data": {
      "image/png": "[encoded data removed]",
      "text/plain": [
       "<Figure size 576x360 with 1 Axes>"
      ]
     },
     "metadata": {
      "needs_background": "light"
     },
     "output_type": "display_data"
    }
   ],
   "source": [
    "# Hospital readmission rate\n",
    "\n",
    "plt.figure(figsize=(8, 5))\n",
    "\n",
    "ax = sns.countplot(diab['readmitted_within_30days'])\n",
    "\n",
    "ax.set(xlabel='Readmitted within 30 days',\n",
    "       ylabel='Number of patients',\n",
    "       title='Distribution of Hospital Readmission');"
   ]
  },
  {
   "cell_type": "code",
   "execution_count": 27,
   "metadata": {
    "ExecuteTime": {
     "end_time": "2019-12-27T17:39:32.792283Z",
     "start_time": "2019-12-27T17:39:32.429317Z"
    },
    "scrolled": false
   },
   "outputs": [
    {
     "data": {
      "image/png": "[encoded data removed]",
      "text/plain": [
       "<Figure size 720x432 with 1 Axes>"
      ]
     },
     "metadata": {
      "needs_background": "light"
     },
     "output_type": "display_data"
    }
   ],
   "source": [
    "# Readmission by age of patient\n",
    "\n",
    "plt.figure(figsize=(10, 6))\n",
    "\n",
    "ax = sns.countplot(diab['age'], hue=diab['readmitted_within_30days'])\n",
    "\n",
    "ax.set(xlabel='Age',\n",
    "       ylabel='Number of patients',\n",
    "       title='Hospital Readmission by Age');"
   ]
  },
  {
   "cell_type": "code",
   "execution_count": 28,
   "metadata": {
    "ExecuteTime": {
     "end_time": "2019-12-27T17:39:33.097055Z",
     "start_time": "2019-12-27T17:39:32.794859Z"
    }
   },
   "outputs": [
    {
     "data": {
      "image/png": "[encoded data removed]",
      "text/plain": [
       "<Figure size 720x432 with 1 Axes>"
      ]
     },
     "metadata": {
      "needs_background": "light"
     },
     "output_type": "display_data"
    }
   ],
   "source": [
    "# Readmission by gender of patient\n",
    "\n",
    "plt.figure(figsize=(10, 6))\n",
    "\n",
    "ax = sns.countplot(diab['gender'], hue=diab['readmitted_within_30days'])\n",
    "\n",
    "ax.set(xlabel='Gender',\n",
    "       ylabel='Number of patients',\n",
    "       title='Hospital Readmission by Gender');"
   ]
  },
  {
   "cell_type": "markdown",
   "metadata": {},
   "source": [
    "### Why is A1C test so often not administered?"
   ]
  },
  {
   "cell_type": "code",
   "execution_count": 29,
   "metadata": {
    "ExecuteTime": {
     "end_time": "2019-12-27T17:39:33.452988Z",
     "start_time": "2019-12-27T17:39:33.099838Z"
    }
   },
   "outputs": [
    {
     "data": {
      "image/png": "[encoded data removed]",
      "text/plain": [
       "<Figure size 1080x504 with 1 Axes>"
      ]
     },
     "metadata": {
      "needs_background": "light"
     },
     "output_type": "display_data"
    }
   ],
   "source": [
    "# How often is A1C measured?\n",
    "# A1C is a sound measure of a patient's blood glucose level over the past 2-3 months. \n",
    "# Very important for diabetes monitoring.\n",
    "# This chart reflects how often this simple test is overlooked during patient's initial hospitalization. \n",
    "\n",
    "plt.figure(figsize=(15, 7))\n",
    "\n",
    "ax = sns.countplot(diab['A1Cresult'])\n",
    "\n",
    "ax.set(xlabel='A1C Level',\n",
    "       ylabel='Number of patients',\n",
    "       title='A1C is Infrequently Monitored');"
   ]
  },
  {
   "cell_type": "code",
   "execution_count": 30,
   "metadata": {
    "ExecuteTime": {
     "end_time": "2019-12-27T17:39:33.846620Z",
     "start_time": "2019-12-27T17:39:33.455603Z"
    }
   },
   "outputs": [
    {
     "data": {
      "image/png": "[encoded data removed]",
      "text/plain": [
       "<Figure size 1080x504 with 1 Axes>"
      ]
     },
     "metadata": {
      "needs_background": "light"
     },
     "output_type": "display_data"
    }
   ],
   "source": [
    "# Readmission by A1C Monitoring\n",
    "\n",
    "plt.figure(figsize=(15, 7))\n",
    "\n",
    "ax = sns.countplot(diab['A1Cresult'], hue=diab['readmitted_within_30days'])\n",
    "\n",
    "ax.set(xlabel='A1C Level',\n",
    "       ylabel='Number of patients',\n",
    "       title='Hospital Readmission by A1C Monitoring');"
   ]
  },
  {
   "cell_type": "code",
   "execution_count": 31,
   "metadata": {
    "ExecuteTime": {
     "end_time": "2019-12-27T17:39:35.679153Z",
     "start_time": "2019-12-27T17:39:35.512855Z"
    },
    "scrolled": true
   },
   "outputs": [
    {
     "data": {
      "text/html": [
       "<div>\n",
       "<style scoped>\n",
       "    .dataframe tbody tr th:only-of-type {\n",
       "        vertical-align: middle;\n",
       "    }\n",
       "\n",
       "    .dataframe tbody tr th {\n",
       "        vertical-align: top;\n",
       "    }\n",
       "\n",
       "    .dataframe thead th {\n",
       "        text-align: right;\n",
       "    }\n",
       "</style>\n",
       "<table border=\"1\" class=\"dataframe\">\n",
       "  <thead>\n",
       "    <tr style=\"text-align: right;\">\n",
       "      <th></th>\n",
       "      <th>Discharged_to</th>\n",
       "      <th>readmitted_within_30days</th>\n",
       "      <th>race</th>\n",
       "      <th>gender</th>\n",
       "      <th>age</th>\n",
       "      <th>time_in_hospital</th>\n",
       "      <th>payer_code</th>\n",
       "      <th>medical_specialty</th>\n",
       "      <th>num_lab_procedures</th>\n",
       "      <th>num_procedures</th>\n",
       "      <th>...</th>\n",
       "      <th>tolazamide</th>\n",
       "      <th>insulin</th>\n",
       "      <th>glyburide-metformin</th>\n",
       "      <th>glipizide-metformin</th>\n",
       "      <th>glimepiride-pioglitazone</th>\n",
       "      <th>metformin-pioglitazone</th>\n",
       "      <th>change_diabetes_med</th>\n",
       "      <th>diabetesMed</th>\n",
       "      <th>admission_type</th>\n",
       "      <th>admission_source</th>\n",
       "    </tr>\n",
       "  </thead>\n",
       "  <tbody>\n",
       "    <tr>\n",
       "      <th>0</th>\n",
       "      <td>Against_medical_advice***</td>\n",
       "      <td>0</td>\n",
       "      <td>533</td>\n",
       "      <td>533</td>\n",
       "      <td>533</td>\n",
       "      <td>533</td>\n",
       "      <td>533</td>\n",
       "      <td>533</td>\n",
       "      <td>533</td>\n",
       "      <td>533</td>\n",
       "      <td>...</td>\n",
       "      <td>533</td>\n",
       "      <td>533</td>\n",
       "      <td>533</td>\n",
       "      <td>533</td>\n",
       "      <td>533</td>\n",
       "      <td>533</td>\n",
       "      <td>533</td>\n",
       "      <td>533</td>\n",
       "      <td>533</td>\n",
       "      <td>533</td>\n",
       "    </tr>\n",
       "    <tr>\n",
       "      <th>1</th>\n",
       "      <td>Against_medical_advice***</td>\n",
       "      <td>1</td>\n",
       "      <td>90</td>\n",
       "      <td>90</td>\n",
       "      <td>90</td>\n",
       "      <td>90</td>\n",
       "      <td>90</td>\n",
       "      <td>90</td>\n",
       "      <td>90</td>\n",
       "      <td>90</td>\n",
       "      <td>...</td>\n",
       "      <td>90</td>\n",
       "      <td>90</td>\n",
       "      <td>90</td>\n",
       "      <td>90</td>\n",
       "      <td>90</td>\n",
       "      <td>90</td>\n",
       "      <td>90</td>\n",
       "      <td>90</td>\n",
       "      <td>90</td>\n",
       "      <td>90</td>\n",
       "    </tr>\n",
       "    <tr>\n",
       "      <th>2</th>\n",
       "      <td>Another_short_term_hospital</td>\n",
       "      <td>0</td>\n",
       "      <td>1786</td>\n",
       "      <td>1786</td>\n",
       "      <td>1786</td>\n",
       "      <td>1786</td>\n",
       "      <td>1786</td>\n",
       "      <td>1786</td>\n",
       "      <td>1786</td>\n",
       "      <td>1786</td>\n",
       "      <td>...</td>\n",
       "      <td>1786</td>\n",
       "      <td>1786</td>\n",
       "      <td>1786</td>\n",
       "      <td>1786</td>\n",
       "      <td>1786</td>\n",
       "      <td>1786</td>\n",
       "      <td>1786</td>\n",
       "      <td>1786</td>\n",
       "      <td>1786</td>\n",
       "      <td>1786</td>\n",
       "    </tr>\n",
       "    <tr>\n",
       "      <th>3</th>\n",
       "      <td>Another_short_term_hospital</td>\n",
       "      <td>1</td>\n",
       "      <td>342</td>\n",
       "      <td>342</td>\n",
       "      <td>342</td>\n",
       "      <td>342</td>\n",
       "      <td>342</td>\n",
       "      <td>342</td>\n",
       "      <td>342</td>\n",
       "      <td>342</td>\n",
       "      <td>...</td>\n",
       "      <td>342</td>\n",
       "      <td>342</td>\n",
       "      <td>342</td>\n",
       "      <td>342</td>\n",
       "      <td>342</td>\n",
       "      <td>342</td>\n",
       "      <td>342</td>\n",
       "      <td>342</td>\n",
       "      <td>342</td>\n",
       "      <td>342</td>\n",
       "    </tr>\n",
       "    <tr>\n",
       "      <th>4</th>\n",
       "      <td>Federal_health_care_facility</td>\n",
       "      <td>0</td>\n",
       "      <td>5</td>\n",
       "      <td>5</td>\n",
       "      <td>5</td>\n",
       "      <td>5</td>\n",
       "      <td>5</td>\n",
       "      <td>5</td>\n",
       "      <td>5</td>\n",
       "      <td>5</td>\n",
       "      <td>...</td>\n",
       "      <td>5</td>\n",
       "      <td>5</td>\n",
       "      <td>5</td>\n",
       "      <td>5</td>\n",
       "      <td>5</td>\n",
       "      <td>5</td>\n",
       "      <td>5</td>\n",
       "      <td>5</td>\n",
       "      <td>5</td>\n",
       "      <td>5</td>\n",
       "    </tr>\n",
       "    <tr>\n",
       "      <th>5</th>\n",
       "      <td>Home</td>\n",
       "      <td>0</td>\n",
       "      <td>54630</td>\n",
       "      <td>54630</td>\n",
       "      <td>54630</td>\n",
       "      <td>54630</td>\n",
       "      <td>54630</td>\n",
       "      <td>54630</td>\n",
       "      <td>54630</td>\n",
       "      <td>54630</td>\n",
       "      <td>...</td>\n",
       "      <td>54630</td>\n",
       "      <td>54630</td>\n",
       "      <td>54630</td>\n",
       "      <td>54630</td>\n",
       "      <td>54630</td>\n",
       "      <td>54630</td>\n",
       "      <td>54630</td>\n",
       "      <td>54630</td>\n",
       "      <td>54630</td>\n",
       "      <td>54630</td>\n",
       "    </tr>\n",
       "    <tr>\n",
       "      <th>6</th>\n",
       "      <td>Home</td>\n",
       "      <td>1</td>\n",
       "      <td>5602</td>\n",
       "      <td>5602</td>\n",
       "      <td>5602</td>\n",
       "      <td>5602</td>\n",
       "      <td>5602</td>\n",
       "      <td>5602</td>\n",
       "      <td>5602</td>\n",
       "      <td>5602</td>\n",
       "      <td>...</td>\n",
       "      <td>5602</td>\n",
       "      <td>5602</td>\n",
       "      <td>5602</td>\n",
       "      <td>5602</td>\n",
       "      <td>5602</td>\n",
       "      <td>5602</td>\n",
       "      <td>5602</td>\n",
       "      <td>5602</td>\n",
       "      <td>5602</td>\n",
       "      <td>5602</td>\n",
       "    </tr>\n",
       "    <tr>\n",
       "      <th>7</th>\n",
       "      <td>Home_with_home_health_service</td>\n",
       "      <td>0</td>\n",
       "      <td>11264</td>\n",
       "      <td>11264</td>\n",
       "      <td>11264</td>\n",
       "      <td>11264</td>\n",
       "      <td>11264</td>\n",
       "      <td>11264</td>\n",
       "      <td>11264</td>\n",
       "      <td>11264</td>\n",
       "      <td>...</td>\n",
       "      <td>11264</td>\n",
       "      <td>11264</td>\n",
       "      <td>11264</td>\n",
       "      <td>11264</td>\n",
       "      <td>11264</td>\n",
       "      <td>11264</td>\n",
       "      <td>11264</td>\n",
       "      <td>11264</td>\n",
       "      <td>11264</td>\n",
       "      <td>11264</td>\n",
       "    </tr>\n",
       "    <tr>\n",
       "      <th>8</th>\n",
       "      <td>Home_with_home_health_service</td>\n",
       "      <td>1</td>\n",
       "      <td>1638</td>\n",
       "      <td>1638</td>\n",
       "      <td>1638</td>\n",
       "      <td>1638</td>\n",
       "      <td>1638</td>\n",
       "      <td>1638</td>\n",
       "      <td>1638</td>\n",
       "      <td>1638</td>\n",
       "      <td>...</td>\n",
       "      <td>1638</td>\n",
       "      <td>1638</td>\n",
       "      <td>1638</td>\n",
       "      <td>1638</td>\n",
       "      <td>1638</td>\n",
       "      <td>1638</td>\n",
       "      <td>1638</td>\n",
       "      <td>1638</td>\n",
       "      <td>1638</td>\n",
       "      <td>1638</td>\n",
       "    </tr>\n",
       "    <tr>\n",
       "      <th>9</th>\n",
       "      <td>Info_unavailable</td>\n",
       "      <td>0</td>\n",
       "      <td>897</td>\n",
       "      <td>897</td>\n",
       "      <td>897</td>\n",
       "      <td>897</td>\n",
       "      <td>897</td>\n",
       "      <td>897</td>\n",
       "      <td>897</td>\n",
       "      <td>897</td>\n",
       "      <td>...</td>\n",
       "      <td>897</td>\n",
       "      <td>897</td>\n",
       "      <td>897</td>\n",
       "      <td>897</td>\n",
       "      <td>897</td>\n",
       "      <td>897</td>\n",
       "      <td>897</td>\n",
       "      <td>897</td>\n",
       "      <td>897</td>\n",
       "      <td>897</td>\n",
       "    </tr>\n",
       "    <tr>\n",
       "      <th>10</th>\n",
       "      <td>Info_unavailable</td>\n",
       "      <td>1</td>\n",
       "      <td>92</td>\n",
       "      <td>92</td>\n",
       "      <td>92</td>\n",
       "      <td>92</td>\n",
       "      <td>92</td>\n",
       "      <td>92</td>\n",
       "      <td>92</td>\n",
       "      <td>92</td>\n",
       "      <td>...</td>\n",
       "      <td>92</td>\n",
       "      <td>92</td>\n",
       "      <td>92</td>\n",
       "      <td>92</td>\n",
       "      <td>92</td>\n",
       "      <td>92</td>\n",
       "      <td>92</td>\n",
       "      <td>92</td>\n",
       "      <td>92</td>\n",
       "      <td>92</td>\n",
       "    </tr>\n",
       "    <tr>\n",
       "      <th>11</th>\n",
       "      <td>Inhouse_outpatient_services</td>\n",
       "      <td>0</td>\n",
       "      <td>14</td>\n",
       "      <td>14</td>\n",
       "      <td>14</td>\n",
       "      <td>14</td>\n",
       "      <td>14</td>\n",
       "      <td>14</td>\n",
       "      <td>14</td>\n",
       "      <td>14</td>\n",
       "      <td>...</td>\n",
       "      <td>14</td>\n",
       "      <td>14</td>\n",
       "      <td>14</td>\n",
       "      <td>14</td>\n",
       "      <td>14</td>\n",
       "      <td>14</td>\n",
       "      <td>14</td>\n",
       "      <td>14</td>\n",
       "      <td>14</td>\n",
       "      <td>14</td>\n",
       "    </tr>\n",
       "    <tr>\n",
       "      <th>12</th>\n",
       "      <td>Intermediate_care_facility</td>\n",
       "      <td>0</td>\n",
       "      <td>711</td>\n",
       "      <td>711</td>\n",
       "      <td>711</td>\n",
       "      <td>711</td>\n",
       "      <td>711</td>\n",
       "      <td>711</td>\n",
       "      <td>711</td>\n",
       "      <td>711</td>\n",
       "      <td>...</td>\n",
       "      <td>711</td>\n",
       "      <td>711</td>\n",
       "      <td>711</td>\n",
       "      <td>711</td>\n",
       "      <td>711</td>\n",
       "      <td>711</td>\n",
       "      <td>711</td>\n",
       "      <td>711</td>\n",
       "      <td>711</td>\n",
       "      <td>711</td>\n",
       "    </tr>\n",
       "    <tr>\n",
       "      <th>13</th>\n",
       "      <td>Intermediate_care_facility</td>\n",
       "      <td>1</td>\n",
       "      <td>104</td>\n",
       "      <td>104</td>\n",
       "      <td>104</td>\n",
       "      <td>104</td>\n",
       "      <td>104</td>\n",
       "      <td>104</td>\n",
       "      <td>104</td>\n",
       "      <td>104</td>\n",
       "      <td>...</td>\n",
       "      <td>104</td>\n",
       "      <td>104</td>\n",
       "      <td>104</td>\n",
       "      <td>104</td>\n",
       "      <td>104</td>\n",
       "      <td>104</td>\n",
       "      <td>104</td>\n",
       "      <td>104</td>\n",
       "      <td>104</td>\n",
       "      <td>104</td>\n",
       "    </tr>\n",
       "    <tr>\n",
       "      <th>14</th>\n",
       "      <td>Medicare_approved_swingbed</td>\n",
       "      <td>0</td>\n",
       "      <td>35</td>\n",
       "      <td>35</td>\n",
       "      <td>35</td>\n",
       "      <td>35</td>\n",
       "      <td>35</td>\n",
       "      <td>35</td>\n",
       "      <td>35</td>\n",
       "      <td>35</td>\n",
       "      <td>...</td>\n",
       "      <td>35</td>\n",
       "      <td>35</td>\n",
       "      <td>35</td>\n",
       "      <td>35</td>\n",
       "      <td>35</td>\n",
       "      <td>35</td>\n",
       "      <td>35</td>\n",
       "      <td>35</td>\n",
       "      <td>35</td>\n",
       "      <td>35</td>\n",
       "    </tr>\n",
       "    <tr>\n",
       "      <th>15</th>\n",
       "      <td>Medicare_approved_swingbed</td>\n",
       "      <td>1</td>\n",
       "      <td>28</td>\n",
       "      <td>28</td>\n",
       "      <td>28</td>\n",
       "      <td>28</td>\n",
       "      <td>28</td>\n",
       "      <td>28</td>\n",
       "      <td>28</td>\n",
       "      <td>28</td>\n",
       "      <td>...</td>\n",
       "      <td>28</td>\n",
       "      <td>28</td>\n",
       "      <td>28</td>\n",
       "      <td>28</td>\n",
       "      <td>28</td>\n",
       "      <td>28</td>\n",
       "      <td>28</td>\n",
       "      <td>28</td>\n",
       "      <td>28</td>\n",
       "      <td>28</td>\n",
       "    </tr>\n",
       "    <tr>\n",
       "      <th>16</th>\n",
       "      <td>NULL</td>\n",
       "      <td>0</td>\n",
       "      <td>3232</td>\n",
       "      <td>3232</td>\n",
       "      <td>3232</td>\n",
       "      <td>3232</td>\n",
       "      <td>3232</td>\n",
       "      <td>3232</td>\n",
       "      <td>3232</td>\n",
       "      <td>3232</td>\n",
       "      <td>...</td>\n",
       "      <td>3232</td>\n",
       "      <td>3232</td>\n",
       "      <td>3232</td>\n",
       "      <td>3232</td>\n",
       "      <td>3232</td>\n",
       "      <td>3232</td>\n",
       "      <td>3232</td>\n",
       "      <td>3232</td>\n",
       "      <td>3232</td>\n",
       "      <td>3232</td>\n",
       "    </tr>\n",
       "    <tr>\n",
       "      <th>17</th>\n",
       "      <td>NULL</td>\n",
       "      <td>1</td>\n",
       "      <td>459</td>\n",
       "      <td>459</td>\n",
       "      <td>459</td>\n",
       "      <td>459</td>\n",
       "      <td>459</td>\n",
       "      <td>459</td>\n",
       "      <td>459</td>\n",
       "      <td>459</td>\n",
       "      <td>...</td>\n",
       "      <td>459</td>\n",
       "      <td>459</td>\n",
       "      <td>459</td>\n",
       "      <td>459</td>\n",
       "      <td>459</td>\n",
       "      <td>459</td>\n",
       "      <td>459</td>\n",
       "      <td>459</td>\n",
       "      <td>459</td>\n",
       "      <td>459</td>\n",
       "    </tr>\n",
       "    <tr>\n",
       "      <th>18</th>\n",
       "      <td>Neonate_hospital</td>\n",
       "      <td>0</td>\n",
       "      <td>6</td>\n",
       "      <td>6</td>\n",
       "      <td>6</td>\n",
       "      <td>6</td>\n",
       "      <td>6</td>\n",
       "      <td>6</td>\n",
       "      <td>6</td>\n",
       "      <td>6</td>\n",
       "      <td>...</td>\n",
       "      <td>6</td>\n",
       "      <td>6</td>\n",
       "      <td>6</td>\n",
       "      <td>6</td>\n",
       "      <td>6</td>\n",
       "      <td>6</td>\n",
       "      <td>6</td>\n",
       "      <td>6</td>\n",
       "      <td>6</td>\n",
       "      <td>6</td>\n",
       "    </tr>\n",
       "    <tr>\n",
       "      <th>19</th>\n",
       "      <td>Outside_outpatient_services</td>\n",
       "      <td>0</td>\n",
       "      <td>11</td>\n",
       "      <td>11</td>\n",
       "      <td>11</td>\n",
       "      <td>11</td>\n",
       "      <td>11</td>\n",
       "      <td>11</td>\n",
       "      <td>11</td>\n",
       "      <td>11</td>\n",
       "      <td>...</td>\n",
       "      <td>11</td>\n",
       "      <td>11</td>\n",
       "      <td>11</td>\n",
       "      <td>11</td>\n",
       "      <td>11</td>\n",
       "      <td>11</td>\n",
       "      <td>11</td>\n",
       "      <td>11</td>\n",
       "      <td>11</td>\n",
       "      <td>11</td>\n",
       "    </tr>\n",
       "    <tr>\n",
       "      <th>20</th>\n",
       "      <td>Psychiatric_hospital</td>\n",
       "      <td>0</td>\n",
       "      <td>88</td>\n",
       "      <td>88</td>\n",
       "      <td>88</td>\n",
       "      <td>88</td>\n",
       "      <td>88</td>\n",
       "      <td>88</td>\n",
       "      <td>88</td>\n",
       "      <td>88</td>\n",
       "      <td>...</td>\n",
       "      <td>88</td>\n",
       "      <td>88</td>\n",
       "      <td>88</td>\n",
       "      <td>88</td>\n",
       "      <td>88</td>\n",
       "      <td>88</td>\n",
       "      <td>88</td>\n",
       "      <td>88</td>\n",
       "      <td>88</td>\n",
       "      <td>88</td>\n",
       "    </tr>\n",
       "    <tr>\n",
       "      <th>21</th>\n",
       "      <td>Psychiatric_hospital</td>\n",
       "      <td>1</td>\n",
       "      <td>51</td>\n",
       "      <td>51</td>\n",
       "      <td>51</td>\n",
       "      <td>51</td>\n",
       "      <td>51</td>\n",
       "      <td>51</td>\n",
       "      <td>51</td>\n",
       "      <td>51</td>\n",
       "      <td>...</td>\n",
       "      <td>51</td>\n",
       "      <td>51</td>\n",
       "      <td>51</td>\n",
       "      <td>51</td>\n",
       "      <td>51</td>\n",
       "      <td>51</td>\n",
       "      <td>51</td>\n",
       "      <td>51</td>\n",
       "      <td>51</td>\n",
       "      <td>51</td>\n",
       "    </tr>\n",
       "    <tr>\n",
       "      <th>22</th>\n",
       "      <td>Rehab_facility</td>\n",
       "      <td>0</td>\n",
       "      <td>1440</td>\n",
       "      <td>1440</td>\n",
       "      <td>1440</td>\n",
       "      <td>1440</td>\n",
       "      <td>1440</td>\n",
       "      <td>1440</td>\n",
       "      <td>1440</td>\n",
       "      <td>1440</td>\n",
       "      <td>...</td>\n",
       "      <td>1440</td>\n",
       "      <td>1440</td>\n",
       "      <td>1440</td>\n",
       "      <td>1440</td>\n",
       "      <td>1440</td>\n",
       "      <td>1440</td>\n",
       "      <td>1440</td>\n",
       "      <td>1440</td>\n",
       "      <td>1440</td>\n",
       "      <td>1440</td>\n",
       "    </tr>\n",
       "    <tr>\n",
       "      <th>23</th>\n",
       "      <td>Rehab_facility</td>\n",
       "      <td>1</td>\n",
       "      <td>552</td>\n",
       "      <td>552</td>\n",
       "      <td>552</td>\n",
       "      <td>552</td>\n",
       "      <td>552</td>\n",
       "      <td>552</td>\n",
       "      <td>552</td>\n",
       "      <td>552</td>\n",
       "      <td>...</td>\n",
       "      <td>552</td>\n",
       "      <td>552</td>\n",
       "      <td>552</td>\n",
       "      <td>552</td>\n",
       "      <td>552</td>\n",
       "      <td>552</td>\n",
       "      <td>552</td>\n",
       "      <td>552</td>\n",
       "      <td>552</td>\n",
       "      <td>552</td>\n",
       "    </tr>\n",
       "    <tr>\n",
       "      <th>24</th>\n",
       "      <td>Skilled_nursing_facility</td>\n",
       "      <td>0</td>\n",
       "      <td>11908</td>\n",
       "      <td>11908</td>\n",
       "      <td>11908</td>\n",
       "      <td>11908</td>\n",
       "      <td>11908</td>\n",
       "      <td>11908</td>\n",
       "      <td>11908</td>\n",
       "      <td>11908</td>\n",
       "      <td>...</td>\n",
       "      <td>11908</td>\n",
       "      <td>11908</td>\n",
       "      <td>11908</td>\n",
       "      <td>11908</td>\n",
       "      <td>11908</td>\n",
       "      <td>11908</td>\n",
       "      <td>11908</td>\n",
       "      <td>11908</td>\n",
       "      <td>11908</td>\n",
       "      <td>11908</td>\n",
       "    </tr>\n",
       "    <tr>\n",
       "      <th>25</th>\n",
       "      <td>Skilled_nursing_facility</td>\n",
       "      <td>1</td>\n",
       "      <td>2046</td>\n",
       "      <td>2046</td>\n",
       "      <td>2046</td>\n",
       "      <td>2046</td>\n",
       "      <td>2046</td>\n",
       "      <td>2046</td>\n",
       "      <td>2046</td>\n",
       "      <td>2046</td>\n",
       "      <td>...</td>\n",
       "      <td>2046</td>\n",
       "      <td>2046</td>\n",
       "      <td>2046</td>\n",
       "      <td>2046</td>\n",
       "      <td>2046</td>\n",
       "      <td>2046</td>\n",
       "      <td>2046</td>\n",
       "      <td>2046</td>\n",
       "      <td>2046</td>\n",
       "      <td>2046</td>\n",
       "    </tr>\n",
       "  </tbody>\n",
       "</table>\n",
       "<p>26 rows × 41 columns</p>\n",
       "</div>"
      ],
      "text/plain": [
       "                    Discharged_to  readmitted_within_30days   race  gender  \\\n",
       "0       Against_medical_advice***                         0    533     533   \n",
       "1       Against_medical_advice***                         1     90      90   \n",
       "2     Another_short_term_hospital                         0   1786    1786   \n",
       "3     Another_short_term_hospital                         1    342     342   \n",
       "4    Federal_health_care_facility                         0      5       5   \n",
       "5                            Home                         0  54630   54630   \n",
       "6                            Home                         1   5602    5602   \n",
       "7   Home_with_home_health_service                         0  11264   11264   \n",
       "8   Home_with_home_health_service                         1   1638    1638   \n",
       "9                Info_unavailable                         0    897     897   \n",
       "10               Info_unavailable                         1     92      92   \n",
       "11    Inhouse_outpatient_services                         0     14      14   \n",
       "12     Intermediate_care_facility                         0    711     711   \n",
       "13     Intermediate_care_facility                         1    104     104   \n",
       "14     Medicare_approved_swingbed                         0     35      35   \n",
       "15     Medicare_approved_swingbed                         1     28      28   \n",
       "16                           NULL                         0   3232    3232   \n",
       "17                           NULL                         1    459     459   \n",
       "18               Neonate_hospital                         0      6       6   \n",
       "19    Outside_outpatient_services                         0     11      11   \n",
       "20           Psychiatric_hospital                         0     88      88   \n",
       "21           Psychiatric_hospital                         1     51      51   \n",
       "22                 Rehab_facility                         0   1440    1440   \n",
       "23                 Rehab_facility                         1    552     552   \n",
       "24       Skilled_nursing_facility                         0  11908   11908   \n",
       "25       Skilled_nursing_facility                         1   2046    2046   \n",
       "\n",
       "      age  time_in_hospital  payer_code  medical_specialty  \\\n",
       "0     533               533         533                533   \n",
       "1      90                90          90                 90   \n",
       "2    1786              1786        1786               1786   \n",
       "3     342               342         342                342   \n",
       "4       5                 5           5                  5   \n",
       "5   54630             54630       54630              54630   \n",
       "6    5602              5602        5602               5602   \n",
       "7   11264             11264       11264              11264   \n",
       "8    1638              1638        1638               1638   \n",
       "9     897               897         897                897   \n",
       "10     92                92          92                 92   \n",
       "11     14                14          14                 14   \n",
       "12    711               711         711                711   \n",
       "13    104               104         104                104   \n",
       "14     35                35          35                 35   \n",
       "15     28                28          28                 28   \n",
       "16   3232              3232        3232               3232   \n",
       "17    459               459         459                459   \n",
       "18      6                 6           6                  6   \n",
       "19     11                11          11                 11   \n",
       "20     88                88          88                 88   \n",
       "21     51                51          51                 51   \n",
       "22   1440              1440        1440               1440   \n",
       "23    552               552         552                552   \n",
       "24  11908             11908       11908              11908   \n",
       "25   2046              2046        2046               2046   \n",
       "\n",
       "    num_lab_procedures  num_procedures        ...         tolazamide  insulin  \\\n",
       "0                  533             533        ...                533      533   \n",
       "1                   90              90        ...                 90       90   \n",
       "2                 1786            1786        ...               1786     1786   \n",
       "3                  342             342        ...                342      342   \n",
       "4                    5               5        ...                  5        5   \n",
       "5                54630           54630        ...              54630    54630   \n",
       "6                 5602            5602        ...               5602     5602   \n",
       "7                11264           11264        ...              11264    11264   \n",
       "8                 1638            1638        ...               1638     1638   \n",
       "9                  897             897        ...                897      897   \n",
       "10                  92              92        ...                 92       92   \n",
       "11                  14              14        ...                 14       14   \n",
       "12                 711             711        ...                711      711   \n",
       "13                 104             104        ...                104      104   \n",
       "14                  35              35        ...                 35       35   \n",
       "15                  28              28        ...                 28       28   \n",
       "16                3232            3232        ...               3232     3232   \n",
       "17                 459             459        ...                459      459   \n",
       "18                   6               6        ...                  6        6   \n",
       "19                  11              11        ...                 11       11   \n",
       "20                  88              88        ...                 88       88   \n",
       "21                  51              51        ...                 51       51   \n",
       "22                1440            1440        ...               1440     1440   \n",
       "23                 552             552        ...                552      552   \n",
       "24               11908           11908        ...              11908    11908   \n",
       "25                2046            2046        ...               2046     2046   \n",
       "\n",
       "    glyburide-metformin  glipizide-metformin  glimepiride-pioglitazone  \\\n",
       "0                   533                  533                       533   \n",
       "1                    90                   90                        90   \n",
       "2                  1786                 1786                      1786   \n",
       "3                   342                  342                       342   \n",
       "4                     5                    5                         5   \n",
       "5                 54630                54630                     54630   \n",
       "6                  5602                 5602                      5602   \n",
       "7                 11264                11264                     11264   \n",
       "8                  1638                 1638                      1638   \n",
       "9                   897                  897                       897   \n",
       "10                   92                   92                        92   \n",
       "11                   14                   14                        14   \n",
       "12                  711                  711                       711   \n",
       "13                  104                  104                       104   \n",
       "14                   35                   35                        35   \n",
       "15                   28                   28                        28   \n",
       "16                 3232                 3232                      3232   \n",
       "17                  459                  459                       459   \n",
       "18                    6                    6                         6   \n",
       "19                   11                   11                        11   \n",
       "20                   88                   88                        88   \n",
       "21                   51                   51                        51   \n",
       "22                 1440                 1440                      1440   \n",
       "23                  552                  552                       552   \n",
       "24                11908                11908                     11908   \n",
       "25                 2046                 2046                      2046   \n",
       "\n",
       "    metformin-pioglitazone  change_diabetes_med  diabetesMed  admission_type  \\\n",
       "0                      533                  533          533             533   \n",
       "1                       90                   90           90              90   \n",
       "2                     1786                 1786         1786            1786   \n",
       "3                      342                  342          342             342   \n",
       "4                        5                    5            5               5   \n",
       "5                    54630                54630        54630           54630   \n",
       "6                     5602                 5602         5602            5602   \n",
       "7                    11264                11264        11264           11264   \n",
       "8                     1638                 1638         1638            1638   \n",
       "9                      897                  897          897             897   \n",
       "10                      92                   92           92              92   \n",
       "11                      14                   14           14              14   \n",
       "12                     711                  711          711             711   \n",
       "13                     104                  104          104             104   \n",
       "14                      35                   35           35              35   \n",
       "15                      28                   28           28              28   \n",
       "16                    3232                 3232         3232            3232   \n",
       "17                     459                  459          459             459   \n",
       "18                       6                    6            6               6   \n",
       "19                      11                   11           11              11   \n",
       "20                      88                   88           88              88   \n",
       "21                      51                   51           51              51   \n",
       "22                    1440                 1440         1440            1440   \n",
       "23                     552                  552          552             552   \n",
       "24                   11908                11908        11908           11908   \n",
       "25                    2046                 2046         2046            2046   \n",
       "\n",
       "    admission_source  \n",
       "0                533  \n",
       "1                 90  \n",
       "2               1786  \n",
       "3                342  \n",
       "4                  5  \n",
       "5              54630  \n",
       "6               5602  \n",
       "7              11264  \n",
       "8               1638  \n",
       "9                897  \n",
       "10                92  \n",
       "11                14  \n",
       "12               711  \n",
       "13               104  \n",
       "14                35  \n",
       "15                28  \n",
       "16              3232  \n",
       "17               459  \n",
       "18                 6  \n",
       "19                11  \n",
       "20                88  \n",
       "21                51  \n",
       "22              1440  \n",
       "23               552  \n",
       "24             11908  \n",
       "25              2046  \n",
       "\n",
       "[26 rows x 41 columns]"
      ]
     },
     "execution_count": 31,
     "metadata": {},
     "output_type": "execute_result"
    }
   ],
   "source": [
    "# Higher likelihood of readmission within 30 days when released to\n",
    "# rehab facility (28%) than those who left \"against medical advice\" (14%)\n",
    "\n",
    "diab.groupby(['Discharged_to', 'readmitted_within_30days']).count().reset_index()"
   ]
  },
  {
   "cell_type": "code",
   "execution_count": 32,
   "metadata": {
    "ExecuteTime": {
     "end_time": "2019-12-27T17:39:35.988252Z",
     "start_time": "2019-12-27T17:39:35.841009Z"
    }
   },
   "outputs": [
    {
     "data": {
      "text/html": [
       "<div>\n",
       "<style scoped>\n",
       "    .dataframe tbody tr th:only-of-type {\n",
       "        vertical-align: middle;\n",
       "    }\n",
       "\n",
       "    .dataframe tbody tr th {\n",
       "        vertical-align: top;\n",
       "    }\n",
       "\n",
       "    .dataframe thead th {\n",
       "        text-align: right;\n",
       "    }\n",
       "</style>\n",
       "<table border=\"1\" class=\"dataframe\">\n",
       "  <thead>\n",
       "    <tr style=\"text-align: right;\">\n",
       "      <th></th>\n",
       "      <th></th>\n",
       "      <th>race</th>\n",
       "      <th>gender</th>\n",
       "      <th>age</th>\n",
       "      <th>time_in_hospital</th>\n",
       "      <th>payer_code</th>\n",
       "      <th>medical_specialty</th>\n",
       "      <th>num_lab_procedures</th>\n",
       "      <th>num_procedures</th>\n",
       "      <th>num_medications</th>\n",
       "      <th>number_outpatient</th>\n",
       "      <th>...</th>\n",
       "      <th>insulin</th>\n",
       "      <th>glyburide-metformin</th>\n",
       "      <th>glipizide-metformin</th>\n",
       "      <th>glimepiride-pioglitazone</th>\n",
       "      <th>metformin-pioglitazone</th>\n",
       "      <th>change_diabetes_med</th>\n",
       "      <th>diabetesMed</th>\n",
       "      <th>Discharged_to</th>\n",
       "      <th>admission_type</th>\n",
       "      <th>admission_source</th>\n",
       "    </tr>\n",
       "    <tr>\n",
       "      <th>number_inpatient</th>\n",
       "      <th>readmitted_within_30days</th>\n",
       "      <th></th>\n",
       "      <th></th>\n",
       "      <th></th>\n",
       "      <th></th>\n",
       "      <th></th>\n",
       "      <th></th>\n",
       "      <th></th>\n",
       "      <th></th>\n",
       "      <th></th>\n",
       "      <th></th>\n",
       "      <th></th>\n",
       "      <th></th>\n",
       "      <th></th>\n",
       "      <th></th>\n",
       "      <th></th>\n",
       "      <th></th>\n",
       "      <th></th>\n",
       "      <th></th>\n",
       "      <th></th>\n",
       "      <th></th>\n",
       "      <th></th>\n",
       "    </tr>\n",
       "  </thead>\n",
       "  <tbody>\n",
       "    <tr>\n",
       "      <th rowspan=\"2\" valign=\"top\">0</th>\n",
       "      <th>0</th>\n",
       "      <td>59561</td>\n",
       "      <td>59561</td>\n",
       "      <td>59561</td>\n",
       "      <td>59561</td>\n",
       "      <td>59561</td>\n",
       "      <td>59561</td>\n",
       "      <td>59561</td>\n",
       "      <td>59561</td>\n",
       "      <td>59561</td>\n",
       "      <td>59561</td>\n",
       "      <td>...</td>\n",
       "      <td>59561</td>\n",
       "      <td>59561</td>\n",
       "      <td>59561</td>\n",
       "      <td>59561</td>\n",
       "      <td>59561</td>\n",
       "      <td>59561</td>\n",
       "      <td>59561</td>\n",
       "      <td>59561</td>\n",
       "      <td>59561</td>\n",
       "      <td>59561</td>\n",
       "    </tr>\n",
       "    <tr>\n",
       "      <th>1</th>\n",
       "      <td>5518</td>\n",
       "      <td>5518</td>\n",
       "      <td>5518</td>\n",
       "      <td>5518</td>\n",
       "      <td>5518</td>\n",
       "      <td>5518</td>\n",
       "      <td>5518</td>\n",
       "      <td>5518</td>\n",
       "      <td>5518</td>\n",
       "      <td>5518</td>\n",
       "      <td>...</td>\n",
       "      <td>5518</td>\n",
       "      <td>5518</td>\n",
       "      <td>5518</td>\n",
       "      <td>5518</td>\n",
       "      <td>5518</td>\n",
       "      <td>5518</td>\n",
       "      <td>5518</td>\n",
       "      <td>5518</td>\n",
       "      <td>5518</td>\n",
       "      <td>5518</td>\n",
       "    </tr>\n",
       "    <tr>\n",
       "      <th rowspan=\"2\" valign=\"top\">1</th>\n",
       "      <th>0</th>\n",
       "      <td>16194</td>\n",
       "      <td>16194</td>\n",
       "      <td>16194</td>\n",
       "      <td>16194</td>\n",
       "      <td>16194</td>\n",
       "      <td>16194</td>\n",
       "      <td>16194</td>\n",
       "      <td>16194</td>\n",
       "      <td>16194</td>\n",
       "      <td>16194</td>\n",
       "      <td>...</td>\n",
       "      <td>16194</td>\n",
       "      <td>16194</td>\n",
       "      <td>16194</td>\n",
       "      <td>16194</td>\n",
       "      <td>16194</td>\n",
       "      <td>16194</td>\n",
       "      <td>16194</td>\n",
       "      <td>16194</td>\n",
       "      <td>16194</td>\n",
       "      <td>16194</td>\n",
       "    </tr>\n",
       "    <tr>\n",
       "      <th>1</th>\n",
       "      <td>2441</td>\n",
       "      <td>2441</td>\n",
       "      <td>2441</td>\n",
       "      <td>2441</td>\n",
       "      <td>2441</td>\n",
       "      <td>2441</td>\n",
       "      <td>2441</td>\n",
       "      <td>2441</td>\n",
       "      <td>2441</td>\n",
       "      <td>2441</td>\n",
       "      <td>...</td>\n",
       "      <td>2441</td>\n",
       "      <td>2441</td>\n",
       "      <td>2441</td>\n",
       "      <td>2441</td>\n",
       "      <td>2441</td>\n",
       "      <td>2441</td>\n",
       "      <td>2441</td>\n",
       "      <td>2441</td>\n",
       "      <td>2441</td>\n",
       "      <td>2441</td>\n",
       "    </tr>\n",
       "    <tr>\n",
       "      <th>2</th>\n",
       "      <th>0</th>\n",
       "      <td>5887</td>\n",
       "      <td>5887</td>\n",
       "      <td>5887</td>\n",
       "      <td>5887</td>\n",
       "      <td>5887</td>\n",
       "      <td>5887</td>\n",
       "      <td>5887</td>\n",
       "      <td>5887</td>\n",
       "      <td>5887</td>\n",
       "      <td>5887</td>\n",
       "      <td>...</td>\n",
       "      <td>5887</td>\n",
       "      <td>5887</td>\n",
       "      <td>5887</td>\n",
       "      <td>5887</td>\n",
       "      <td>5887</td>\n",
       "      <td>5887</td>\n",
       "      <td>5887</td>\n",
       "      <td>5887</td>\n",
       "      <td>5887</td>\n",
       "      <td>5887</td>\n",
       "    </tr>\n",
       "  </tbody>\n",
       "</table>\n",
       "<p>5 rows × 39 columns</p>\n",
       "</div>"
      ],
      "text/plain": [
       "                                            race  gender    age  \\\n",
       "number_inpatient readmitted_within_30days                         \n",
       "0                0                         59561   59561  59561   \n",
       "                 1                          5518    5518   5518   \n",
       "1                0                         16194   16194  16194   \n",
       "                 1                          2441    2441   2441   \n",
       "2                0                          5887    5887   5887   \n",
       "\n",
       "                                           time_in_hospital  payer_code  \\\n",
       "number_inpatient readmitted_within_30days                                 \n",
       "0                0                                    59561       59561   \n",
       "                 1                                     5518        5518   \n",
       "1                0                                    16194       16194   \n",
       "                 1                                     2441        2441   \n",
       "2                0                                     5887        5887   \n",
       "\n",
       "                                           medical_specialty  \\\n",
       "number_inpatient readmitted_within_30days                      \n",
       "0                0                                     59561   \n",
       "                 1                                      5518   \n",
       "1                0                                     16194   \n",
       "                 1                                      2441   \n",
       "2                0                                      5887   \n",
       "\n",
       "                                           num_lab_procedures  num_procedures  \\\n",
       "number_inpatient readmitted_within_30days                                       \n",
       "0                0                                      59561           59561   \n",
       "                 1                                       5518            5518   \n",
       "1                0                                      16194           16194   \n",
       "                 1                                       2441            2441   \n",
       "2                0                                       5887            5887   \n",
       "\n",
       "                                           num_medications  number_outpatient  \\\n",
       "number_inpatient readmitted_within_30days                                       \n",
       "0                0                                   59561              59561   \n",
       "                 1                                    5518               5518   \n",
       "1                0                                   16194              16194   \n",
       "                 1                                    2441               2441   \n",
       "2                0                                    5887               5887   \n",
       "\n",
       "                                                 ...         insulin  \\\n",
       "number_inpatient readmitted_within_30days        ...                   \n",
       "0                0                               ...           59561   \n",
       "                 1                               ...            5518   \n",
       "1                0                               ...           16194   \n",
       "                 1                               ...            2441   \n",
       "2                0                               ...            5887   \n",
       "\n",
       "                                           glyburide-metformin  \\\n",
       "number_inpatient readmitted_within_30days                        \n",
       "0                0                                       59561   \n",
       "                 1                                        5518   \n",
       "1                0                                       16194   \n",
       "                 1                                        2441   \n",
       "2                0                                        5887   \n",
       "\n",
       "                                           glipizide-metformin  \\\n",
       "number_inpatient readmitted_within_30days                        \n",
       "0                0                                       59561   \n",
       "                 1                                        5518   \n",
       "1                0                                       16194   \n",
       "                 1                                        2441   \n",
       "2                0                                        5887   \n",
       "\n",
       "                                           glimepiride-pioglitazone  \\\n",
       "number_inpatient readmitted_within_30days                             \n",
       "0                0                                            59561   \n",
       "                 1                                             5518   \n",
       "1                0                                            16194   \n",
       "                 1                                             2441   \n",
       "2                0                                             5887   \n",
       "\n",
       "                                           metformin-pioglitazone  \\\n",
       "number_inpatient readmitted_within_30days                           \n",
       "0                0                                          59561   \n",
       "                 1                                           5518   \n",
       "1                0                                          16194   \n",
       "                 1                                           2441   \n",
       "2                0                                           5887   \n",
       "\n",
       "                                           change_diabetes_med  diabetesMed  \\\n",
       "number_inpatient readmitted_within_30days                                     \n",
       "0                0                                       59561        59561   \n",
       "                 1                                        5518         5518   \n",
       "1                0                                       16194        16194   \n",
       "                 1                                        2441         2441   \n",
       "2                0                                        5887         5887   \n",
       "\n",
       "                                           Discharged_to  admission_type  \\\n",
       "number_inpatient readmitted_within_30days                                  \n",
       "0                0                                 59561           59561   \n",
       "                 1                                  5518            5518   \n",
       "1                0                                 16194           16194   \n",
       "                 1                                  2441            2441   \n",
       "2                0                                  5887            5887   \n",
       "\n",
       "                                           admission_source  \n",
       "number_inpatient readmitted_within_30days                    \n",
       "0                0                                    59561  \n",
       "                 1                                     5518  \n",
       "1                0                                    16194  \n",
       "                 1                                     2441  \n",
       "2                0                                     5887  \n",
       "\n",
       "[5 rows x 39 columns]"
      ]
     },
     "execution_count": 32,
     "metadata": {},
     "output_type": "execute_result"
    }
   ],
   "source": [
    "# More prior inpatient encounters =  higher chance of readmission within 30 days\n",
    "\n",
    "diab.groupby(['number_inpatient', 'readmitted_within_30days']).count().head()"
   ]
  },
  {
   "cell_type": "code",
   "execution_count": 33,
   "metadata": {
    "ExecuteTime": {
     "end_time": "2019-12-27T17:39:37.845995Z",
     "start_time": "2019-12-27T17:39:37.704864Z"
    }
   },
   "outputs": [
    {
     "data": {
      "text/html": [
       "<div>\n",
       "<style scoped>\n",
       "    .dataframe tbody tr th:only-of-type {\n",
       "        vertical-align: middle;\n",
       "    }\n",
       "\n",
       "    .dataframe tbody tr th {\n",
       "        vertical-align: top;\n",
       "    }\n",
       "\n",
       "    .dataframe thead th {\n",
       "        text-align: right;\n",
       "    }\n",
       "</style>\n",
       "<table border=\"1\" class=\"dataframe\">\n",
       "  <thead>\n",
       "    <tr style=\"text-align: right;\">\n",
       "      <th></th>\n",
       "      <th>number_emergency</th>\n",
       "      <th>readmitted_within_30days</th>\n",
       "      <th>race</th>\n",
       "      <th>gender</th>\n",
       "      <th>age</th>\n",
       "      <th>time_in_hospital</th>\n",
       "      <th>payer_code</th>\n",
       "      <th>medical_specialty</th>\n",
       "      <th>num_lab_procedures</th>\n",
       "      <th>num_procedures</th>\n",
       "      <th>...</th>\n",
       "      <th>insulin</th>\n",
       "      <th>glyburide-metformin</th>\n",
       "      <th>glipizide-metformin</th>\n",
       "      <th>glimepiride-pioglitazone</th>\n",
       "      <th>metformin-pioglitazone</th>\n",
       "      <th>change_diabetes_med</th>\n",
       "      <th>diabetesMed</th>\n",
       "      <th>Discharged_to</th>\n",
       "      <th>admission_type</th>\n",
       "      <th>admission_source</th>\n",
       "    </tr>\n",
       "  </thead>\n",
       "  <tbody>\n",
       "    <tr>\n",
       "      <th>0</th>\n",
       "      <td>0</td>\n",
       "      <td>0</td>\n",
       "      <td>77476</td>\n",
       "      <td>77476</td>\n",
       "      <td>77476</td>\n",
       "      <td>77476</td>\n",
       "      <td>77476</td>\n",
       "      <td>77476</td>\n",
       "      <td>77476</td>\n",
       "      <td>77476</td>\n",
       "      <td>...</td>\n",
       "      <td>77476</td>\n",
       "      <td>77476</td>\n",
       "      <td>77476</td>\n",
       "      <td>77476</td>\n",
       "      <td>77476</td>\n",
       "      <td>77476</td>\n",
       "      <td>77476</td>\n",
       "      <td>77476</td>\n",
       "      <td>77476</td>\n",
       "      <td>77476</td>\n",
       "    </tr>\n",
       "    <tr>\n",
       "      <th>1</th>\n",
       "      <td>0</td>\n",
       "      <td>1</td>\n",
       "      <td>9152</td>\n",
       "      <td>9152</td>\n",
       "      <td>9152</td>\n",
       "      <td>9152</td>\n",
       "      <td>9152</td>\n",
       "      <td>9152</td>\n",
       "      <td>9152</td>\n",
       "      <td>9152</td>\n",
       "      <td>...</td>\n",
       "      <td>9152</td>\n",
       "      <td>9152</td>\n",
       "      <td>9152</td>\n",
       "      <td>9152</td>\n",
       "      <td>9152</td>\n",
       "      <td>9152</td>\n",
       "      <td>9152</td>\n",
       "      <td>9152</td>\n",
       "      <td>9152</td>\n",
       "      <td>9152</td>\n",
       "    </tr>\n",
       "    <tr>\n",
       "      <th>2</th>\n",
       "      <td>1</td>\n",
       "      <td>0</td>\n",
       "      <td>6291</td>\n",
       "      <td>6291</td>\n",
       "      <td>6291</td>\n",
       "      <td>6291</td>\n",
       "      <td>6291</td>\n",
       "      <td>6291</td>\n",
       "      <td>6291</td>\n",
       "      <td>6291</td>\n",
       "      <td>...</td>\n",
       "      <td>6291</td>\n",
       "      <td>6291</td>\n",
       "      <td>6291</td>\n",
       "      <td>6291</td>\n",
       "      <td>6291</td>\n",
       "      <td>6291</td>\n",
       "      <td>6291</td>\n",
       "      <td>6291</td>\n",
       "      <td>6291</td>\n",
       "      <td>6291</td>\n",
       "    </tr>\n",
       "    <tr>\n",
       "      <th>3</th>\n",
       "      <td>1</td>\n",
       "      <td>1</td>\n",
       "      <td>1078</td>\n",
       "      <td>1078</td>\n",
       "      <td>1078</td>\n",
       "      <td>1078</td>\n",
       "      <td>1078</td>\n",
       "      <td>1078</td>\n",
       "      <td>1078</td>\n",
       "      <td>1078</td>\n",
       "      <td>...</td>\n",
       "      <td>1078</td>\n",
       "      <td>1078</td>\n",
       "      <td>1078</td>\n",
       "      <td>1078</td>\n",
       "      <td>1078</td>\n",
       "      <td>1078</td>\n",
       "      <td>1078</td>\n",
       "      <td>1078</td>\n",
       "      <td>1078</td>\n",
       "      <td>1078</td>\n",
       "    </tr>\n",
       "    <tr>\n",
       "      <th>4</th>\n",
       "      <td>2</td>\n",
       "      <td>0</td>\n",
       "      <td>1586</td>\n",
       "      <td>1586</td>\n",
       "      <td>1586</td>\n",
       "      <td>1586</td>\n",
       "      <td>1586</td>\n",
       "      <td>1586</td>\n",
       "      <td>1586</td>\n",
       "      <td>1586</td>\n",
       "      <td>...</td>\n",
       "      <td>1586</td>\n",
       "      <td>1586</td>\n",
       "      <td>1586</td>\n",
       "      <td>1586</td>\n",
       "      <td>1586</td>\n",
       "      <td>1586</td>\n",
       "      <td>1586</td>\n",
       "      <td>1586</td>\n",
       "      <td>1586</td>\n",
       "      <td>1586</td>\n",
       "    </tr>\n",
       "  </tbody>\n",
       "</table>\n",
       "<p>5 rows × 41 columns</p>\n",
       "</div>"
      ],
      "text/plain": [
       "   number_emergency  readmitted_within_30days   race  gender    age  \\\n",
       "0                 0                         0  77476   77476  77476   \n",
       "1                 0                         1   9152    9152   9152   \n",
       "2                 1                         0   6291    6291   6291   \n",
       "3                 1                         1   1078    1078   1078   \n",
       "4                 2                         0   1586    1586   1586   \n",
       "\n",
       "   time_in_hospital  payer_code  medical_specialty  num_lab_procedures  \\\n",
       "0             77476       77476              77476               77476   \n",
       "1              9152        9152               9152                9152   \n",
       "2              6291        6291               6291                6291   \n",
       "3              1078        1078               1078                1078   \n",
       "4              1586        1586               1586                1586   \n",
       "\n",
       "   num_procedures        ...         insulin  glyburide-metformin  \\\n",
       "0           77476        ...           77476                77476   \n",
       "1            9152        ...            9152                 9152   \n",
       "2            6291        ...            6291                 6291   \n",
       "3            1078        ...            1078                 1078   \n",
       "4            1586        ...            1586                 1586   \n",
       "\n",
       "   glipizide-metformin  glimepiride-pioglitazone  metformin-pioglitazone  \\\n",
       "0                77476                     77476                   77476   \n",
       "1                 9152                      9152                    9152   \n",
       "2                 6291                      6291                    6291   \n",
       "3                 1078                      1078                    1078   \n",
       "4                 1586                      1586                    1586   \n",
       "\n",
       "   change_diabetes_med  diabetesMed  Discharged_to  admission_type  \\\n",
       "0                77476        77476          77476           77476   \n",
       "1                 9152         9152           9152            9152   \n",
       "2                 6291         6291           6291            6291   \n",
       "3                 1078         1078           1078            1078   \n",
       "4                 1586         1586           1586            1586   \n",
       "\n",
       "   admission_source  \n",
       "0             77476  \n",
       "1              9152  \n",
       "2              6291  \n",
       "3              1078  \n",
       "4              1586  \n",
       "\n",
       "[5 rows x 41 columns]"
      ]
     },
     "execution_count": 33,
     "metadata": {},
     "output_type": "execute_result"
    }
   ],
   "source": [
    "# More prior emergency encounters = higher chance of readmission within 30 days\n",
    "\n",
    "diab.groupby(['number_emergency', 'readmitted_within_30days']).count().reset_index().head()"
   ]
  },
  {
   "cell_type": "markdown",
   "metadata": {},
   "source": [
    "### One hot encoding"
   ]
  },
  {
   "cell_type": "code",
   "execution_count": 46,
   "metadata": {
    "ExecuteTime": {
     "end_time": "2019-12-27T17:43:18.507520Z",
     "start_time": "2019-12-27T17:43:18.248666Z"
    }
   },
   "outputs": [],
   "source": [
    "# All categorical featurese\n",
    "\n",
    "cats = ['race', 'gender', 'age', 'max_glu_serum', 'A1Cresult', 'admission_type', 'Discharged_to', 'admission_source',\n",
    "        'payer_code', 'medical_specialty', 'change_diabetes_med', 'diabetesMed', 'insulin', 'metformin', 'glipizide',\n",
    "        'glyburide', 'repaglinide', 'nateglinide', 'chlorpropamide', 'glimepiride', 'tolbutamide', 'pioglitazone',\n",
    "        'rosiglitazone', 'acarbose', 'miglitol', 'troglitazone', 'tolazamide', 'glyburide-metformin', 'glipizide-metformin',\n",
    "        'metformin-pioglitazone', 'acetohexamide', 'glimepiride-pioglitazone', 'readmitted_within_30days']\n",
    "\n",
    "df_cat = pd.get_dummies(diab[cats])"
   ]
  },
  {
   "cell_type": "markdown",
   "metadata": {},
   "source": [
    "### Numerical variables"
   ]
  },
  {
   "cell_type": "code",
   "execution_count": 47,
   "metadata": {
    "ExecuteTime": {
     "end_time": "2019-12-27T17:43:26.086279Z",
     "start_time": "2019-12-27T17:43:26.074228Z"
    }
   },
   "outputs": [],
   "source": [
    "nums = ['number_outpatient', 'number_inpatient', 'number_emergency', 'number_diagnoses',\n",
    "        'time_in_hospital', 'num_lab_procedures', 'num_procedures', 'num_medications']\n",
    "\n",
    "df_num = diab[nums]"
   ]
  },
  {
   "cell_type": "markdown",
   "metadata": {},
   "source": [
    "### Concatenate numerical and categorical DataFrames into master DataFrame"
   ]
  },
  {
   "cell_type": "code",
   "execution_count": 38,
   "metadata": {
    "ExecuteTime": {
     "end_time": "2019-12-27T17:39:44.784445Z",
     "start_time": "2019-12-27T17:39:44.746091Z"
    }
   },
   "outputs": [],
   "source": [
    "df = pd.concat([df_num, df_cat], axis=1)"
   ]
  },
  {
   "cell_type": "code",
   "execution_count": 39,
   "metadata": {
    "ExecuteTime": {
     "end_time": "2019-12-27T17:39:44.922524Z",
     "start_time": "2019-12-27T17:39:44.913151Z"
    }
   },
   "outputs": [],
   "source": [
    "# Move target variable to the final column for readability purposes\n",
    "\n",
    "target = df.pop('readmitted_within_30days')\n",
    "df['readmitted_within_30days'] = target"
   ]
  },
  {
   "cell_type": "code",
   "execution_count": 40,
   "metadata": {
    "ExecuteTime": {
     "end_time": "2019-12-27T17:39:45.143668Z",
     "start_time": "2019-12-27T17:39:45.107499Z"
    }
   },
   "outputs": [],
   "source": [
    "# Rename columns to avoid XGBoost error\n",
    "\n",
    "df.rename(columns={'max_glu_serum_>200': 'max_glu_serum_greater_200',\n",
    "                     'max_glu_serum_>300': 'max_glu_serum_greater_300',\n",
    "                     'A1Cresult_>7': 'A1Cresult_greater_7',\n",
    "                     'A1Cresult_>8': 'A1Cresult_greater_8',\n",
    "                      }, inplace=True)"
   ]
  },
  {
   "cell_type": "markdown",
   "metadata": {},
   "source": [
    "### EDA part 2"
   ]
  },
  {
   "cell_type": "code",
   "execution_count": 41,
   "metadata": {
    "ExecuteTime": {
     "end_time": "2019-12-27T17:39:48.111511Z",
     "start_time": "2019-12-27T17:39:47.770858Z"
    }
   },
   "outputs": [
    {
     "data": {
      "text/html": [
       "<div>\n",
       "<style scoped>\n",
       "    .dataframe tbody tr th:only-of-type {\n",
       "        vertical-align: middle;\n",
       "    }\n",
       "\n",
       "    .dataframe tbody tr th {\n",
       "        vertical-align: top;\n",
       "    }\n",
       "\n",
       "    .dataframe thead th {\n",
       "        text-align: right;\n",
       "    }\n",
       "</style>\n",
       "<table border=\"1\" class=\"dataframe\">\n",
       "  <thead>\n",
       "    <tr style=\"text-align: right;\">\n",
       "      <th></th>\n",
       "      <th>number_outpatient</th>\n",
       "      <th>number_inpatient</th>\n",
       "      <th>number_emergency</th>\n",
       "      <th>number_diagnoses</th>\n",
       "      <th>time_in_hospital</th>\n",
       "      <th>num_lab_procedures</th>\n",
       "      <th>num_procedures</th>\n",
       "      <th>num_medications</th>\n",
       "      <th>change_diabetes_med</th>\n",
       "      <th>diabetesMed</th>\n",
       "      <th>...</th>\n",
       "      <th>glyburide-metformin_Steady</th>\n",
       "      <th>glyburide-metformin_Up</th>\n",
       "      <th>glipizide-metformin_0</th>\n",
       "      <th>glipizide-metformin_Steady</th>\n",
       "      <th>metformin-pioglitazone_0</th>\n",
       "      <th>metformin-pioglitazone_Steady</th>\n",
       "      <th>acetohexamide_0</th>\n",
       "      <th>acetohexamide_Steady</th>\n",
       "      <th>glimepiride-pioglitazone_0</th>\n",
       "      <th>glimepiride-pioglitazone_Steady</th>\n",
       "    </tr>\n",
       "    <tr>\n",
       "      <th>readmitted_within_30days</th>\n",
       "      <th></th>\n",
       "      <th></th>\n",
       "      <th></th>\n",
       "      <th></th>\n",
       "      <th></th>\n",
       "      <th></th>\n",
       "      <th></th>\n",
       "      <th></th>\n",
       "      <th></th>\n",
       "      <th></th>\n",
       "      <th></th>\n",
       "      <th></th>\n",
       "      <th></th>\n",
       "      <th></th>\n",
       "      <th></th>\n",
       "      <th></th>\n",
       "      <th></th>\n",
       "      <th></th>\n",
       "      <th></th>\n",
       "      <th></th>\n",
       "      <th></th>\n",
       "    </tr>\n",
       "  </thead>\n",
       "  <tbody>\n",
       "    <tr>\n",
       "      <th>0</th>\n",
       "      <td>0.362835</td>\n",
       "      <td>0.554286</td>\n",
       "      <td>0.178674</td>\n",
       "      <td>7.361114</td>\n",
       "      <td>4.298972</td>\n",
       "      <td>42.675716</td>\n",
       "      <td>1.341751</td>\n",
       "      <td>15.821003</td>\n",
       "      <td>0.460860</td>\n",
       "      <td>0.768403</td>\n",
       "      <td>...</td>\n",
       "      <td>0.006966</td>\n",
       "      <td>0.000092</td>\n",
       "      <td>0.999861</td>\n",
       "      <td>0.000139</td>\n",
       "      <td>0.999988</td>\n",
       "      <td>0.000012</td>\n",
       "      <td>0.999988</td>\n",
       "      <td>0.000012</td>\n",
       "      <td>0.999988</td>\n",
       "      <td>0.000012</td>\n",
       "    </tr>\n",
       "    <tr>\n",
       "      <th>1</th>\n",
       "      <td>0.441839</td>\n",
       "      <td>1.231189</td>\n",
       "      <td>0.361778</td>\n",
       "      <td>7.699836</td>\n",
       "      <td>4.752090</td>\n",
       "      <td>44.203835</td>\n",
       "      <td>1.287804</td>\n",
       "      <td>16.893857</td>\n",
       "      <td>0.490004</td>\n",
       "      <td>0.802254</td>\n",
       "      <td>...</td>\n",
       "      <td>0.006634</td>\n",
       "      <td>0.000000</td>\n",
       "      <td>0.999909</td>\n",
       "      <td>0.000091</td>\n",
       "      <td>1.000000</td>\n",
       "      <td>0.000000</td>\n",
       "      <td>1.000000</td>\n",
       "      <td>0.000000</td>\n",
       "      <td>1.000000</td>\n",
       "      <td>0.000000</td>\n",
       "    </tr>\n",
       "  </tbody>\n",
       "</table>\n",
       "<p>2 rows × 234 columns</p>\n",
       "</div>"
      ],
      "text/plain": [
       "                          number_outpatient  number_inpatient  \\\n",
       "readmitted_within_30days                                        \n",
       "0                                  0.362835          0.554286   \n",
       "1                                  0.441839          1.231189   \n",
       "\n",
       "                          number_emergency  number_diagnoses  \\\n",
       "readmitted_within_30days                                       \n",
       "0                                 0.178674          7.361114   \n",
       "1                                 0.361778          7.699836   \n",
       "\n",
       "                          time_in_hospital  num_lab_procedures  \\\n",
       "readmitted_within_30days                                         \n",
       "0                                 4.298972           42.675716   \n",
       "1                                 4.752090           44.203835   \n",
       "\n",
       "                          num_procedures  num_medications  \\\n",
       "readmitted_within_30days                                    \n",
       "0                               1.341751        15.821003   \n",
       "1                               1.287804        16.893857   \n",
       "\n",
       "                          change_diabetes_med  diabetesMed  \\\n",
       "readmitted_within_30days                                     \n",
       "0                                    0.460860     0.768403   \n",
       "1                                    0.490004     0.802254   \n",
       "\n",
       "                                       ...                 \\\n",
       "readmitted_within_30days               ...                  \n",
       "0                                      ...                  \n",
       "1                                      ...                  \n",
       "\n",
       "                          glyburide-metformin_Steady  glyburide-metformin_Up  \\\n",
       "readmitted_within_30days                                                       \n",
       "0                                           0.006966                0.000092   \n",
       "1                                           0.006634                0.000000   \n",
       "\n",
       "                          glipizide-metformin_0  glipizide-metformin_Steady  \\\n",
       "readmitted_within_30days                                                      \n",
       "0                                      0.999861                    0.000139   \n",
       "1                                      0.999909                    0.000091   \n",
       "\n",
       "                          metformin-pioglitazone_0  \\\n",
       "readmitted_within_30days                             \n",
       "0                                         0.999988   \n",
       "1                                         1.000000   \n",
       "\n",
       "                          metformin-pioglitazone_Steady  acetohexamide_0  \\\n",
       "readmitted_within_30days                                                   \n",
       "0                                              0.000012         0.999988   \n",
       "1                                              0.000000         1.000000   \n",
       "\n",
       "                          acetohexamide_Steady  glimepiride-pioglitazone_0  \\\n",
       "readmitted_within_30days                                                     \n",
       "0                                     0.000012                    0.999988   \n",
       "1                                     0.000000                    1.000000   \n",
       "\n",
       "                          glimepiride-pioglitazone_Steady  \n",
       "readmitted_within_30days                                   \n",
       "0                                                0.000012  \n",
       "1                                                0.000000  \n",
       "\n",
       "[2 rows x 234 columns]"
      ]
     },
     "execution_count": 41,
     "metadata": {},
     "output_type": "execute_result"
    }
   ],
   "source": [
    "# Cursory glance at which factors influence readmission rates\n",
    "\n",
    "df.groupby(['readmitted_within_30days']).mean()"
   ]
  },
  {
   "cell_type": "markdown",
   "metadata": {},
   "source": [
    "### Simply testing A1C levels may lower readmission rates "
   ]
  },
  {
   "cell_type": "code",
   "execution_count": 43,
   "metadata": {
    "ExecuteTime": {
     "end_time": "2019-12-27T17:39:51.116112Z",
     "start_time": "2019-12-27T17:39:51.103794Z"
    }
   },
   "outputs": [
    {
     "data": {
      "text/plain": [
       "readmitted_within_30days\n",
       "0    0.827923\n",
       "1    0.852781\n",
       "Name: A1Cresult_None, dtype: float64"
      ]
     },
     "execution_count": 43,
     "metadata": {},
     "output_type": "execute_result"
    }
   ],
   "source": [
    "# Patients who are readmitted in < 30 days are LESS likely to have had A1C measured \n",
    "# than those who were not readmitted in < 30 days.\n",
    "\n",
    "df.groupby(['readmitted_within_30days'])['A1Cresult_None'].mean()"
   ]
  },
  {
   "cell_type": "code",
   "execution_count": 44,
   "metadata": {
    "ExecuteTime": {
     "end_time": "2019-12-27T17:39:51.627877Z",
     "start_time": "2019-12-27T17:39:51.616801Z"
    }
   },
   "outputs": [
    {
     "data": {
      "text/plain": [
       "readmitted_within_30days\n",
       "0    0.050578\n",
       "1    0.042439\n",
       "Name: A1Cresult_Norm, dtype: float64"
      ]
     },
     "execution_count": 44,
     "metadata": {},
     "output_type": "execute_result"
    }
   ],
   "source": [
    "# Patients who are readmitted in < 30 days are LESS likely to have had a normal A1C result\n",
    "# than those who were not readmitted in < 30 days \n",
    "\n",
    "df.groupby(['readmitted_within_30days'])['A1Cresult_Norm'].mean()"
   ]
  },
  {
   "cell_type": "markdown",
   "metadata": {},
   "source": [
    "### Pickle"
   ]
  },
  {
   "cell_type": "code",
   "execution_count": 45,
   "metadata": {
    "ExecuteTime": {
     "end_time": "2019-12-27T17:39:52.835448Z",
     "start_time": "2019-12-27T17:39:52.780868Z"
    }
   },
   "outputs": [],
   "source": [
    "with open('df.pkl', 'wb') as f:\n",
    "    pickle.dump(df, f)"
   ]
  },
  {
   "cell_type": "markdown",
   "metadata": {
    "heading_collapsed": true
   },
   "source": [
    "### Modeling"
   ]
  },
  {
   "cell_type": "code",
   "execution_count": 118,
   "metadata": {
    "ExecuteTime": {
     "end_time": "2019-12-27T16:36:54.968554Z",
     "start_time": "2019-12-27T16:36:54.846152Z"
    },
    "hidden": true
   },
   "outputs": [],
   "source": [
    "X, y = (df.iloc[:,:-1], df.iloc[:, -1])\n",
    "X_train, X_test, y_train, y_test = train_test_split(X, y, test_size=0.3)"
   ]
  },
  {
   "cell_type": "markdown",
   "metadata": {
    "heading_collapsed": true
   },
   "source": [
    "### Scale"
   ]
  },
  {
   "cell_type": "code",
   "execution_count": 124,
   "metadata": {
    "ExecuteTime": {
     "end_time": "2019-12-27T16:38:47.676318Z",
     "start_time": "2019-12-27T16:38:47.007316Z"
    },
    "hidden": true
   },
   "outputs": [],
   "source": [
    "scaler = StandardScaler()\n",
    "X_train = scaler.fit_transform(X_train)\n",
    "X_test = scaler.transform(X_test) #hmmmmmmm"
   ]
  },
  {
   "cell_type": "markdown",
   "metadata": {
    "heading_collapsed": true
   },
   "source": [
    "### Address class imbalance by oversampling the positive class"
   ]
  },
  {
   "cell_type": "code",
   "execution_count": 125,
   "metadata": {
    "ExecuteTime": {
     "end_time": "2019-12-27T16:38:49.819734Z",
     "start_time": "2019-12-27T16:38:49.162497Z"
    },
    "hidden": true
   },
   "outputs": [],
   "source": [
    "# Oversample the positive observations to deal with class imbalance\n",
    "# Leads to higher recall and AUC than passing \"class_weight: balanced\"\n",
    "\n",
    "n_pos = np.sum(y_train == 1) # 7665 observations\n",
    "n_neg = np.sum(y_train == 0) # 60629 observations\n",
    "ratio = {1 : n_pos * 8, 0 : n_neg}\n",
    "\n",
    "ROS = imblearn.over_sampling.RandomOverSampler(ratio = ratio) \n",
    "    \n",
    "X_train, y_train = ROS.fit_sample(X_train, y_train)"
   ]
  },
  {
   "cell_type": "markdown",
   "metadata": {
    "heading_collapsed": true
   },
   "source": [
    "### Logistic Regression"
   ]
  },
  {
   "cell_type": "code",
   "execution_count": 126,
   "metadata": {
    "ExecuteTime": {
     "end_time": "2019-12-27T16:46:19.157279Z",
     "start_time": "2019-12-27T16:38:52.670090Z"
    },
    "hidden": true
   },
   "outputs": [],
   "source": [
    "logistic = LogisticRegression(solver='liblinear', C= .5, penalty='l1') \n",
    "logistic.fit(X_train, y_train)\n",
    "y_pred_logistic = logistic.predict(X_test)"
   ]
  },
  {
   "cell_type": "code",
   "execution_count": 2272,
   "metadata": {
    "hidden": true
   },
   "outputs": [],
   "source": [
    "# Tune hyperparameters\n",
    "\n",
    "param_grid_log = {\n",
    "                 'C': [.5, 1, 5],\n",
    "                 'penalty': ['l1', 'l2']\n",
    "             }\n",
    "\n",
    "auc_score = make_scorer(roc_auc_score) # Optimize AUC\n",
    "\n",
    "logistic = RandomizedSearchCV(logistic, param_grid_log, cv=2, scoring = auc_score, verbose=True)\n",
    "logistic.fit(X_train, y_train)"
   ]
  },
  {
   "cell_type": "code",
   "execution_count": 2276,
   "metadata": {
    "hidden": true
   },
   "outputs": [
    {
     "data": {
      "text/plain": [
       "{'C': 0.5, 'penalty': 'l1'}"
      ]
     },
     "execution_count": 2276,
     "metadata": {},
     "output_type": "execute_result"
    }
   ],
   "source": [
    "logistic.best_params_"
   ]
  },
  {
   "cell_type": "code",
   "execution_count": 127,
   "metadata": {
    "ExecuteTime": {
     "end_time": "2019-12-27T16:46:19.203784Z",
     "start_time": "2019-12-27T16:46:19.168938Z"
    },
    "hidden": true
   },
   "outputs": [],
   "source": [
    "y_proba_logistic = logistic.predict_proba(X_test)[:,1]\n",
    "fpr_ros, tpr_ros, thresh = roc_curve(y_test, y_proba_logistic)"
   ]
  },
  {
   "cell_type": "code",
   "execution_count": 128,
   "metadata": {
    "ExecuteTime": {
     "end_time": "2019-12-27T16:46:19.240883Z",
     "start_time": "2019-12-27T16:46:19.206517Z"
    },
    "hidden": true,
    "scrolled": true
   },
   "outputs": [
    {
     "name": "stdout",
     "output_type": "stream",
     "text": [
      "AUC: 0.6584374027903521\n",
      "F1 Score: 0.20427817390499123\n",
      "F 1.5 Score: 0.2942580786384656\n",
      "Recall: 0.9966867469879518\n",
      "Precision: 0.11380128623998349\n",
      "Accuracy: 0.11926887598223437\n"
     ]
    }
   ],
   "source": [
    "# Optimized Logistic Regression Scores\n",
    "\n",
    "print('AUC:', auc(fpr_ros, tpr_ros))\n",
    "print('F1 Score:', f1_score(y_test, y_pred_logistic))\n",
    "print('F 1.5 Score:', fbeta_score(y_test, y_pred_logistic, 1.5))\n",
    "print('Recall:', recall_score(y_test, y_pred_logistic))\n",
    "print('Precision:', precision_score(y_test, y_pred_logistic))\n",
    "print('Accuracy:', accuracy_score(y_test, y_pred_logistic))"
   ]
  },
  {
   "cell_type": "code",
   "execution_count": 2639,
   "metadata": {
    "hidden": true
   },
   "outputs": [
    {
     "data": {
      "image/png": "[encoded data removed]",
      "text/plain": [
       "<Figure size 864x504 with 2 Axes>"
      ]
     },
     "metadata": {},
     "output_type": "display_data"
    }
   ],
   "source": [
    "'''Logistic confusion matrix with oversampling. \n",
    "Not a perfect model, but it does a decent job at\n",
    "minimizing false negatives (optimizing for recall)\n",
    "'''\n",
    "\n",
    "plt.figure(figsize=(12, 7))\n",
    "\n",
    "cm_logistic = confusion_matrix(y_test, y_pred_logistic)\n",
    "ax = sns.heatmap(cm_logistic, annot=True, cbar=True,\n",
    "                xticklabels = ['Not Readmitted', 'Readmitted < 30 Days'])\n",
    "\n",
    "ax.tick_params(labelsize=14)\n",
    "plt.title('Logistic Regression Confusion Matrix', fontsize=16, fontweight='bold')\n",
    "plt.xlabel('Predicted', fontsize=16, labelpad=15)\n",
    "plt.ylabel('Actual', fontsize=16, labelpad=15);\n",
    "\n",
    "\n",
    "plt.savefig('LogisticRegressionConfusionMatrix.png', bbox_inches='tight')"
   ]
  },
  {
   "cell_type": "markdown",
   "metadata": {
    "heading_collapsed": true
   },
   "source": [
    "### KNN (computationally expensive – lower AUC and recall scores)"
   ]
  },
  {
   "cell_type": "code",
   "execution_count": 2063,
   "metadata": {
    "hidden": true
   },
   "outputs": [],
   "source": [
    "# neighbors = KNeighborsClassifier(n_neighbors=10)\n",
    "# neighbors.fit(X_train_ros, y_train_ros)\n",
    "# y_prediction_neighbors = neighbors.predict(X_test)"
   ]
  },
  {
   "cell_type": "code",
   "execution_count": 2064,
   "metadata": {
    "hidden": true
   },
   "outputs": [],
   "source": [
    "# # KNN confusion matrix\n",
    "\n",
    "# plt.figure(figsize=(8, 5))\n",
    "\n",
    "# cm_neighbors = confusion_matrix(y_test, y_prediction_neighbors)\n",
    "# ax = sns.heatmap(cm_neighbors, annot=True)\n",
    "# ax.set(title = 'KNN Confusion Matrix', xlabel='Predicted', ylabel='Actual');"
   ]
  },
  {
   "cell_type": "markdown",
   "metadata": {
    "heading_collapsed": true
   },
   "source": [
    "### Naive Bayes (Too many false positives)"
   ]
  },
  {
   "cell_type": "code",
   "execution_count": 2286,
   "metadata": {
    "hidden": true
   },
   "outputs": [],
   "source": [
    "# bayes_model = GaussianNB()\n",
    "# bayes_model.fit(X_train_ros, y_train_ros)\n",
    "# y_prediction_bayes = bayes_model.predict(X_test)"
   ]
  },
  {
   "cell_type": "code",
   "execution_count": 2519,
   "metadata": {
    "hidden": true
   },
   "outputs": [
    {
     "data": {
      "image/png": "[encoded data removed]",
      "text/plain": [
       "<Figure size 576x360 with 2 Axes>"
      ]
     },
     "metadata": {},
     "output_type": "display_data"
    }
   ],
   "source": [
    "# Naive confusion matrix\n",
    "# While the results are skewed in a favorable direction, they are too skewed. \n",
    "# Model should privilege false positives, but not to this extent\n",
    "\n",
    "# plt.figure(figsize=(8, 5))\n",
    "\n",
    "# cm_neighbors = confusion_matrix(y_test, y_prediction_bayes)\n",
    "# ax = sns.heatmap(cm_neighbors, annot=True)\n",
    "# ax.set(title = 'Naive Bayes Confusion Matrix', xlabel='Predicted', ylabel='Actual');"
   ]
  },
  {
   "cell_type": "markdown",
   "metadata": {
    "heading_collapsed": true
   },
   "source": [
    "### Support Vector Classifier (Computationaly expensive)"
   ]
  },
  {
   "cell_type": "code",
   "execution_count": 2067,
   "metadata": {
    "hidden": true
   },
   "outputs": [],
   "source": [
    "# svm = SVM()\n",
    "# svm.fit(X_train, y_train)\n",
    "# y_prediction_svm = svm.predict(X_test)"
   ]
  },
  {
   "cell_type": "markdown",
   "metadata": {
    "heading_collapsed": true
   },
   "source": [
    "### Decision Tree"
   ]
  },
  {
   "cell_type": "code",
   "execution_count": 2068,
   "metadata": {
    "hidden": true
   },
   "outputs": [],
   "source": [
    "# tree = DecisionTreeClassifier(max_depth=8)\n",
    "# tree.fit(X_train_ros, y_train_ros)\n",
    "# y_prediction_tree = tree.predict(X_test)"
   ]
  },
  {
   "cell_type": "code",
   "execution_count": 2069,
   "metadata": {
    "hidden": true
   },
   "outputs": [],
   "source": [
    "# y_proba_tree = tree.predict_proba(X_test)[:,1]\n",
    "# fpr_ros_tree, tpr_ros_tree, thresh = roc_curve(y_test, y_proba_tree)\n",
    "# print('Tree AUC:', auc(fpr_ros_tree, tpr_ros_tree))\n",
    "# print('Tree F1 Score:', f1_score(y_test, y_prediction_tree))\n",
    "# print('Tree F 1.5 Score:', fbeta_score(y_test, y_prediction_tree, 1.5))\n",
    "# print('Tree Recall:', recall_score(y_test, y_prediction_tree))\n",
    "# print('Tree Precision:', precision_score(y_test, y_prediction_tree))\n",
    "# print('Tree Accuracy:', accuracy_score(y_test, y_prediction_tree))"
   ]
  },
  {
   "cell_type": "code",
   "execution_count": 2277,
   "metadata": {
    "hidden": true
   },
   "outputs": [],
   "source": [
    "# Decision Tree confusion matrix\n",
    "# Skewed 'favorably', but far less precise and lower recall than logistic, forest, and boost models\n",
    "\n",
    "# plt.figure(figsize=(8, 5))\n",
    "\n",
    "# cm_neighbors = confusion_matrix(y_test, y_prediction_tree)\n",
    "# ax = sns.heatmap(cm_neighbors, annot=True)\n",
    "# ax.set(title = 'Decision Tree Confusion Matrix', xlabel='Predicted', ylabel='Actual');"
   ]
  },
  {
   "cell_type": "markdown",
   "metadata": {
    "heading_collapsed": true
   },
   "source": [
    "### Random Forest"
   ]
  },
  {
   "cell_type": "code",
   "execution_count": 131,
   "metadata": {
    "ExecuteTime": {
     "end_time": "2019-12-27T16:47:05.160971Z",
     "start_time": "2019-12-27T16:46:55.082499Z"
    },
    "hidden": true
   },
   "outputs": [
    {
     "ename": "KeyboardInterrupt",
     "evalue": "",
     "output_type": "error",
     "traceback": [
      "\u001b[0;31m---------------------------------------------------------------------------\u001b[0m",
      "\u001b[0;31mKeyboardInterrupt\u001b[0m                         Traceback (most recent call last)",
      "\u001b[0;32m<ipython-input-131-0d7741e96db4>\u001b[0m in \u001b[0;36m<module>\u001b[0;34m()\u001b[0m\n\u001b[1;32m      1\u001b[0m \u001b[0mforest\u001b[0m \u001b[0;34m=\u001b[0m \u001b[0mRandomForestClassifier\u001b[0m\u001b[0;34m(\u001b[0m\u001b[0mn_estimators\u001b[0m \u001b[0;34m=\u001b[0m \u001b[0;36m600\u001b[0m\u001b[0;34m,\u001b[0m \u001b[0mmax_depth\u001b[0m\u001b[0;34m=\u001b[0m\u001b[0;36m12\u001b[0m\u001b[0;34m)\u001b[0m\u001b[0;34m\u001b[0m\u001b[0m\n\u001b[1;32m      2\u001b[0m \u001b[0;34m\u001b[0m\u001b[0m\n\u001b[0;32m----> 3\u001b[0;31m \u001b[0mforest\u001b[0m\u001b[0;34m.\u001b[0m\u001b[0mfit\u001b[0m\u001b[0;34m(\u001b[0m\u001b[0mX_train_ros\u001b[0m\u001b[0;34m,\u001b[0m \u001b[0my_train_ros\u001b[0m\u001b[0;34m)\u001b[0m\u001b[0;34m\u001b[0m\u001b[0m\n\u001b[0m\u001b[1;32m      4\u001b[0m \u001b[0my_pred_forest\u001b[0m \u001b[0;34m=\u001b[0m \u001b[0mforest\u001b[0m\u001b[0;34m.\u001b[0m\u001b[0mpredict\u001b[0m\u001b[0;34m(\u001b[0m\u001b[0mX_test\u001b[0m\u001b[0;34m)\u001b[0m\u001b[0;34m\u001b[0m\u001b[0m\n",
      "\u001b[0;32m/miniconda3/lib/python3.5/site-packages/sklearn/ensemble/forest.py\u001b[0m in \u001b[0;36mfit\u001b[0;34m(self, X, y, sample_weight)\u001b[0m\n\u001b[1;32m    326\u001b[0m                     \u001b[0mt\u001b[0m\u001b[0;34m,\u001b[0m \u001b[0mself\u001b[0m\u001b[0;34m,\u001b[0m \u001b[0mX\u001b[0m\u001b[0;34m,\u001b[0m \u001b[0my\u001b[0m\u001b[0;34m,\u001b[0m \u001b[0msample_weight\u001b[0m\u001b[0;34m,\u001b[0m \u001b[0mi\u001b[0m\u001b[0;34m,\u001b[0m \u001b[0mlen\u001b[0m\u001b[0;34m(\u001b[0m\u001b[0mtrees\u001b[0m\u001b[0;34m)\u001b[0m\u001b[0;34m,\u001b[0m\u001b[0;34m\u001b[0m\u001b[0m\n\u001b[1;32m    327\u001b[0m                     verbose=self.verbose, class_weight=self.class_weight)\n\u001b[0;32m--> 328\u001b[0;31m                 for i, t in enumerate(trees))\n\u001b[0m\u001b[1;32m    329\u001b[0m \u001b[0;34m\u001b[0m\u001b[0m\n\u001b[1;32m    330\u001b[0m             \u001b[0;31m# Collect newly grown trees\u001b[0m\u001b[0;34m\u001b[0m\u001b[0;34m\u001b[0m\u001b[0m\n",
      "\u001b[0;32m/miniconda3/lib/python3.5/site-packages/sklearn/externals/joblib/parallel.py\u001b[0m in \u001b[0;36m__call__\u001b[0;34m(self, iterable)\u001b[0m\n\u001b[1;32m    777\u001b[0m             \u001b[0;31m# was dispatched. In particular this covers the edge\u001b[0m\u001b[0;34m\u001b[0m\u001b[0;34m\u001b[0m\u001b[0m\n\u001b[1;32m    778\u001b[0m             \u001b[0;31m# case of Parallel used with an exhausted iterator.\u001b[0m\u001b[0;34m\u001b[0m\u001b[0;34m\u001b[0m\u001b[0m\n\u001b[0;32m--> 779\u001b[0;31m             \u001b[0;32mwhile\u001b[0m \u001b[0mself\u001b[0m\u001b[0;34m.\u001b[0m\u001b[0mdispatch_one_batch\u001b[0m\u001b[0;34m(\u001b[0m\u001b[0miterator\u001b[0m\u001b[0;34m)\u001b[0m\u001b[0;34m:\u001b[0m\u001b[0;34m\u001b[0m\u001b[0m\n\u001b[0m\u001b[1;32m    780\u001b[0m                 \u001b[0mself\u001b[0m\u001b[0;34m.\u001b[0m\u001b[0m_iterating\u001b[0m \u001b[0;34m=\u001b[0m \u001b[0;32mTrue\u001b[0m\u001b[0;34m\u001b[0m\u001b[0m\n\u001b[1;32m    781\u001b[0m             \u001b[0;32melse\u001b[0m\u001b[0;34m:\u001b[0m\u001b[0;34m\u001b[0m\u001b[0m\n",
      "\u001b[0;32m/miniconda3/lib/python3.5/site-packages/sklearn/externals/joblib/parallel.py\u001b[0m in \u001b[0;36mdispatch_one_batch\u001b[0;34m(self, iterator)\u001b[0m\n\u001b[1;32m    623\u001b[0m                 \u001b[0;32mreturn\u001b[0m \u001b[0;32mFalse\u001b[0m\u001b[0;34m\u001b[0m\u001b[0m\n\u001b[1;32m    624\u001b[0m             \u001b[0;32melse\u001b[0m\u001b[0;34m:\u001b[0m\u001b[0;34m\u001b[0m\u001b[0m\n\u001b[0;32m--> 625\u001b[0;31m                 \u001b[0mself\u001b[0m\u001b[0;34m.\u001b[0m\u001b[0m_dispatch\u001b[0m\u001b[0;34m(\u001b[0m\u001b[0mtasks\u001b[0m\u001b[0;34m)\u001b[0m\u001b[0;34m\u001b[0m\u001b[0m\n\u001b[0m\u001b[1;32m    626\u001b[0m                 \u001b[0;32mreturn\u001b[0m \u001b[0;32mTrue\u001b[0m\u001b[0;34m\u001b[0m\u001b[0m\n\u001b[1;32m    627\u001b[0m \u001b[0;34m\u001b[0m\u001b[0m\n",
      "\u001b[0;32m/miniconda3/lib/python3.5/site-packages/sklearn/externals/joblib/parallel.py\u001b[0m in \u001b[0;36m_dispatch\u001b[0;34m(self, batch)\u001b[0m\n\u001b[1;32m    586\u001b[0m         \u001b[0mdispatch_timestamp\u001b[0m \u001b[0;34m=\u001b[0m \u001b[0mtime\u001b[0m\u001b[0;34m.\u001b[0m\u001b[0mtime\u001b[0m\u001b[0;34m(\u001b[0m\u001b[0;34m)\u001b[0m\u001b[0;34m\u001b[0m\u001b[0m\n\u001b[1;32m    587\u001b[0m         \u001b[0mcb\u001b[0m \u001b[0;34m=\u001b[0m \u001b[0mBatchCompletionCallBack\u001b[0m\u001b[0;34m(\u001b[0m\u001b[0mdispatch_timestamp\u001b[0m\u001b[0;34m,\u001b[0m \u001b[0mlen\u001b[0m\u001b[0;34m(\u001b[0m\u001b[0mbatch\u001b[0m\u001b[0;34m)\u001b[0m\u001b[0;34m,\u001b[0m \u001b[0mself\u001b[0m\u001b[0;34m)\u001b[0m\u001b[0;34m\u001b[0m\u001b[0m\n\u001b[0;32m--> 588\u001b[0;31m         \u001b[0mjob\u001b[0m \u001b[0;34m=\u001b[0m \u001b[0mself\u001b[0m\u001b[0;34m.\u001b[0m\u001b[0m_backend\u001b[0m\u001b[0;34m.\u001b[0m\u001b[0mapply_async\u001b[0m\u001b[0;34m(\u001b[0m\u001b[0mbatch\u001b[0m\u001b[0;34m,\u001b[0m \u001b[0mcallback\u001b[0m\u001b[0;34m=\u001b[0m\u001b[0mcb\u001b[0m\u001b[0;34m)\u001b[0m\u001b[0;34m\u001b[0m\u001b[0m\n\u001b[0m\u001b[1;32m    589\u001b[0m         \u001b[0mself\u001b[0m\u001b[0;34m.\u001b[0m\u001b[0m_jobs\u001b[0m\u001b[0;34m.\u001b[0m\u001b[0mappend\u001b[0m\u001b[0;34m(\u001b[0m\u001b[0mjob\u001b[0m\u001b[0;34m)\u001b[0m\u001b[0;34m\u001b[0m\u001b[0m\n\u001b[1;32m    590\u001b[0m \u001b[0;34m\u001b[0m\u001b[0m\n",
      "\u001b[0;32m/miniconda3/lib/python3.5/site-packages/sklearn/externals/joblib/_parallel_backends.py\u001b[0m in \u001b[0;36mapply_async\u001b[0;34m(self, func, callback)\u001b[0m\n\u001b[1;32m    109\u001b[0m     \u001b[0;32mdef\u001b[0m \u001b[0mapply_async\u001b[0m\u001b[0;34m(\u001b[0m\u001b[0mself\u001b[0m\u001b[0;34m,\u001b[0m \u001b[0mfunc\u001b[0m\u001b[0;34m,\u001b[0m \u001b[0mcallback\u001b[0m\u001b[0;34m=\u001b[0m\u001b[0;32mNone\u001b[0m\u001b[0;34m)\u001b[0m\u001b[0;34m:\u001b[0m\u001b[0;34m\u001b[0m\u001b[0m\n\u001b[1;32m    110\u001b[0m         \u001b[0;34m\"\"\"Schedule a func to be run\"\"\"\u001b[0m\u001b[0;34m\u001b[0m\u001b[0m\n\u001b[0;32m--> 111\u001b[0;31m         \u001b[0mresult\u001b[0m \u001b[0;34m=\u001b[0m \u001b[0mImmediateResult\u001b[0m\u001b[0;34m(\u001b[0m\u001b[0mfunc\u001b[0m\u001b[0;34m)\u001b[0m\u001b[0;34m\u001b[0m\u001b[0m\n\u001b[0m\u001b[1;32m    112\u001b[0m         \u001b[0;32mif\u001b[0m \u001b[0mcallback\u001b[0m\u001b[0;34m:\u001b[0m\u001b[0;34m\u001b[0m\u001b[0m\n\u001b[1;32m    113\u001b[0m             \u001b[0mcallback\u001b[0m\u001b[0;34m(\u001b[0m\u001b[0mresult\u001b[0m\u001b[0;34m)\u001b[0m\u001b[0;34m\u001b[0m\u001b[0m\n",
      "\u001b[0;32m/miniconda3/lib/python3.5/site-packages/sklearn/externals/joblib/_parallel_backends.py\u001b[0m in \u001b[0;36m__init__\u001b[0;34m(self, batch)\u001b[0m\n\u001b[1;32m    330\u001b[0m         \u001b[0;31m# Don't delay the application, to avoid keeping the input\u001b[0m\u001b[0;34m\u001b[0m\u001b[0;34m\u001b[0m\u001b[0m\n\u001b[1;32m    331\u001b[0m         \u001b[0;31m# arguments in memory\u001b[0m\u001b[0;34m\u001b[0m\u001b[0;34m\u001b[0m\u001b[0m\n\u001b[0;32m--> 332\u001b[0;31m         \u001b[0mself\u001b[0m\u001b[0;34m.\u001b[0m\u001b[0mresults\u001b[0m \u001b[0;34m=\u001b[0m \u001b[0mbatch\u001b[0m\u001b[0;34m(\u001b[0m\u001b[0;34m)\u001b[0m\u001b[0;34m\u001b[0m\u001b[0m\n\u001b[0m\u001b[1;32m    333\u001b[0m \u001b[0;34m\u001b[0m\u001b[0m\n\u001b[1;32m    334\u001b[0m     \u001b[0;32mdef\u001b[0m \u001b[0mget\u001b[0m\u001b[0;34m(\u001b[0m\u001b[0mself\u001b[0m\u001b[0;34m)\u001b[0m\u001b[0;34m:\u001b[0m\u001b[0;34m\u001b[0m\u001b[0m\n",
      "\u001b[0;32m/miniconda3/lib/python3.5/site-packages/sklearn/externals/joblib/parallel.py\u001b[0m in \u001b[0;36m__call__\u001b[0;34m(self)\u001b[0m\n\u001b[1;32m    129\u001b[0m \u001b[0;34m\u001b[0m\u001b[0m\n\u001b[1;32m    130\u001b[0m     \u001b[0;32mdef\u001b[0m \u001b[0m__call__\u001b[0m\u001b[0;34m(\u001b[0m\u001b[0mself\u001b[0m\u001b[0;34m)\u001b[0m\u001b[0;34m:\u001b[0m\u001b[0;34m\u001b[0m\u001b[0m\n\u001b[0;32m--> 131\u001b[0;31m         \u001b[0;32mreturn\u001b[0m \u001b[0;34m[\u001b[0m\u001b[0mfunc\u001b[0m\u001b[0;34m(\u001b[0m\u001b[0;34m*\u001b[0m\u001b[0margs\u001b[0m\u001b[0;34m,\u001b[0m \u001b[0;34m**\u001b[0m\u001b[0mkwargs\u001b[0m\u001b[0;34m)\u001b[0m \u001b[0;32mfor\u001b[0m \u001b[0mfunc\u001b[0m\u001b[0;34m,\u001b[0m \u001b[0margs\u001b[0m\u001b[0;34m,\u001b[0m \u001b[0mkwargs\u001b[0m \u001b[0;32min\u001b[0m \u001b[0mself\u001b[0m\u001b[0;34m.\u001b[0m\u001b[0mitems\u001b[0m\u001b[0;34m]\u001b[0m\u001b[0;34m\u001b[0m\u001b[0m\n\u001b[0m\u001b[1;32m    132\u001b[0m \u001b[0;34m\u001b[0m\u001b[0m\n\u001b[1;32m    133\u001b[0m     \u001b[0;32mdef\u001b[0m \u001b[0m__len__\u001b[0m\u001b[0;34m(\u001b[0m\u001b[0mself\u001b[0m\u001b[0;34m)\u001b[0m\u001b[0;34m:\u001b[0m\u001b[0;34m\u001b[0m\u001b[0m\n",
      "\u001b[0;32m/miniconda3/lib/python3.5/site-packages/sklearn/externals/joblib/parallel.py\u001b[0m in \u001b[0;36m<listcomp>\u001b[0;34m(.0)\u001b[0m\n\u001b[1;32m    129\u001b[0m \u001b[0;34m\u001b[0m\u001b[0m\n\u001b[1;32m    130\u001b[0m     \u001b[0;32mdef\u001b[0m \u001b[0m__call__\u001b[0m\u001b[0;34m(\u001b[0m\u001b[0mself\u001b[0m\u001b[0;34m)\u001b[0m\u001b[0;34m:\u001b[0m\u001b[0;34m\u001b[0m\u001b[0m\n\u001b[0;32m--> 131\u001b[0;31m         \u001b[0;32mreturn\u001b[0m \u001b[0;34m[\u001b[0m\u001b[0mfunc\u001b[0m\u001b[0;34m(\u001b[0m\u001b[0;34m*\u001b[0m\u001b[0margs\u001b[0m\u001b[0;34m,\u001b[0m \u001b[0;34m**\u001b[0m\u001b[0mkwargs\u001b[0m\u001b[0;34m)\u001b[0m \u001b[0;32mfor\u001b[0m \u001b[0mfunc\u001b[0m\u001b[0;34m,\u001b[0m \u001b[0margs\u001b[0m\u001b[0;34m,\u001b[0m \u001b[0mkwargs\u001b[0m \u001b[0;32min\u001b[0m \u001b[0mself\u001b[0m\u001b[0;34m.\u001b[0m\u001b[0mitems\u001b[0m\u001b[0;34m]\u001b[0m\u001b[0;34m\u001b[0m\u001b[0m\n\u001b[0m\u001b[1;32m    132\u001b[0m \u001b[0;34m\u001b[0m\u001b[0m\n\u001b[1;32m    133\u001b[0m     \u001b[0;32mdef\u001b[0m \u001b[0m__len__\u001b[0m\u001b[0;34m(\u001b[0m\u001b[0mself\u001b[0m\u001b[0;34m)\u001b[0m\u001b[0;34m:\u001b[0m\u001b[0;34m\u001b[0m\u001b[0m\n",
      "\u001b[0;32m/miniconda3/lib/python3.5/site-packages/sklearn/ensemble/forest.py\u001b[0m in \u001b[0;36m_parallel_build_trees\u001b[0;34m(tree, forest, X, y, sample_weight, tree_idx, n_trees, verbose, class_weight)\u001b[0m\n\u001b[1;32m    119\u001b[0m             \u001b[0mcurr_sample_weight\u001b[0m \u001b[0;34m*=\u001b[0m \u001b[0mcompute_sample_weight\u001b[0m\u001b[0;34m(\u001b[0m\u001b[0;34m'balanced'\u001b[0m\u001b[0;34m,\u001b[0m \u001b[0my\u001b[0m\u001b[0;34m,\u001b[0m \u001b[0mindices\u001b[0m\u001b[0;34m)\u001b[0m\u001b[0;34m\u001b[0m\u001b[0m\n\u001b[1;32m    120\u001b[0m \u001b[0;34m\u001b[0m\u001b[0m\n\u001b[0;32m--> 121\u001b[0;31m         \u001b[0mtree\u001b[0m\u001b[0;34m.\u001b[0m\u001b[0mfit\u001b[0m\u001b[0;34m(\u001b[0m\u001b[0mX\u001b[0m\u001b[0;34m,\u001b[0m \u001b[0my\u001b[0m\u001b[0;34m,\u001b[0m \u001b[0msample_weight\u001b[0m\u001b[0;34m=\u001b[0m\u001b[0mcurr_sample_weight\u001b[0m\u001b[0;34m,\u001b[0m \u001b[0mcheck_input\u001b[0m\u001b[0;34m=\u001b[0m\u001b[0;32mFalse\u001b[0m\u001b[0;34m)\u001b[0m\u001b[0;34m\u001b[0m\u001b[0m\n\u001b[0m\u001b[1;32m    122\u001b[0m     \u001b[0;32melse\u001b[0m\u001b[0;34m:\u001b[0m\u001b[0;34m\u001b[0m\u001b[0m\n\u001b[1;32m    123\u001b[0m         \u001b[0mtree\u001b[0m\u001b[0;34m.\u001b[0m\u001b[0mfit\u001b[0m\u001b[0;34m(\u001b[0m\u001b[0mX\u001b[0m\u001b[0;34m,\u001b[0m \u001b[0my\u001b[0m\u001b[0;34m,\u001b[0m \u001b[0msample_weight\u001b[0m\u001b[0;34m=\u001b[0m\u001b[0msample_weight\u001b[0m\u001b[0;34m,\u001b[0m \u001b[0mcheck_input\u001b[0m\u001b[0;34m=\u001b[0m\u001b[0;32mFalse\u001b[0m\u001b[0;34m)\u001b[0m\u001b[0;34m\u001b[0m\u001b[0m\n",
      "\u001b[0;32m/miniconda3/lib/python3.5/site-packages/sklearn/tree/tree.py\u001b[0m in \u001b[0;36mfit\u001b[0;34m(self, X, y, sample_weight, check_input, X_idx_sorted)\u001b[0m\n\u001b[1;32m    788\u001b[0m             \u001b[0msample_weight\u001b[0m\u001b[0;34m=\u001b[0m\u001b[0msample_weight\u001b[0m\u001b[0;34m,\u001b[0m\u001b[0;34m\u001b[0m\u001b[0m\n\u001b[1;32m    789\u001b[0m             \u001b[0mcheck_input\u001b[0m\u001b[0;34m=\u001b[0m\u001b[0mcheck_input\u001b[0m\u001b[0;34m,\u001b[0m\u001b[0;34m\u001b[0m\u001b[0m\n\u001b[0;32m--> 790\u001b[0;31m             X_idx_sorted=X_idx_sorted)\n\u001b[0m\u001b[1;32m    791\u001b[0m         \u001b[0;32mreturn\u001b[0m \u001b[0mself\u001b[0m\u001b[0;34m\u001b[0m\u001b[0m\n\u001b[1;32m    792\u001b[0m \u001b[0;34m\u001b[0m\u001b[0m\n",
      "\u001b[0;32m/miniconda3/lib/python3.5/site-packages/sklearn/tree/tree.py\u001b[0m in \u001b[0;36mfit\u001b[0;34m(self, X, y, sample_weight, check_input, X_idx_sorted)\u001b[0m\n\u001b[1;32m    360\u001b[0m                                            min_impurity_split)\n\u001b[1;32m    361\u001b[0m \u001b[0;34m\u001b[0m\u001b[0m\n\u001b[0;32m--> 362\u001b[0;31m         \u001b[0mbuilder\u001b[0m\u001b[0;34m.\u001b[0m\u001b[0mbuild\u001b[0m\u001b[0;34m(\u001b[0m\u001b[0mself\u001b[0m\u001b[0;34m.\u001b[0m\u001b[0mtree_\u001b[0m\u001b[0;34m,\u001b[0m \u001b[0mX\u001b[0m\u001b[0;34m,\u001b[0m \u001b[0my\u001b[0m\u001b[0;34m,\u001b[0m \u001b[0msample_weight\u001b[0m\u001b[0;34m,\u001b[0m \u001b[0mX_idx_sorted\u001b[0m\u001b[0;34m)\u001b[0m\u001b[0;34m\u001b[0m\u001b[0m\n\u001b[0m\u001b[1;32m    363\u001b[0m \u001b[0;34m\u001b[0m\u001b[0m\n\u001b[1;32m    364\u001b[0m         \u001b[0;32mif\u001b[0m \u001b[0mself\u001b[0m\u001b[0;34m.\u001b[0m\u001b[0mn_outputs_\u001b[0m \u001b[0;34m==\u001b[0m \u001b[0;36m1\u001b[0m\u001b[0;34m:\u001b[0m\u001b[0;34m\u001b[0m\u001b[0m\n",
      "\u001b[0;31mKeyboardInterrupt\u001b[0m: "
     ]
    }
   ],
   "source": [
    "forest = RandomForestClassifier(n_estimators = 600, max_depth=12)\n",
    "\n",
    "forest.fit(X_train, y_train)\n",
    "y_pred_forest = forest.predict(X_test)"
   ]
  },
  {
   "cell_type": "code",
   "execution_count": 2182,
   "metadata": {
    "hidden": true
   },
   "outputs": [],
   "source": [
    "# Tune hyperparameters\n",
    "\n",
    "param_grid_forest = {\n",
    "                 'n_estimators': range(100, 900, 100),\n",
    "                 'max_depth': range(4, 20, 2),\n",
    "             }\n",
    "\n",
    "forest = RandomizedSearchCV(forest, param_grid_forest, n_iter=20, cv=2, scoring=auc_score, verbose=True)\n",
    "forest.fit(X_train, y_train)"
   ]
  },
  {
   "cell_type": "code",
   "execution_count": 2179,
   "metadata": {
    "hidden": true
   },
   "outputs": [
    {
     "name": "stdout",
     "output_type": "stream",
     "text": [
      "Fitting 2 folds for each of 20 candidates, totalling 40 fits\n"
     ]
    },
    {
     "name": "stderr",
     "output_type": "stream",
     "text": [
      "[Parallel(n_jobs=1)]: Using backend SequentialBackend with 1 concurrent workers.\n",
      "[Parallel(n_jobs=1)]: Done  40 out of  40 | elapsed: 107.4min finished\n"
     ]
    },
    {
     "data": {
      "text/plain": [
       "RandomizedSearchCV(cv=2, error_score='raise-deprecating',\n",
       "          estimator=RandomForestClassifier(bootstrap=True, class_weight=None, criterion='gini',\n",
       "            max_depth=12, max_features='auto', max_leaf_nodes=None,\n",
       "            min_impurity_decrease=0.0, min_impurity_split=None,\n",
       "            min_samples_leaf=1, min_samples_split=2,\n",
       "            min_weight_fraction_leaf=0.0, n_estimators=40, n_jobs=None,\n",
       "            oob_score=False, random_state=None, verbose=0,\n",
       "            warm_start=False),\n",
       "          fit_params=None, iid='warn', n_iter=20, n_jobs=None,\n",
       "          param_distributions={'max_depth': range(4, 20, 2), 'n_estimators': range(100, 900, 100)},\n",
       "          pre_dispatch='2*n_jobs', random_state=None, refit=True,\n",
       "          return_train_score='warn', scoring=make_scorer(roc_auc_score),\n",
       "          verbose=True)"
      ]
     },
     "execution_count": 2179,
     "metadata": {},
     "output_type": "execute_result"
    }
   ],
   "source": []
  },
  {
   "cell_type": "code",
   "execution_count": 2180,
   "metadata": {
    "hidden": true
   },
   "outputs": [
    {
     "data": {
      "text/plain": [
       "{'max_depth': 18, 'n_estimators': 600}"
      ]
     },
     "execution_count": 2180,
     "metadata": {},
     "output_type": "execute_result"
    }
   ],
   "source": [
    "forest.best_params_"
   ]
  },
  {
   "cell_type": "code",
   "execution_count": 2290,
   "metadata": {
    "hidden": true
   },
   "outputs": [
    {
     "name": "stdout",
     "output_type": "stream",
     "text": [
      "Forest AUC: 0.6546593833089668\n",
      "Forest F1 Score: 0.263679508654383\n",
      "Forest F 1.5 Score: 0.33407702667773137\n",
      "Forest Recall: 0.5832046928064217\n",
      "Forest Precision: 0.1703489944990531\n",
      "Forest Accuracy: 0.6395626921762897\n"
     ]
    }
   ],
   "source": [
    "# Optimized Random Forest Scores\n",
    "# Highest AUC of all models\n",
    "\n",
    "y_proba_forest = forest.predict_proba(X_test)[:,1]\n",
    "fpr_ros_forest, tpr_ros_forest, thresh = roc_curve(y_test, y_proba_forest)\n",
    "print('Forest AUC:', auc(fpr_ros_forest, tpr_ros_forest))\n",
    "print('Forest F1 Score:', f1_score(y_test, y_pred_forest))\n",
    "print('Forest F 1.5 Score:', fbeta_score(y_test, y_pred_forest, 1.5))\n",
    "print('Forest Recall:', recall_score(y_test, y_pred_forest))\n",
    "print('Forest Precision:', precision_score(y_test, y_pred_forest))\n",
    "print('Forest Accuracy:', accuracy_score(y_test, y_pred_forest))"
   ]
  },
  {
   "cell_type": "code",
   "execution_count": 130,
   "metadata": {
    "ExecuteTime": {
     "end_time": "2019-12-27T16:46:36.534072Z",
     "start_time": "2019-12-27T16:46:36.508090Z"
    },
    "hidden": true
   },
   "outputs": [
    {
     "ename": "NameError",
     "evalue": "name 'y_pred_forest' is not defined",
     "output_type": "error",
     "traceback": [
      "\u001b[0;31m---------------------------------------------------------------------------\u001b[0m",
      "\u001b[0;31mNameError\u001b[0m                                 Traceback (most recent call last)",
      "\u001b[0;32m<ipython-input-130-07826ab484af>\u001b[0m in \u001b[0;36m<module>\u001b[0;34m()\u001b[0m\n\u001b[1;32m      7\u001b[0m \u001b[0mplt\u001b[0m\u001b[0;34m.\u001b[0m\u001b[0mfigure\u001b[0m\u001b[0;34m(\u001b[0m\u001b[0mfigsize\u001b[0m\u001b[0;34m=\u001b[0m\u001b[0;34m(\u001b[0m\u001b[0;36m12\u001b[0m\u001b[0;34m,\u001b[0m \u001b[0;36m7\u001b[0m\u001b[0;34m)\u001b[0m\u001b[0;34m)\u001b[0m\u001b[0;34m\u001b[0m\u001b[0m\n\u001b[1;32m      8\u001b[0m \u001b[0;34m\u001b[0m\u001b[0m\n\u001b[0;32m----> 9\u001b[0;31m \u001b[0mcm_forest\u001b[0m \u001b[0;34m=\u001b[0m \u001b[0mconfusion_matrix\u001b[0m\u001b[0;34m(\u001b[0m\u001b[0my_test\u001b[0m\u001b[0;34m,\u001b[0m \u001b[0my_pred_forest\u001b[0m\u001b[0;34m)\u001b[0m\u001b[0;34m\u001b[0m\u001b[0m\n\u001b[0m\u001b[1;32m     10\u001b[0m ax = sns.heatmap(cm_forest, annot=True, cbar=True, \n\u001b[1;32m     11\u001b[0m                  xticklabels = ['Not Readmitted', 'Readmitted < 30 Days'])\n",
      "\u001b[0;31mNameError\u001b[0m: name 'y_pred_forest' is not defined"
     ]
    },
    {
     "data": {
      "text/plain": [
       "<Figure size 864x504 with 0 Axes>"
      ]
     },
     "metadata": {},
     "output_type": "display_data"
    }
   ],
   "source": [
    "'''\n",
    "Random Forest confusion matrix. This is the best distribution. \n",
    "High false positive rate is okay. The model optimizes for recall and AUC.\n",
    "Captures ~58% of readmissions. Don't want patients to slip through the cracks. \n",
    "'''\n",
    "\n",
    "plt.figure(figsize=(12, 7))\n",
    "\n",
    "cm_forest = confusion_matrix(y_test, y_pred_forest)\n",
    "ax = sns.heatmap(cm_forest, annot=True, cbar=True, \n",
    "                 xticklabels = ['Not Readmitted', 'Readmitted < 30 Days'])\n",
    "ax.tick_params(labelsize=14)\n",
    "# plt.title('Random Forest Confusion Matrix', fontsize=16, fontweight='bold')\n",
    "plt.xlabel('Predicted', fontsize=16, labelpad=15)\n",
    "plt.ylabel('Actual', fontsize=16, labelpad=15);\n",
    "\n",
    "plt.savefig('RandomForestConfusionMatrix.png', bbox_inches='tight')"
   ]
  },
  {
   "cell_type": "code",
   "execution_count": 2315,
   "metadata": {
    "hidden": true
   },
   "outputs": [
    {
     "data": {
      "text/plain": [
       "[('Discharged_to_Skilled_nursing_facility', 0.020113603691767),\n",
       " ('num_procedures', 0.02139036212792381),\n",
       " ('Discharged_to_Rehab_facility', 0.03807291151320674),\n",
       " ('time_in_hospital', 0.03869279557055914),\n",
       " ('num_lab_procedures', 0.03977941844765784),\n",
       " ('number_diagnoses', 0.04187809881564961),\n",
       " ('num_medications', 0.045026106484192446),\n",
       " ('number_emergency', 0.046211189709964864),\n",
       " ('Discharged_to_Home', 0.07090299229220956),\n",
       " ('number_inpatient', 0.20739320640418973)]"
      ]
     },
     "execution_count": 2315,
     "metadata": {},
     "output_type": "execute_result"
    }
   ],
   "source": [
    "# Most Important Features in Random Forest Model\n",
    "\n",
    "feat_importance = []\n",
    "\n",
    "for feature in zip(df.columns, forest.feature_importances_):\n",
    "    feat_importance.append(feature)\n",
    "    \n",
    "most_important_features = sorted(feat_importance, key = lambda x: x[1])[-10:]\n",
    "most_important_features"
   ]
  },
  {
   "cell_type": "code",
   "execution_count": 2631,
   "metadata": {
    "hidden": true
   },
   "outputs": [],
   "source": [
    "# Feature Importance for Random Forest\n",
    "    \n",
    "most_important_features_forest = pd.DataFrame(most_important_features,\n",
    "                                             columns=['Feature', 'Importance'])\n",
    "\n",
    "most_important_features_forest.iloc[::-1]\n",
    "most_important_features_forest.iloc[0, 0] = 'Discharged to Skilled Nursing Facility'\n",
    "most_important_features_forest.iloc[1, 0] = 'Number of Medical Procedures During Encounter'\n",
    "most_important_features_forest.iloc[2, 0] = 'Discharged to Rehab Facility'\n",
    "most_important_features_forest.iloc[3, 0] = 'Time Spent in Hospital'\n",
    "most_important_features_forest.iloc[4, 0] = 'Number of Lab Procedures During Encounter'\n",
    "most_important_features_forest.iloc[5, 0] = 'Number of Diagnoses in Patient Chart'\n",
    "most_important_features_forest.iloc[6, 0] = 'Number of Medications Administered During Encounter'\n",
    "most_important_features_forest.iloc[7, 0] = 'Number of ER Visits Prior to Encounter'\n",
    "most_important_features_forest.iloc[8, 0] = 'Discharged Home'\n",
    "most_important_features_forest.iloc[9, 0] = 'Number of Inpatient Visits Prior to Encounter'\n",
    "\n",
    "most_important_features_forest = most_important_features_forest.iloc[::-1]\n",
    "\n"
   ]
  },
  {
   "cell_type": "code",
   "execution_count": 2632,
   "metadata": {
    "hidden": true
   },
   "outputs": [
    {
     "data": {
      "image/png": "[encoded data removed]",
      "text/plain": [
       "<Figure size 864x504 with 1 Axes>"
      ]
     },
     "metadata": {},
     "output_type": "display_data"
    }
   ],
   "source": [
    "plt.figure(figsize=(12, 7))\n",
    "\n",
    "sns.set(style='dark')\n",
    "ax = sns.barplot(x='Importance', y='Feature', data=most_important_features_forest, palette='rocket')\n",
    "\n",
    "\n",
    "# plt.title('Top Features in Random Forest Model', fontsize=16, fontweight='bold')\n",
    "plt.xlabel('Importance', fontsize=16, labelpad=15)\n",
    "plt.ylabel(None)\n",
    "plt.xticks(fontweight=600)\n",
    "plt.yticks(fontweight=600)\n",
    "ax.tick_params(labelsize=10);\n",
    "\n",
    "plt.savefig('RandomForestFeatureImportance.png', bbox_inches='tight')"
   ]
  },
  {
   "cell_type": "markdown",
   "metadata": {
    "heading_collapsed": true
   },
   "source": [
    "### XGBoost"
   ]
  },
  {
   "cell_type": "code",
   "execution_count": 2369,
   "metadata": {
    "hidden": true
   },
   "outputs": [],
   "source": [
    "boost = xgb.XGBClassifier(n_estimators=700, \n",
    "                        max_depth=18,\n",
    "                        objective='binary:logistic', #new objective\n",
    "                        learning_rate=.05, \n",
    "                        subsample=.9,\n",
    "                        min_child_weight=1,\n",
    "                        colsample_bytree=.8)"
   ]
  },
  {
   "cell_type": "code",
   "execution_count": 2370,
   "metadata": {
    "hidden": true,
    "scrolled": true
   },
   "outputs": [
    {
     "data": {
      "text/plain": [
       "XGBClassifier(base_score=0.5, booster='gbtree', colsample_bylevel=1,\n",
       "       colsample_bytree=0.8, gamma=0, learning_rate=0.05, max_delta_step=0,\n",
       "       max_depth=18, min_child_weight=1, missing=None, n_estimators=700,\n",
       "       n_jobs=1, nthread=None, objective='binary:logistic', random_state=0,\n",
       "       reg_alpha=0, reg_lambda=1, scale_pos_weight=1, seed=None,\n",
       "       silent=True, subsample=0.9)"
      ]
     },
     "execution_count": 2370,
     "metadata": {},
     "output_type": "execute_result"
    }
   ],
   "source": [
    "boost.fit(X_train, y_train,\n",
    "        eval_metric='auc')"
   ]
  },
  {
   "cell_type": "code",
   "execution_count": 2378,
   "metadata": {
    "hidden": true
   },
   "outputs": [],
   "source": [
    "# Tune hyperparameters\n",
    "\n",
    "param_grid_boost = {\n",
    "    'max_depth': range(6, 12, 4),\n",
    "    'learning_rate': [.01, .02, .03, .04, .05],\n",
    "    'min_child_weight': [1, 2, 3],\n",
    "}\n",
    "\n",
    "boost = RandomizedSearchCV(boost, param_grid_boost, n_iter=15, cv=2, scoring='roc_auc', verbose=True)\n",
    "boost.fit(X_train, y_train)"
   ]
  },
  {
   "cell_type": "code",
   "execution_count": null,
   "metadata": {
    "hidden": true
   },
   "outputs": [],
   "source": [
    "boost.best_params_"
   ]
  },
  {
   "cell_type": "code",
   "execution_count": null,
   "metadata": {
    "hidden": true
   },
   "outputs": [],
   "source": [
    "y_pred_boost = boost.predict(X_test)\n",
    "y_proba_boost = boost.predict_proba(X_test)[:,1]\n",
    "fpr_ros_boost, tpr_ros_boost, thresh = roc_curve(y_test, y_proba_boost)"
   ]
  },
  {
   "cell_type": "code",
   "execution_count": null,
   "metadata": {
    "hidden": true
   },
   "outputs": [],
   "source": [
    "print('Boost AUC:', auc(fpr_ros_boost, tpr_ros_boost))\n",
    "print('Boost F1 Score:', f1_score(y_test, y_pred_boost))\n",
    "print('Boost F 1.5 Score:', fbeta_score(y_test, y_pred_boost, 1.5))\n",
    "print('Boost Recall:', recall_score(y_test, y_pred_boost))\n",
    "print('Boost Precision:', precision_score(y_test, y_pred_boost))\n",
    "print('Boost Accuracy:', accuracy_score(y_test, y_pred_boost))"
   ]
  },
  {
   "cell_type": "markdown",
   "metadata": {
    "heading_collapsed": true
   },
   "source": [
    "### Confusion Matrices"
   ]
  },
  {
   "cell_type": "code",
   "execution_count": 2429,
   "metadata": {
    "hidden": true
   },
   "outputs": [
    {
     "data": {
      "image/png": "[encoded data removed]",
      "text/plain": [
       "<Figure size 720x432 with 2 Axes>"
      ]
     },
     "metadata": {},
     "output_type": "display_data"
    }
   ],
   "source": [
    "plt.figure(figsize=(10, 6))\n",
    "\n",
    "cm_boost = confusion_matrix(y_test, y_pred_boost)\n",
    "ax = sns.heatmap(cm_boost, annot=True)\n",
    "ax.set(title = 'GBM Confusion Matrix', xlabel='Predicted', ylabel='Actual');"
   ]
  },
  {
   "cell_type": "markdown",
   "metadata": {
    "heading_collapsed": true
   },
   "source": [
    "### Make a table with scores for each model"
   ]
  },
  {
   "cell_type": "code",
   "execution_count": 2362,
   "metadata": {
    "hidden": true
   },
   "outputs": [],
   "source": [
    "# Assign scoring metrics for promising models\n",
    "\n",
    "model_list = [logistic_model, bayes_model, tree, forest, gbm] # Get rid of KNN for efficiency's sake\n",
    "\n",
    "accuracy = []\n",
    "precision = []\n",
    "recall = []\n",
    "f1 = []\n",
    "cross_val = []\n",
    "\n",
    "def modelScores(models):\n",
    "    for model in models:\n",
    "\n",
    "        model.fit(X_train, y_train)\n",
    "        y_pred = model.predict(X_test)\n",
    "        accuracy.append(accuracy_score(y_test, y_pred))\n",
    "        precision.append(precision_score(y_test, y_pred))\n",
    "        recall.append(recall_score(y_test, y_pred))\n",
    "        f1.append(f1_score(y_test, y_pred))\n",
    "        cross_val.append(np.mean(cross_val_score(model, X, y)))\n",
    "    \n",
    "    return accuracy, precision, recall, f1, cross_val\n",
    "\n",
    "scores = modelScores(model_list)"
   ]
  },
  {
   "cell_type": "code",
   "execution_count": 2363,
   "metadata": {
    "hidden": true
   },
   "outputs": [
    {
     "data": {
      "text/html": [
       "<div>\n",
       "<style scoped>\n",
       "    .dataframe tbody tr th:only-of-type {\n",
       "        vertical-align: middle;\n",
       "    }\n",
       "\n",
       "    .dataframe tbody tr th {\n",
       "        vertical-align: top;\n",
       "    }\n",
       "\n",
       "    .dataframe thead th {\n",
       "        text-align: right;\n",
       "    }\n",
       "</style>\n",
       "<table border=\"1\" class=\"dataframe\">\n",
       "  <thead>\n",
       "    <tr style=\"text-align: right;\">\n",
       "      <th></th>\n",
       "      <th>Accuracy</th>\n",
       "      <th>Precision</th>\n",
       "      <th>Recall</th>\n",
       "      <th>F1</th>\n",
       "      <th>Cross_val_score</th>\n",
       "    </tr>\n",
       "  </thead>\n",
       "  <tbody>\n",
       "    <tr>\n",
       "      <th>Logistic Regression</th>\n",
       "      <td>0.116877</td>\n",
       "      <td>0.111031</td>\n",
       "      <td>0.996295</td>\n",
       "      <td>0.199796</td>\n",
       "      <td>0.718400</td>\n",
       "    </tr>\n",
       "    <tr>\n",
       "      <th>Naive Bayes</th>\n",
       "      <td>0.889272</td>\n",
       "      <td>0.250000</td>\n",
       "      <td>0.000309</td>\n",
       "      <td>0.000617</td>\n",
       "      <td>0.147318</td>\n",
       "    </tr>\n",
       "    <tr>\n",
       "      <th>Decision Tree</th>\n",
       "      <td>0.559652</td>\n",
       "      <td>0.149601</td>\n",
       "      <td>0.635999</td>\n",
       "      <td>0.242225</td>\n",
       "      <td>0.884927</td>\n",
       "    </tr>\n",
       "    <tr>\n",
       "      <th>Random Forest</th>\n",
       "      <td>0.639460</td>\n",
       "      <td>0.170541</td>\n",
       "      <td>0.584440</td>\n",
       "      <td>0.264035</td>\n",
       "      <td>0.887212</td>\n",
       "    </tr>\n",
       "    <tr>\n",
       "      <th>Gradient Boost</th>\n",
       "      <td>0.805569</td>\n",
       "      <td>0.214352</td>\n",
       "      <td>0.284038</td>\n",
       "      <td>0.244323</td>\n",
       "      <td>0.887233</td>\n",
       "    </tr>\n",
       "  </tbody>\n",
       "</table>\n",
       "</div>"
      ],
      "text/plain": [
       "                     Accuracy  Precision    Recall        F1  Cross_val_score\n",
       "Logistic Regression  0.116877   0.111031  0.996295  0.199796         0.718400\n",
       "Naive Bayes          0.889272   0.250000  0.000309  0.000617         0.147318\n",
       "Decision Tree        0.559652   0.149601  0.635999  0.242225         0.884927\n",
       "Random Forest        0.639460   0.170541  0.584440  0.264035         0.887212\n",
       "Gradient Boost       0.805569   0.214352  0.284038  0.244323         0.887233"
      ]
     },
     "execution_count": 2363,
     "metadata": {},
     "output_type": "execute_result"
    }
   ],
   "source": [
    "# Convert lists to DataFrame\n",
    "\n",
    "score_df = pd.DataFrame(list(scores))\n",
    "score_df = score_df.T\n",
    "                    \n",
    "score_df.index=['Logistic Regression', 'Naive Bayes', 'Decision Tree', 'Random Forest', 'Gradient Boost']\n",
    "score_df.columns=['Accuracy', 'Precision', 'Recall', 'F1', 'Cross_val_score']\n",
    "\n",
    "score_df"
   ]
  },
  {
   "cell_type": "code",
   "execution_count": 2384,
   "metadata": {
    "hidden": true
   },
   "outputs": [],
   "source": [
    "# Assign AUC for each promising model\n",
    "\n",
    "fpr_values = []\n",
    "tpr_values = []\n",
    "auc_values = []\n",
    "\n",
    "def modelProba(models):\n",
    "\n",
    "    for model in models:\n",
    "        y_proba = model.predict_proba(X_test)[:,1]\n",
    "        fpr, tpr, thresh = roc_curve(y_test, y_proba)\n",
    "        fpr_values.append(fpr)\n",
    "        tpr_values.append(tpr)\n",
    "        auc_values.append(auc(fpr, tpr))\n",
    "    \n",
    "    return auc_values\n",
    "\n",
    "proba = modelProba(model_list)"
   ]
  },
  {
   "cell_type": "code",
   "execution_count": 2385,
   "metadata": {
    "hidden": true
   },
   "outputs": [],
   "source": [
    "# Make a one column DataFrame with each model's AUC\n",
    "\n",
    "proba_df = pd.DataFrame(proba,\n",
    "                        index=['Logistic Regression', 'Naive Bayes', 'Decision Tree', 'Random Forest', 'Gradient Boost'],\n",
    "                        columns=['AUC'])"
   ]
  },
  {
   "cell_type": "code",
   "execution_count": 2386,
   "metadata": {
    "hidden": true
   },
   "outputs": [],
   "source": [
    "# Merge 'AUC' to original scoring metrics DataFrame\n",
    "\n",
    "all_scores = pd.concat([score_df, proba_df], axis=1)"
   ]
  },
  {
   "cell_type": "code",
   "execution_count": 2387,
   "metadata": {
    "hidden": true
   },
   "outputs": [
    {
     "data": {
      "text/html": [
       "<div>\n",
       "<style scoped>\n",
       "    .dataframe tbody tr th:only-of-type {\n",
       "        vertical-align: middle;\n",
       "    }\n",
       "\n",
       "    .dataframe tbody tr th {\n",
       "        vertical-align: top;\n",
       "    }\n",
       "\n",
       "    .dataframe thead th {\n",
       "        text-align: right;\n",
       "    }\n",
       "</style>\n",
       "<table border=\"1\" class=\"dataframe\">\n",
       "  <thead>\n",
       "    <tr style=\"text-align: right;\">\n",
       "      <th></th>\n",
       "      <th>Accuracy</th>\n",
       "      <th>Precision</th>\n",
       "      <th>Recall</th>\n",
       "      <th>F1</th>\n",
       "      <th>Cross_val_score</th>\n",
       "      <th>AUC</th>\n",
       "    </tr>\n",
       "  </thead>\n",
       "  <tbody>\n",
       "    <tr>\n",
       "      <th>Logistic Regression</th>\n",
       "      <td>0.116877</td>\n",
       "      <td>0.111031</td>\n",
       "      <td>0.996295</td>\n",
       "      <td>0.199796</td>\n",
       "      <td>0.718400</td>\n",
       "      <td>0.647699</td>\n",
       "    </tr>\n",
       "    <tr>\n",
       "      <th>Naive Bayes</th>\n",
       "      <td>0.889272</td>\n",
       "      <td>0.250000</td>\n",
       "      <td>0.000309</td>\n",
       "      <td>0.000617</td>\n",
       "      <td>0.147318</td>\n",
       "      <td>0.500097</td>\n",
       "    </tr>\n",
       "    <tr>\n",
       "      <th>Decision Tree</th>\n",
       "      <td>0.559652</td>\n",
       "      <td>0.149601</td>\n",
       "      <td>0.635999</td>\n",
       "      <td>0.242225</td>\n",
       "      <td>0.884927</td>\n",
       "      <td>0.629652</td>\n",
       "    </tr>\n",
       "    <tr>\n",
       "      <th>Random Forest</th>\n",
       "      <td>0.639460</td>\n",
       "      <td>0.170541</td>\n",
       "      <td>0.584440</td>\n",
       "      <td>0.264035</td>\n",
       "      <td>0.887212</td>\n",
       "      <td>0.654666</td>\n",
       "    </tr>\n",
       "    <tr>\n",
       "      <th>Gradient Boost</th>\n",
       "      <td>0.805569</td>\n",
       "      <td>0.214352</td>\n",
       "      <td>0.284038</td>\n",
       "      <td>0.244323</td>\n",
       "      <td>0.887233</td>\n",
       "      <td>0.637854</td>\n",
       "    </tr>\n",
       "  </tbody>\n",
       "</table>\n",
       "</div>"
      ],
      "text/plain": [
       "                     Accuracy  Precision    Recall        F1  Cross_val_score  \\\n",
       "Logistic Regression  0.116877   0.111031  0.996295  0.199796         0.718400   \n",
       "Naive Bayes          0.889272   0.250000  0.000309  0.000617         0.147318   \n",
       "Decision Tree        0.559652   0.149601  0.635999  0.242225         0.884927   \n",
       "Random Forest        0.639460   0.170541  0.584440  0.264035         0.887212   \n",
       "Gradient Boost       0.805569   0.214352  0.284038  0.244323         0.887233   \n",
       "\n",
       "                          AUC  \n",
       "Logistic Regression  0.647699  \n",
       "Naive Bayes          0.500097  \n",
       "Decision Tree        0.629652  \n",
       "Random Forest        0.654666  \n",
       "Gradient Boost       0.637854  "
      ]
     },
     "execution_count": 2387,
     "metadata": {},
     "output_type": "execute_result"
    }
   ],
   "source": [
    "all_scores"
   ]
  },
  {
   "cell_type": "code",
   "execution_count": 2388,
   "metadata": {
    "hidden": true
   },
   "outputs": [],
   "source": [
    "scores_csv = all_scores.to_csv('Diabetes_Model_Scores.csv', index=False) "
   ]
  },
  {
   "cell_type": "markdown",
   "metadata": {
    "heading_collapsed": true
   },
   "source": [
    "### Compare models"
   ]
  },
  {
   "cell_type": "code",
   "execution_count": 2580,
   "metadata": {
    "hidden": true
   },
   "outputs": [],
   "source": [
    "models = ['Logistic Regression', 'Naive Bayes', 'Decision Tree', 'Random Forest', 'XGBoost']"
   ]
  },
  {
   "cell_type": "code",
   "execution_count": 2581,
   "metadata": {
    "hidden": true
   },
   "outputs": [],
   "source": [
    "model_list = [logistic_model, bayes_model, tree, forest, gbm] # Get rid of KNN for efficiency's sake"
   ]
  },
  {
   "cell_type": "code",
   "execution_count": 2653,
   "metadata": {
    "hidden": true
   },
   "outputs": [
    {
     "data": {
      "image/png": "[encoded data removed]",
      "text/plain": [
       "<Figure size 864x504 with 1 Axes>"
      ]
     },
     "metadata": {},
     "output_type": "display_data"
    }
   ],
   "source": [
    "plt.figure(figsize=(12, 7))\n",
    "\n",
    "sns.set(style='white')\n",
    "sns.barplot(x = models, y = proba, data=proba_df, palette= 'winter');\n",
    "\n",
    "\n",
    "plt.xticks(fontsize=13)\n",
    "plt.yticks(fontsize=13)\n",
    "plt.xlabel('Models', labelpad=20, fontsize=16)\n",
    "plt.ylabel('AUC', rotation='0', labelpad=30, fontsize=16)\n",
    "# plt.title('AUC for different Models', fontsize=16, fontweight='bold')\n",
    "\n",
    "plt.savefig('AUC.png', bbox_inches='tight');"
   ]
  },
  {
   "cell_type": "code",
   "execution_count": 2588,
   "metadata": {
    "hidden": true
   },
   "outputs": [
    {
     "data": {
      "image/png": "[encoded data removed]",
      "text/plain": [
       "<Figure size 720x432 with 1 Axes>"
      ]
     },
     "metadata": {},
     "output_type": "display_data"
    }
   ],
   "source": [
    "plt.figure(figsize=(10,6))\n",
    "\n",
    "plt.plot(fpr_ros, tpr_ros) # logistic\n",
    "plt.plot(fpr_ros_forest, tpr_ros_forest) # random foreset\n",
    "plt.plot(fpr_ros_boost, tpr_ros_boost) # xgboost\n",
    "plt.plot(fpr_ros_tree, tpr_ros_tree) # decision tree\n",
    "plt.legend(['Logistic', 'Random Forest', 'Boost', 'Decision Tree']);"
   ]
  },
  {
   "cell_type": "code",
   "execution_count": null,
   "metadata": {
    "hidden": true
   },
   "outputs": [],
   "source": []
  }
 ],
 "metadata": {
  "kernelspec": {
   "display_name": "Python 3",
   "language": "python",
   "name": "python3"
  },
  "language_info": {
   "codemirror_mode": {
    "name": "ipython",
    "version": 3
   },
   "file_extension": ".py",
   "mimetype": "text/x-python",
   "name": "python",
   "nbconvert_exporter": "python",
   "pygments_lexer": "ipython3",
   "version": "3.5.6"
  },
  "toc": {
   "base_numbering": 1,
   "nav_menu": {},
   "number_sections": true,
   "sideBar": true,
   "skip_h1_title": false,
   "title_cell": "Table of Contents",
   "title_sidebar": "Contents",
   "toc_cell": false,
   "toc_position": {},
   "toc_section_display": true,
   "toc_window_display": false
  }
 },
 "nbformat": 4,
 "nbformat_minor": 2
}
